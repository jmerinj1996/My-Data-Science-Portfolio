{
 "cells": [
  {
   "attachments": {},
   "cell_type": "markdown",
   "metadata": {},
   "source": [
    "# Data Cleaning using Pandas and NumPy\n",
    "![cartoon-machine-learning-class](https://user-images.githubusercontent.com/40051540/86053707-81577880-ba1e-11ea-898f-2cbcd3cdfd05.jpg)\n",
    "PC: KDNuggets\n",
    "\n",
    "> Cleaning datasets is an integral part of being a Data Scientist. In fact, a lot of Data Scientists agree that obtaining and cleaning data is 80% of the job as a Data Scientist. It is important to know how to clean a dataset that has a number of Nan rows and columns and inconsistent formatting. Data in the real world is not always well-structured and model-training ready. It is also a very time consuming process, so learning the skills to cleverly use Pandas and NumPy can help you considerbly save time and get going with more intersting stuff!\n",
    "\n",
    "> In this notebook, we will do exactly that! We will look at how to clean a table accquired from **data.census.gov**. We are going to be working with the **POVERTY STATUS IN THE PAST 12 MONTHS Table Data**\n",
    "\n",
    ">We will cover the following:\n",
    "1. Importing csv file into pandas as DataFrames\n",
    "2. Dropping columns in a DataFrame\n",
    "2. Tiding up fields in the data whilst retaining information\n",
    "3. Filtering and selecting rows in Pandas\n",
    "4. Cleaning the entire dataset using the **apply** function\n",
    "5. Renaming columns to have more consistent names\n",
    "6. Reset and drop index of a DataFrame\n",
    "7. Converting columns to appropriate datatypes\n",
    "8. Visualozing the clean data set using Plotly\n",
    "\n",
    "## Table Information\n",
    "> Link : [Poverty Dataset](https://data.census.gov/cedsci/table?q=poverty%20&hidePreview=false&tid=ACSST1Y2018.S1701&t=Poverty&vintage=2018)\n",
    "\n",
    "> **POVERTY STATUS IN THE PAST 12 MONTHS**\n",
    ">* Survey/Program: American Community Survey\n",
    ">* Year: 2018\n",
    ">* Estimates: 1-Year\n",
    ">* Table ID: S1701"
   ]
  },
  {
   "cell_type": "code",
   "execution_count": 1,
   "metadata": {},
   "outputs": [],
   "source": [
    "import pandas as pd\n",
    "import numpy as np\n",
    "import warnings\n",
    "warnings.filterwarnings('ignore')"
   ]
  },
  {
   "cell_type": "code",
   "execution_count": 59,
   "metadata": {},
   "outputs": [],
   "source": [
    "# Data Visualization\n",
    "import matplotlib.pyplot as plt\n",
    "import seaborn as sns\n",
    "%matplotlib inline\n",
    "\n",
    "sns.set(style=\"darkgrid\")\n",
    "from plotly.offline import init_notebook_mode, iplot \n",
    "import plotly.graph_objs as go\n",
    "import plotly.offline as py\n",
    "from plotly.subplots import make_subplots\n",
    "import plotly.express as px"
   ]
  },
  {
   "cell_type": "code",
   "execution_count": 3,
   "metadata": {},
   "outputs": [],
   "source": [
    "poverty_DF = pd.read_csv('poverty_status_2018.csv')"
   ]
  },
  {
   "cell_type": "code",
   "execution_count": 116,
   "metadata": {},
   "outputs": [
    {
     "data": {
      "text/html": [
       "<div>\n",
       "<style scoped>\n",
       "    .dataframe tbody tr th:only-of-type {\n",
       "        vertical-align: middle;\n",
       "    }\n",
       "\n",
       "    .dataframe tbody tr th {\n",
       "        vertical-align: top;\n",
       "    }\n",
       "\n",
       "    .dataframe thead th {\n",
       "        text-align: right;\n",
       "    }\n",
       "</style>\n",
       "<table border=\"1\" class=\"dataframe\">\n",
       "  <thead>\n",
       "    <tr style=\"text-align: right;\">\n",
       "      <th></th>\n",
       "      <th>Estimates</th>\n",
       "      <th>Population for whom poverty status is determined</th>\n",
       "      <th>AGE</th>\n",
       "      <th>Under 18 years</th>\n",
       "      <th>Under 5 years</th>\n",
       "      <th>5 to 17 years</th>\n",
       "      <th>Related children of householder under 18 years</th>\n",
       "      <th>18 to 64 years</th>\n",
       "      <th>18 to 34 years</th>\n",
       "      <th>35 to 64 years</th>\n",
       "      <th>...</th>\n",
       "      <th>35 to 44 years</th>\n",
       "      <th>45 to 54 years</th>\n",
       "      <th>55 to 64 years</th>\n",
       "      <th>65 to 74 years</th>\n",
       "      <th>75 years and over</th>\n",
       "      <th>Mean income deficit for unrelated individuals (dollars)</th>\n",
       "      <th>Worked full-time, year-round in the past 12 months.1</th>\n",
       "      <th>Worked less than full-time, year-round in the past 12 months</th>\n",
       "      <th>Did not work.1</th>\n",
       "      <th>State</th>\n",
       "    </tr>\n",
       "  </thead>\n",
       "  <tbody>\n",
       "    <tr>\n",
       "      <th>0</th>\n",
       "      <td>Alaska</td>\n",
       "      <td>NaN</td>\n",
       "      <td>NaN</td>\n",
       "      <td>NaN</td>\n",
       "      <td>NaN</td>\n",
       "      <td>NaN</td>\n",
       "      <td>NaN</td>\n",
       "      <td>NaN</td>\n",
       "      <td>NaN</td>\n",
       "      <td>NaN</td>\n",
       "      <td>...</td>\n",
       "      <td>NaN</td>\n",
       "      <td>NaN</td>\n",
       "      <td>NaN</td>\n",
       "      <td>NaN</td>\n",
       "      <td>NaN</td>\n",
       "      <td>NaN</td>\n",
       "      <td>NaN</td>\n",
       "      <td>NaN</td>\n",
       "      <td>NaN</td>\n",
       "      <td>Alaska</td>\n",
       "    </tr>\n",
       "    <tr>\n",
       "      <th>1</th>\n",
       "      <td>Total Est</td>\n",
       "      <td>720,869</td>\n",
       "      <td>NaN</td>\n",
       "      <td>180,258</td>\n",
       "      <td>51,329</td>\n",
       "      <td>128,929</td>\n",
       "      <td>179,037</td>\n",
       "      <td>454,213</td>\n",
       "      <td>176,700</td>\n",
       "      <td>277,513</td>\n",
       "      <td>...</td>\n",
       "      <td>20,671</td>\n",
       "      <td>23,226</td>\n",
       "      <td>26,513</td>\n",
       "      <td>18,249</td>\n",
       "      <td>9,989</td>\n",
       "      <td>7,887</td>\n",
       "      <td>71,525</td>\n",
       "      <td>42,795</td>\n",
       "      <td>38,343</td>\n",
       "      <td>Alaska</td>\n",
       "    </tr>\n",
       "    <tr>\n",
       "      <th>2</th>\n",
       "      <td>BPL</td>\n",
       "      <td>78,620</td>\n",
       "      <td>NaN</td>\n",
       "      <td>25,327</td>\n",
       "      <td>8,384</td>\n",
       "      <td>16,943</td>\n",
       "      <td>24,235</td>\n",
       "      <td>47,464</td>\n",
       "      <td>22,444</td>\n",
       "      <td>25,020</td>\n",
       "      <td>...</td>\n",
       "      <td>4,514</td>\n",
       "      <td>4,967</td>\n",
       "      <td>5,197</td>\n",
       "      <td>2,319</td>\n",
       "      <td>1,192</td>\n",
       "      <td>(X)</td>\n",
       "      <td>2,164</td>\n",
       "      <td>12,740</td>\n",
       "      <td>15,972</td>\n",
       "      <td>Alaska</td>\n",
       "    </tr>\n",
       "    <tr>\n",
       "      <th>3</th>\n",
       "      <td>BPL %</td>\n",
       "      <td>10.90%</td>\n",
       "      <td>NaN</td>\n",
       "      <td>14.10%</td>\n",
       "      <td>16.30%</td>\n",
       "      <td>13.10%</td>\n",
       "      <td>13.50%</td>\n",
       "      <td>10.40%</td>\n",
       "      <td>12.70%</td>\n",
       "      <td>9.00%</td>\n",
       "      <td>...</td>\n",
       "      <td>21.80%</td>\n",
       "      <td>21.40%</td>\n",
       "      <td>19.60%</td>\n",
       "      <td>12.70%</td>\n",
       "      <td>11.90%</td>\n",
       "      <td>(X)</td>\n",
       "      <td>3.00%</td>\n",
       "      <td>29.80%</td>\n",
       "      <td>41.70%</td>\n",
       "      <td>Alaska</td>\n",
       "    </tr>\n",
       "    <tr>\n",
       "      <th>4</th>\n",
       "      <td>Maine</td>\n",
       "      <td>NaN</td>\n",
       "      <td>NaN</td>\n",
       "      <td>NaN</td>\n",
       "      <td>NaN</td>\n",
       "      <td>NaN</td>\n",
       "      <td>NaN</td>\n",
       "      <td>NaN</td>\n",
       "      <td>NaN</td>\n",
       "      <td>NaN</td>\n",
       "      <td>...</td>\n",
       "      <td>NaN</td>\n",
       "      <td>NaN</td>\n",
       "      <td>NaN</td>\n",
       "      <td>NaN</td>\n",
       "      <td>NaN</td>\n",
       "      <td>NaN</td>\n",
       "      <td>NaN</td>\n",
       "      <td>NaN</td>\n",
       "      <td>NaN</td>\n",
       "      <td>Maine</td>\n",
       "    </tr>\n",
       "  </tbody>\n",
       "</table>\n",
       "<p>5 rows × 70 columns</p>\n",
       "</div>"
      ],
      "text/plain": [
       "   Estimates Population for whom poverty status is determined  AGE  \\\n",
       "0     Alaska                                              NaN  NaN   \n",
       "1  Total Est                                          720,869  NaN   \n",
       "2        BPL                                           78,620  NaN   \n",
       "3      BPL %                                           10.90%  NaN   \n",
       "4      Maine                                              NaN  NaN   \n",
       "\n",
       "  Under 18 years Under 5 years 5 to 17 years  \\\n",
       "0            NaN           NaN           NaN   \n",
       "1        180,258        51,329       128,929   \n",
       "2         25,327         8,384        16,943   \n",
       "3         14.10%        16.30%        13.10%   \n",
       "4            NaN           NaN           NaN   \n",
       "\n",
       "  Related children of householder under 18 years 18 to 64 years  \\\n",
       "0                                            NaN            NaN   \n",
       "1                                        179,037        454,213   \n",
       "2                                         24,235         47,464   \n",
       "3                                         13.50%         10.40%   \n",
       "4                                            NaN            NaN   \n",
       "\n",
       "  18 to 34 years 35 to 64 years  ... 35 to 44 years 45 to 54 years  \\\n",
       "0            NaN            NaN  ...            NaN            NaN   \n",
       "1        176,700        277,513  ...         20,671         23,226   \n",
       "2         22,444         25,020  ...          4,514          4,967   \n",
       "3         12.70%          9.00%  ...         21.80%         21.40%   \n",
       "4            NaN            NaN  ...            NaN            NaN   \n",
       "\n",
       "   55 to 64 years 65 to 74 years 75 years and over  \\\n",
       "0             NaN            NaN               NaN   \n",
       "1          26,513         18,249             9,989   \n",
       "2           5,197          2,319             1,192   \n",
       "3          19.60%         12.70%            11.90%   \n",
       "4             NaN            NaN               NaN   \n",
       "\n",
       "   Mean income deficit for unrelated individuals (dollars)  \\\n",
       "0                                                NaN         \n",
       "1                                              7,887         \n",
       "2                                                (X)         \n",
       "3                                                (X)         \n",
       "4                                                NaN         \n",
       "\n",
       "  Worked full-time, year-round in the past 12 months.1  \\\n",
       "0                                                NaN     \n",
       "1                                             71,525     \n",
       "2                                              2,164     \n",
       "3                                              3.00%     \n",
       "4                                                NaN     \n",
       "\n",
       "  Worked less than full-time, year-round in the past 12 months Did not work.1  \\\n",
       "0                                                NaN                      NaN   \n",
       "1                                             42,795                   38,343   \n",
       "2                                             12,740                   15,972   \n",
       "3                                             29.80%                   41.70%   \n",
       "4                                                NaN                      NaN   \n",
       "\n",
       "    State  \n",
       "0  Alaska  \n",
       "1  Alaska  \n",
       "2  Alaska  \n",
       "3  Alaska  \n",
       "4   Maine  \n",
       "\n",
       "[5 rows x 70 columns]"
      ]
     },
     "execution_count": 116,
     "metadata": {},
     "output_type": "execute_result"
    }
   ],
   "source": [
    "poverty_DF.head(5)"
   ]
  },
  {
   "cell_type": "code",
   "execution_count": 5,
   "metadata": {},
   "outputs": [
    {
     "data": {
      "text/plain": [
       "(520, 69)"
      ]
     },
     "execution_count": 5,
     "metadata": {},
     "output_type": "execute_result"
    }
   ],
   "source": [
    "poverty_DF.shape"
   ]
  },
  {
   "cell_type": "code",
   "execution_count": 6,
   "metadata": {},
   "outputs": [
    {
     "data": {
      "text/plain": [
       "Index(['Estimates', 'Population for whom poverty status is determined', 'AGE',\n",
       "       'Under 18 years', 'Under 5 years', '5 to 17 years',\n",
       "       'Related children of householder under 18 years', '18 to 64 years',\n",
       "       '18 to 34 years', '35 to 64 years', '60 years and over',\n",
       "       '65 years and over', 'SEX', 'Male', 'Female',\n",
       "       'RACE AND HISPANIC OR LATINO ORIGIN', 'White alone',\n",
       "       'Black or African American alone',\n",
       "       'American Indian and Alaska Native alone', 'Asian alone',\n",
       "       'Native Hawaiian and Other Pacific Islander alone',\n",
       "       'Some other race alone', 'Two or more races',\n",
       "       'Hispanic or Latino origin (of any race)',\n",
       "       'White alone, not Hispanic or Latino', 'EDUCATIONAL ATTAINMENT',\n",
       "       'Population 25 years and over', 'Less than high school graduate',\n",
       "       'High school graduate (includes equivalency)',\n",
       "       'Some college, associate's degree', 'Bachelor's degree or higher',\n",
       "       'EMPLOYMENT STATUS', 'Civilian labor force 16 years and over',\n",
       "       'Employed', 'Male.1', 'Female.1', 'Unemployed', 'Male.2', 'Female.2',\n",
       "       'WORK EXPERIENCE', 'Population 16 years and over',\n",
       "       'Worked full-time, year-round in the past 12 months',\n",
       "       'Worked part-time or part-year in the past 12 months', 'Did not work',\n",
       "       'ALL INDIVIDUALS WITH INCOME BELOW THE FOLLOWING POVERTY RATIOS',\n",
       "       '50 percent of poverty level', '125 percent of poverty level',\n",
       "       '150 percent of poverty level', '185 percent of poverty level',\n",
       "       '200 percent of poverty level', '300 percent of poverty level',\n",
       "       '400 percent of poverty level', '500 percent of poverty level',\n",
       "       'UNRELATED INDIVIDUALS FOR WHOM POVERTY STATUS IS DETERMINED', 'Male.3',\n",
       "       'Female.3', '15 years', '16 to 17 years', '18 to 24 years',\n",
       "       '25 to 34 years', '35 to 44 years', '45 to 54 years', '55 to 64 years',\n",
       "       '65 to 74 years', '75 years and over',\n",
       "       'Mean income deficit for unrelated individuals (dollars)',\n",
       "       'Worked full-time, year-round in the past 12 months.1',\n",
       "       'Worked less than full-time, year-round in the past 12 months',\n",
       "       'Did not work.1'],\n",
       "      dtype='object')"
      ]
     },
     "execution_count": 6,
     "metadata": {},
     "output_type": "execute_result"
    }
   ],
   "source": [
    "poverty_DF.columns"
   ]
  },
  {
   "cell_type": "markdown",
   "metadata": {},
   "source": [
    "<div class=\"alert alert-block alert-warning\">  \n",
    "<h4>📝 COMMENTS</h4>\n",
    "<li>By just looking at the first 10 rows, we can see a lot of NaN values. We also notice that the NaNs are present because we have additional rows and columns that do not carry any information.\n",
    "<li>There are 69 columns and they contain information about <b>AGE, SEX, RACE,EMPLOYMENT STATUS,WORK EXPERIENCE, INCOME, UNRELATED INDIVIDUALS</b>. We can create a table for each of these categories.\n",
    "<li>The first thing I am going to do is create a seperate Column called State and store the state to which the row belongs too.\n",
    "</div>"
   ]
  },
  {
   "cell_type": "code",
   "execution_count": 7,
   "metadata": {},
   "outputs": [
    {
     "data": {
      "text/html": [
       "<div>\n",
       "<style scoped>\n",
       "    .dataframe tbody tr th:only-of-type {\n",
       "        vertical-align: middle;\n",
       "    }\n",
       "\n",
       "    .dataframe tbody tr th {\n",
       "        vertical-align: top;\n",
       "    }\n",
       "\n",
       "    .dataframe thead th {\n",
       "        text-align: right;\n",
       "    }\n",
       "</style>\n",
       "<table border=\"1\" class=\"dataframe\">\n",
       "  <thead>\n",
       "    <tr style=\"text-align: right;\">\n",
       "      <th></th>\n",
       "      <th>Estimates</th>\n",
       "      <th>Population for whom poverty status is determined</th>\n",
       "      <th>AGE</th>\n",
       "      <th>Under 18 years</th>\n",
       "      <th>Under 5 years</th>\n",
       "      <th>5 to 17 years</th>\n",
       "      <th>Related children of householder under 18 years</th>\n",
       "      <th>18 to 64 years</th>\n",
       "      <th>18 to 34 years</th>\n",
       "      <th>35 to 64 years</th>\n",
       "      <th>...</th>\n",
       "      <th>35 to 44 years</th>\n",
       "      <th>45 to 54 years</th>\n",
       "      <th>55 to 64 years</th>\n",
       "      <th>65 to 74 years</th>\n",
       "      <th>75 years and over</th>\n",
       "      <th>Mean income deficit for unrelated individuals (dollars)</th>\n",
       "      <th>Worked full-time, year-round in the past 12 months.1</th>\n",
       "      <th>Worked less than full-time, year-round in the past 12 months</th>\n",
       "      <th>Did not work.1</th>\n",
       "      <th>State</th>\n",
       "    </tr>\n",
       "  </thead>\n",
       "  <tbody>\n",
       "    <tr>\n",
       "      <th>0</th>\n",
       "      <td>Alaska</td>\n",
       "      <td>NaN</td>\n",
       "      <td>NaN</td>\n",
       "      <td>NaN</td>\n",
       "      <td>NaN</td>\n",
       "      <td>NaN</td>\n",
       "      <td>NaN</td>\n",
       "      <td>NaN</td>\n",
       "      <td>NaN</td>\n",
       "      <td>NaN</td>\n",
       "      <td>...</td>\n",
       "      <td>NaN</td>\n",
       "      <td>NaN</td>\n",
       "      <td>NaN</td>\n",
       "      <td>NaN</td>\n",
       "      <td>NaN</td>\n",
       "      <td>NaN</td>\n",
       "      <td>NaN</td>\n",
       "      <td>NaN</td>\n",
       "      <td>NaN</td>\n",
       "      <td>Alaska</td>\n",
       "    </tr>\n",
       "    <tr>\n",
       "      <th>1</th>\n",
       "      <td>Total</td>\n",
       "      <td>NaN</td>\n",
       "      <td>NaN</td>\n",
       "      <td>NaN</td>\n",
       "      <td>NaN</td>\n",
       "      <td>NaN</td>\n",
       "      <td>NaN</td>\n",
       "      <td>NaN</td>\n",
       "      <td>NaN</td>\n",
       "      <td>NaN</td>\n",
       "      <td>...</td>\n",
       "      <td>NaN</td>\n",
       "      <td>NaN</td>\n",
       "      <td>NaN</td>\n",
       "      <td>NaN</td>\n",
       "      <td>NaN</td>\n",
       "      <td>NaN</td>\n",
       "      <td>NaN</td>\n",
       "      <td>NaN</td>\n",
       "      <td>NaN</td>\n",
       "      <td>Alaska</td>\n",
       "    </tr>\n",
       "    <tr>\n",
       "      <th>2</th>\n",
       "      <td>Estimate</td>\n",
       "      <td>720,869</td>\n",
       "      <td>NaN</td>\n",
       "      <td>180,258</td>\n",
       "      <td>51,329</td>\n",
       "      <td>128,929</td>\n",
       "      <td>179,037</td>\n",
       "      <td>454,213</td>\n",
       "      <td>176,700</td>\n",
       "      <td>277,513</td>\n",
       "      <td>...</td>\n",
       "      <td>20,671</td>\n",
       "      <td>23,226</td>\n",
       "      <td>26,513</td>\n",
       "      <td>18,249</td>\n",
       "      <td>9,989</td>\n",
       "      <td>7,887</td>\n",
       "      <td>71,525</td>\n",
       "      <td>42,795</td>\n",
       "      <td>38,343</td>\n",
       "      <td>Alaska</td>\n",
       "    </tr>\n",
       "    <tr>\n",
       "      <th>3</th>\n",
       "      <td>Margin of Error</td>\n",
       "      <td>+/-846</td>\n",
       "      <td>NaN</td>\n",
       "      <td>+/-1,074</td>\n",
       "      <td>+/-834</td>\n",
       "      <td>+/-1,091</td>\n",
       "      <td>+/-1,221</td>\n",
       "      <td>+/-1,628</td>\n",
       "      <td>+/-1,899</td>\n",
       "      <td>+/-2,696</td>\n",
       "      <td>...</td>\n",
       "      <td>+/-2,220</td>\n",
       "      <td>+/-2,149</td>\n",
       "      <td>+/-2,110</td>\n",
       "      <td>+/-1,834</td>\n",
       "      <td>+/-1,050</td>\n",
       "      <td>+/-459</td>\n",
       "      <td>+/-3,973</td>\n",
       "      <td>+/-3,644</td>\n",
       "      <td>+/-2,870</td>\n",
       "      <td>Alaska</td>\n",
       "    </tr>\n",
       "    <tr>\n",
       "      <th>4</th>\n",
       "      <td>Below poverty level</td>\n",
       "      <td>NaN</td>\n",
       "      <td>NaN</td>\n",
       "      <td>NaN</td>\n",
       "      <td>NaN</td>\n",
       "      <td>NaN</td>\n",
       "      <td>NaN</td>\n",
       "      <td>NaN</td>\n",
       "      <td>NaN</td>\n",
       "      <td>NaN</td>\n",
       "      <td>...</td>\n",
       "      <td>NaN</td>\n",
       "      <td>NaN</td>\n",
       "      <td>NaN</td>\n",
       "      <td>NaN</td>\n",
       "      <td>NaN</td>\n",
       "      <td>NaN</td>\n",
       "      <td>NaN</td>\n",
       "      <td>NaN</td>\n",
       "      <td>NaN</td>\n",
       "      <td>Alaska</td>\n",
       "    </tr>\n",
       "  </tbody>\n",
       "</table>\n",
       "<p>5 rows × 70 columns</p>\n",
       "</div>"
      ],
      "text/plain": [
       "             Estimates Population for whom poverty status is determined  AGE  \\\n",
       "0               Alaska                                              NaN  NaN   \n",
       "1                Total                                              NaN  NaN   \n",
       "2             Estimate                                          720,869  NaN   \n",
       "3      Margin of Error                                           +/-846  NaN   \n",
       "4  Below poverty level                                              NaN  NaN   \n",
       "\n",
       "  Under 18 years Under 5 years 5 to 17 years  \\\n",
       "0            NaN           NaN           NaN   \n",
       "1            NaN           NaN           NaN   \n",
       "2        180,258        51,329       128,929   \n",
       "3       +/-1,074        +/-834      +/-1,091   \n",
       "4            NaN           NaN           NaN   \n",
       "\n",
       "  Related children of householder under 18 years 18 to 64 years  \\\n",
       "0                                            NaN            NaN   \n",
       "1                                            NaN            NaN   \n",
       "2                                        179,037        454,213   \n",
       "3                                       +/-1,221       +/-1,628   \n",
       "4                                            NaN            NaN   \n",
       "\n",
       "  18 to 34 years 35 to 64 years  ... 35 to 44 years 45 to 54 years  \\\n",
       "0            NaN            NaN  ...            NaN            NaN   \n",
       "1            NaN            NaN  ...            NaN            NaN   \n",
       "2        176,700        277,513  ...         20,671         23,226   \n",
       "3       +/-1,899       +/-2,696  ...       +/-2,220       +/-2,149   \n",
       "4            NaN            NaN  ...            NaN            NaN   \n",
       "\n",
       "   55 to 64 years 65 to 74 years 75 years and over  \\\n",
       "0             NaN            NaN               NaN   \n",
       "1             NaN            NaN               NaN   \n",
       "2          26,513         18,249             9,989   \n",
       "3        +/-2,110       +/-1,834          +/-1,050   \n",
       "4             NaN            NaN               NaN   \n",
       "\n",
       "   Mean income deficit for unrelated individuals (dollars)  \\\n",
       "0                                                NaN         \n",
       "1                                                NaN         \n",
       "2                                              7,887         \n",
       "3                                             +/-459         \n",
       "4                                                NaN         \n",
       "\n",
       "  Worked full-time, year-round in the past 12 months.1  \\\n",
       "0                                                NaN     \n",
       "1                                                NaN     \n",
       "2                                             71,525     \n",
       "3                                           +/-3,973     \n",
       "4                                                NaN     \n",
       "\n",
       "  Worked less than full-time, year-round in the past 12 months Did not work.1  \\\n",
       "0                                                NaN                      NaN   \n",
       "1                                                NaN                      NaN   \n",
       "2                                             42,795                   38,343   \n",
       "3                                           +/-3,644                 +/-2,870   \n",
       "4                                                NaN                      NaN   \n",
       "\n",
       "    State  \n",
       "0  Alaska  \n",
       "1  Alaska  \n",
       "2  Alaska  \n",
       "3  Alaska  \n",
       "4  Alaska  \n",
       "\n",
       "[5 rows x 70 columns]"
      ]
     },
     "execution_count": 7,
     "metadata": {},
     "output_type": "execute_result"
    }
   ],
   "source": [
    "poverty_DF['State'] = 'Nan'\n",
    "for i in range(0,len(poverty_DF),10):\n",
    "    state = poverty_DF.iloc[i]['Estimates']\n",
    "    poverty_DF.loc[i:i+10,'State'] = state\n",
    "poverty_DF.head(5)"
   ]
  },
  {
   "cell_type": "markdown",
   "metadata": {},
   "source": [
    "<div class=\"alert alert-block alert-warning\">  \n",
    "<h4>📝 COMMENTS</h4>\n",
    "<p>Next, I remove the <b>Margin of Error</b> for each corresponding State. I want to keep only the <b>Estimate</b> information for each State. I do this by filtering out all the rows that don't have it the Estimates values as \"Margin of Error\" and store it back into the same DataFrame.</p>\n",
    "</div>"
   ]
  },
  {
   "cell_type": "code",
   "execution_count": 8,
   "metadata": {},
   "outputs": [
    {
     "data": {
      "text/html": [
       "<div>\n",
       "<style scoped>\n",
       "    .dataframe tbody tr th:only-of-type {\n",
       "        vertical-align: middle;\n",
       "    }\n",
       "\n",
       "    .dataframe tbody tr th {\n",
       "        vertical-align: top;\n",
       "    }\n",
       "\n",
       "    .dataframe thead th {\n",
       "        text-align: right;\n",
       "    }\n",
       "</style>\n",
       "<table border=\"1\" class=\"dataframe\">\n",
       "  <thead>\n",
       "    <tr style=\"text-align: right;\">\n",
       "      <th></th>\n",
       "      <th>Estimates</th>\n",
       "      <th>Population for whom poverty status is determined</th>\n",
       "      <th>AGE</th>\n",
       "      <th>Under 18 years</th>\n",
       "      <th>Under 5 years</th>\n",
       "      <th>5 to 17 years</th>\n",
       "      <th>Related children of householder under 18 years</th>\n",
       "      <th>18 to 64 years</th>\n",
       "      <th>18 to 34 years</th>\n",
       "      <th>35 to 64 years</th>\n",
       "      <th>...</th>\n",
       "      <th>35 to 44 years</th>\n",
       "      <th>45 to 54 years</th>\n",
       "      <th>55 to 64 years</th>\n",
       "      <th>65 to 74 years</th>\n",
       "      <th>75 years and over</th>\n",
       "      <th>Mean income deficit for unrelated individuals (dollars)</th>\n",
       "      <th>Worked full-time, year-round in the past 12 months.1</th>\n",
       "      <th>Worked less than full-time, year-round in the past 12 months</th>\n",
       "      <th>Did not work.1</th>\n",
       "      <th>State</th>\n",
       "    </tr>\n",
       "  </thead>\n",
       "  <tbody>\n",
       "    <tr>\n",
       "      <th>0</th>\n",
       "      <td>Alaska</td>\n",
       "      <td>NaN</td>\n",
       "      <td>NaN</td>\n",
       "      <td>NaN</td>\n",
       "      <td>NaN</td>\n",
       "      <td>NaN</td>\n",
       "      <td>NaN</td>\n",
       "      <td>NaN</td>\n",
       "      <td>NaN</td>\n",
       "      <td>NaN</td>\n",
       "      <td>...</td>\n",
       "      <td>NaN</td>\n",
       "      <td>NaN</td>\n",
       "      <td>NaN</td>\n",
       "      <td>NaN</td>\n",
       "      <td>NaN</td>\n",
       "      <td>NaN</td>\n",
       "      <td>NaN</td>\n",
       "      <td>NaN</td>\n",
       "      <td>NaN</td>\n",
       "      <td>Alaska</td>\n",
       "    </tr>\n",
       "    <tr>\n",
       "      <th>1</th>\n",
       "      <td>Total</td>\n",
       "      <td>NaN</td>\n",
       "      <td>NaN</td>\n",
       "      <td>NaN</td>\n",
       "      <td>NaN</td>\n",
       "      <td>NaN</td>\n",
       "      <td>NaN</td>\n",
       "      <td>NaN</td>\n",
       "      <td>NaN</td>\n",
       "      <td>NaN</td>\n",
       "      <td>...</td>\n",
       "      <td>NaN</td>\n",
       "      <td>NaN</td>\n",
       "      <td>NaN</td>\n",
       "      <td>NaN</td>\n",
       "      <td>NaN</td>\n",
       "      <td>NaN</td>\n",
       "      <td>NaN</td>\n",
       "      <td>NaN</td>\n",
       "      <td>NaN</td>\n",
       "      <td>Alaska</td>\n",
       "    </tr>\n",
       "    <tr>\n",
       "      <th>2</th>\n",
       "      <td>Estimate</td>\n",
       "      <td>720,869</td>\n",
       "      <td>NaN</td>\n",
       "      <td>180,258</td>\n",
       "      <td>51,329</td>\n",
       "      <td>128,929</td>\n",
       "      <td>179,037</td>\n",
       "      <td>454,213</td>\n",
       "      <td>176,700</td>\n",
       "      <td>277,513</td>\n",
       "      <td>...</td>\n",
       "      <td>20,671</td>\n",
       "      <td>23,226</td>\n",
       "      <td>26,513</td>\n",
       "      <td>18,249</td>\n",
       "      <td>9,989</td>\n",
       "      <td>7,887</td>\n",
       "      <td>71,525</td>\n",
       "      <td>42,795</td>\n",
       "      <td>38,343</td>\n",
       "      <td>Alaska</td>\n",
       "    </tr>\n",
       "    <tr>\n",
       "      <th>4</th>\n",
       "      <td>Below poverty level</td>\n",
       "      <td>NaN</td>\n",
       "      <td>NaN</td>\n",
       "      <td>NaN</td>\n",
       "      <td>NaN</td>\n",
       "      <td>NaN</td>\n",
       "      <td>NaN</td>\n",
       "      <td>NaN</td>\n",
       "      <td>NaN</td>\n",
       "      <td>NaN</td>\n",
       "      <td>...</td>\n",
       "      <td>NaN</td>\n",
       "      <td>NaN</td>\n",
       "      <td>NaN</td>\n",
       "      <td>NaN</td>\n",
       "      <td>NaN</td>\n",
       "      <td>NaN</td>\n",
       "      <td>NaN</td>\n",
       "      <td>NaN</td>\n",
       "      <td>NaN</td>\n",
       "      <td>Alaska</td>\n",
       "    </tr>\n",
       "    <tr>\n",
       "      <th>5</th>\n",
       "      <td>Estimate</td>\n",
       "      <td>78,620</td>\n",
       "      <td>NaN</td>\n",
       "      <td>25,327</td>\n",
       "      <td>8,384</td>\n",
       "      <td>16,943</td>\n",
       "      <td>24,235</td>\n",
       "      <td>47,464</td>\n",
       "      <td>22,444</td>\n",
       "      <td>25,020</td>\n",
       "      <td>...</td>\n",
       "      <td>4,514</td>\n",
       "      <td>4,967</td>\n",
       "      <td>5,197</td>\n",
       "      <td>2,319</td>\n",
       "      <td>1,192</td>\n",
       "      <td>(X)</td>\n",
       "      <td>2,164</td>\n",
       "      <td>12,740</td>\n",
       "      <td>15,972</td>\n",
       "      <td>Alaska</td>\n",
       "    </tr>\n",
       "  </tbody>\n",
       "</table>\n",
       "<p>5 rows × 70 columns</p>\n",
       "</div>"
      ],
      "text/plain": [
       "             Estimates Population for whom poverty status is determined  AGE  \\\n",
       "0               Alaska                                              NaN  NaN   \n",
       "1                Total                                              NaN  NaN   \n",
       "2             Estimate                                          720,869  NaN   \n",
       "4  Below poverty level                                              NaN  NaN   \n",
       "5             Estimate                                           78,620  NaN   \n",
       "\n",
       "  Under 18 years Under 5 years 5 to 17 years  \\\n",
       "0            NaN           NaN           NaN   \n",
       "1            NaN           NaN           NaN   \n",
       "2        180,258        51,329       128,929   \n",
       "4            NaN           NaN           NaN   \n",
       "5         25,327         8,384        16,943   \n",
       "\n",
       "  Related children of householder under 18 years 18 to 64 years  \\\n",
       "0                                            NaN            NaN   \n",
       "1                                            NaN            NaN   \n",
       "2                                        179,037        454,213   \n",
       "4                                            NaN            NaN   \n",
       "5                                         24,235         47,464   \n",
       "\n",
       "  18 to 34 years 35 to 64 years  ... 35 to 44 years 45 to 54 years  \\\n",
       "0            NaN            NaN  ...            NaN            NaN   \n",
       "1            NaN            NaN  ...            NaN            NaN   \n",
       "2        176,700        277,513  ...         20,671         23,226   \n",
       "4            NaN            NaN  ...            NaN            NaN   \n",
       "5         22,444         25,020  ...          4,514          4,967   \n",
       "\n",
       "   55 to 64 years 65 to 74 years 75 years and over  \\\n",
       "0             NaN            NaN               NaN   \n",
       "1             NaN            NaN               NaN   \n",
       "2          26,513         18,249             9,989   \n",
       "4             NaN            NaN               NaN   \n",
       "5           5,197          2,319             1,192   \n",
       "\n",
       "   Mean income deficit for unrelated individuals (dollars)  \\\n",
       "0                                                NaN         \n",
       "1                                                NaN         \n",
       "2                                              7,887         \n",
       "4                                                NaN         \n",
       "5                                                (X)         \n",
       "\n",
       "  Worked full-time, year-round in the past 12 months.1  \\\n",
       "0                                                NaN     \n",
       "1                                                NaN     \n",
       "2                                             71,525     \n",
       "4                                                NaN     \n",
       "5                                              2,164     \n",
       "\n",
       "  Worked less than full-time, year-round in the past 12 months Did not work.1  \\\n",
       "0                                                NaN                      NaN   \n",
       "1                                                NaN                      NaN   \n",
       "2                                             42,795                   38,343   \n",
       "4                                                NaN                      NaN   \n",
       "5                                             12,740                   15,972   \n",
       "\n",
       "    State  \n",
       "0  Alaska  \n",
       "1  Alaska  \n",
       "2  Alaska  \n",
       "4  Alaska  \n",
       "5  Alaska  \n",
       "\n",
       "[5 rows x 70 columns]"
      ]
     },
     "execution_count": 8,
     "metadata": {},
     "output_type": "execute_result"
    }
   ],
   "source": [
    "poverty_DF = poverty_DF[poverty_DF['Estimates'] != 'Margin of Error']\n",
    "poverty_DF.head(5)"
   ]
  },
  {
   "cell_type": "markdown",
   "metadata": {},
   "source": [
    "<div class=\"alert alert-block alert-warning\">  \n",
    "<h4>📝 COMMENTS</h4>\n",
    "    <p>Next, I write a function to edit the <b>Estimates</b> columns. If the row has a value <b>Estimate</b> in it, I will change it to the following:\n",
    "    <li> <b>Total Estimate</b>, if it is below the row containing <b>Total</b>\n",
    "    <li> <b>BPL Estimate</b>, if it is below the row containing <b>Below poverty level</b>\n",
    "    <li> <b>BPL % Estimate</b>, if it is below the row containing <b>Percent below poverty level</b>\n",
    "    </p>\n",
    "</div>"
   ]
  },
  {
   "cell_type": "code",
   "execution_count": 9,
   "metadata": {},
   "outputs": [
    {
     "name": "stdout",
     "output_type": "stream",
     "text": [
      "364\n",
      "364\n"
     ]
    }
   ],
   "source": [
    "estimates = []\n",
    "def edit_estimate(cols):\n",
    "    if cols == \"Total\":\n",
    "        estimates.append(cols)\n",
    "        estimates.append('Total Est')\n",
    "        #print(estimates)\n",
    "    elif cols == 'Below poverty level':\n",
    "        estimates.append(cols)\n",
    "        estimates.append('BPL')  \n",
    "    elif cols == 'Percent below poverty level':\n",
    "        estimates.append(cols)\n",
    "        estimates.append('BPL %') \n",
    "    elif cols == 'Estimate':\n",
    "        pass\n",
    "    else:\n",
    "        estimates.append(cols)\n",
    "poverty_DF['Estimates'].apply(edit_estimate)\n",
    "print(len(estimates))\n",
    "print(len(poverty_DF))\n",
    "poverty_DF['Estimates'] = estimates"
   ]
  },
  {
   "cell_type": "code",
   "execution_count": 117,
   "metadata": {},
   "outputs": [
    {
     "data": {
      "text/html": [
       "<div>\n",
       "<style scoped>\n",
       "    .dataframe tbody tr th:only-of-type {\n",
       "        vertical-align: middle;\n",
       "    }\n",
       "\n",
       "    .dataframe tbody tr th {\n",
       "        vertical-align: top;\n",
       "    }\n",
       "\n",
       "    .dataframe thead th {\n",
       "        text-align: right;\n",
       "    }\n",
       "</style>\n",
       "<table border=\"1\" class=\"dataframe\">\n",
       "  <thead>\n",
       "    <tr style=\"text-align: right;\">\n",
       "      <th></th>\n",
       "      <th>Estimates</th>\n",
       "      <th>Population for whom poverty status is determined</th>\n",
       "      <th>AGE</th>\n",
       "      <th>Under 18 years</th>\n",
       "      <th>Under 5 years</th>\n",
       "      <th>5 to 17 years</th>\n",
       "      <th>Related children of householder under 18 years</th>\n",
       "      <th>18 to 64 years</th>\n",
       "      <th>18 to 34 years</th>\n",
       "      <th>35 to 64 years</th>\n",
       "      <th>...</th>\n",
       "      <th>35 to 44 years</th>\n",
       "      <th>45 to 54 years</th>\n",
       "      <th>55 to 64 years</th>\n",
       "      <th>65 to 74 years</th>\n",
       "      <th>75 years and over</th>\n",
       "      <th>Mean income deficit for unrelated individuals (dollars)</th>\n",
       "      <th>Worked full-time, year-round in the past 12 months.1</th>\n",
       "      <th>Worked less than full-time, year-round in the past 12 months</th>\n",
       "      <th>Did not work.1</th>\n",
       "      <th>State</th>\n",
       "    </tr>\n",
       "  </thead>\n",
       "  <tbody>\n",
       "    <tr>\n",
       "      <th>0</th>\n",
       "      <td>Alaska</td>\n",
       "      <td>NaN</td>\n",
       "      <td>NaN</td>\n",
       "      <td>NaN</td>\n",
       "      <td>NaN</td>\n",
       "      <td>NaN</td>\n",
       "      <td>NaN</td>\n",
       "      <td>NaN</td>\n",
       "      <td>NaN</td>\n",
       "      <td>NaN</td>\n",
       "      <td>...</td>\n",
       "      <td>NaN</td>\n",
       "      <td>NaN</td>\n",
       "      <td>NaN</td>\n",
       "      <td>NaN</td>\n",
       "      <td>NaN</td>\n",
       "      <td>NaN</td>\n",
       "      <td>NaN</td>\n",
       "      <td>NaN</td>\n",
       "      <td>NaN</td>\n",
       "      <td>Alaska</td>\n",
       "    </tr>\n",
       "    <tr>\n",
       "      <th>1</th>\n",
       "      <td>Total Est</td>\n",
       "      <td>720,869</td>\n",
       "      <td>NaN</td>\n",
       "      <td>180,258</td>\n",
       "      <td>51,329</td>\n",
       "      <td>128,929</td>\n",
       "      <td>179,037</td>\n",
       "      <td>454,213</td>\n",
       "      <td>176,700</td>\n",
       "      <td>277,513</td>\n",
       "      <td>...</td>\n",
       "      <td>20,671</td>\n",
       "      <td>23,226</td>\n",
       "      <td>26,513</td>\n",
       "      <td>18,249</td>\n",
       "      <td>9,989</td>\n",
       "      <td>7,887</td>\n",
       "      <td>71,525</td>\n",
       "      <td>42,795</td>\n",
       "      <td>38,343</td>\n",
       "      <td>Alaska</td>\n",
       "    </tr>\n",
       "    <tr>\n",
       "      <th>2</th>\n",
       "      <td>BPL</td>\n",
       "      <td>78,620</td>\n",
       "      <td>NaN</td>\n",
       "      <td>25,327</td>\n",
       "      <td>8,384</td>\n",
       "      <td>16,943</td>\n",
       "      <td>24,235</td>\n",
       "      <td>47,464</td>\n",
       "      <td>22,444</td>\n",
       "      <td>25,020</td>\n",
       "      <td>...</td>\n",
       "      <td>4,514</td>\n",
       "      <td>4,967</td>\n",
       "      <td>5,197</td>\n",
       "      <td>2,319</td>\n",
       "      <td>1,192</td>\n",
       "      <td>(X)</td>\n",
       "      <td>2,164</td>\n",
       "      <td>12,740</td>\n",
       "      <td>15,972</td>\n",
       "      <td>Alaska</td>\n",
       "    </tr>\n",
       "    <tr>\n",
       "      <th>3</th>\n",
       "      <td>BPL %</td>\n",
       "      <td>10.90%</td>\n",
       "      <td>NaN</td>\n",
       "      <td>14.10%</td>\n",
       "      <td>16.30%</td>\n",
       "      <td>13.10%</td>\n",
       "      <td>13.50%</td>\n",
       "      <td>10.40%</td>\n",
       "      <td>12.70%</td>\n",
       "      <td>9.00%</td>\n",
       "      <td>...</td>\n",
       "      <td>21.80%</td>\n",
       "      <td>21.40%</td>\n",
       "      <td>19.60%</td>\n",
       "      <td>12.70%</td>\n",
       "      <td>11.90%</td>\n",
       "      <td>(X)</td>\n",
       "      <td>3.00%</td>\n",
       "      <td>29.80%</td>\n",
       "      <td>41.70%</td>\n",
       "      <td>Alaska</td>\n",
       "    </tr>\n",
       "    <tr>\n",
       "      <th>4</th>\n",
       "      <td>Maine</td>\n",
       "      <td>NaN</td>\n",
       "      <td>NaN</td>\n",
       "      <td>NaN</td>\n",
       "      <td>NaN</td>\n",
       "      <td>NaN</td>\n",
       "      <td>NaN</td>\n",
       "      <td>NaN</td>\n",
       "      <td>NaN</td>\n",
       "      <td>NaN</td>\n",
       "      <td>...</td>\n",
       "      <td>NaN</td>\n",
       "      <td>NaN</td>\n",
       "      <td>NaN</td>\n",
       "      <td>NaN</td>\n",
       "      <td>NaN</td>\n",
       "      <td>NaN</td>\n",
       "      <td>NaN</td>\n",
       "      <td>NaN</td>\n",
       "      <td>NaN</td>\n",
       "      <td>Maine</td>\n",
       "    </tr>\n",
       "  </tbody>\n",
       "</table>\n",
       "<p>5 rows × 70 columns</p>\n",
       "</div>"
      ],
      "text/plain": [
       "   Estimates Population for whom poverty status is determined  AGE  \\\n",
       "0     Alaska                                              NaN  NaN   \n",
       "1  Total Est                                          720,869  NaN   \n",
       "2        BPL                                           78,620  NaN   \n",
       "3      BPL %                                           10.90%  NaN   \n",
       "4      Maine                                              NaN  NaN   \n",
       "\n",
       "  Under 18 years Under 5 years 5 to 17 years  \\\n",
       "0            NaN           NaN           NaN   \n",
       "1        180,258        51,329       128,929   \n",
       "2         25,327         8,384        16,943   \n",
       "3         14.10%        16.30%        13.10%   \n",
       "4            NaN           NaN           NaN   \n",
       "\n",
       "  Related children of householder under 18 years 18 to 64 years  \\\n",
       "0                                            NaN            NaN   \n",
       "1                                        179,037        454,213   \n",
       "2                                         24,235         47,464   \n",
       "3                                         13.50%         10.40%   \n",
       "4                                            NaN            NaN   \n",
       "\n",
       "  18 to 34 years 35 to 64 years  ... 35 to 44 years 45 to 54 years  \\\n",
       "0            NaN            NaN  ...            NaN            NaN   \n",
       "1        176,700        277,513  ...         20,671         23,226   \n",
       "2         22,444         25,020  ...          4,514          4,967   \n",
       "3         12.70%          9.00%  ...         21.80%         21.40%   \n",
       "4            NaN            NaN  ...            NaN            NaN   \n",
       "\n",
       "   55 to 64 years 65 to 74 years 75 years and over  \\\n",
       "0             NaN            NaN               NaN   \n",
       "1          26,513         18,249             9,989   \n",
       "2           5,197          2,319             1,192   \n",
       "3          19.60%         12.70%            11.90%   \n",
       "4             NaN            NaN               NaN   \n",
       "\n",
       "   Mean income deficit for unrelated individuals (dollars)  \\\n",
       "0                                                NaN         \n",
       "1                                              7,887         \n",
       "2                                                (X)         \n",
       "3                                                (X)         \n",
       "4                                                NaN         \n",
       "\n",
       "  Worked full-time, year-round in the past 12 months.1  \\\n",
       "0                                                NaN     \n",
       "1                                             71,525     \n",
       "2                                              2,164     \n",
       "3                                              3.00%     \n",
       "4                                                NaN     \n",
       "\n",
       "  Worked less than full-time, year-round in the past 12 months Did not work.1  \\\n",
       "0                                                NaN                      NaN   \n",
       "1                                             42,795                   38,343   \n",
       "2                                             12,740                   15,972   \n",
       "3                                             29.80%                   41.70%   \n",
       "4                                                NaN                      NaN   \n",
       "\n",
       "    State  \n",
       "0  Alaska  \n",
       "1  Alaska  \n",
       "2  Alaska  \n",
       "3  Alaska  \n",
       "4   Maine  \n",
       "\n",
       "[5 rows x 70 columns]"
      ]
     },
     "execution_count": 117,
     "metadata": {},
     "output_type": "execute_result"
    }
   ],
   "source": [
    "poverty_DF.head(5)"
   ]
  },
  {
   "cell_type": "markdown",
   "metadata": {},
   "source": [
    "<div class=\"alert alert-block alert-warning\">  \n",
    "<h4>📝 COMMENTS</h4>\n",
    "<p>Now that I have captured the information of the rows labelled <b>Total, Below poverty level and Percent below poverty level</b>, we can go ahead and delete them.</p>\n",
    "</div>"
   ]
  },
  {
   "cell_type": "code",
   "execution_count": 11,
   "metadata": {},
   "outputs": [
    {
     "data": {
      "text/html": [
       "<div>\n",
       "<style scoped>\n",
       "    .dataframe tbody tr th:only-of-type {\n",
       "        vertical-align: middle;\n",
       "    }\n",
       "\n",
       "    .dataframe tbody tr th {\n",
       "        vertical-align: top;\n",
       "    }\n",
       "\n",
       "    .dataframe thead th {\n",
       "        text-align: right;\n",
       "    }\n",
       "</style>\n",
       "<table border=\"1\" class=\"dataframe\">\n",
       "  <thead>\n",
       "    <tr style=\"text-align: right;\">\n",
       "      <th></th>\n",
       "      <th>Estimates</th>\n",
       "      <th>Population for whom poverty status is determined</th>\n",
       "      <th>AGE</th>\n",
       "      <th>Under 18 years</th>\n",
       "      <th>Under 5 years</th>\n",
       "      <th>5 to 17 years</th>\n",
       "      <th>Related children of householder under 18 years</th>\n",
       "      <th>18 to 64 years</th>\n",
       "      <th>18 to 34 years</th>\n",
       "      <th>35 to 64 years</th>\n",
       "      <th>...</th>\n",
       "      <th>35 to 44 years</th>\n",
       "      <th>45 to 54 years</th>\n",
       "      <th>55 to 64 years</th>\n",
       "      <th>65 to 74 years</th>\n",
       "      <th>75 years and over</th>\n",
       "      <th>Mean income deficit for unrelated individuals (dollars)</th>\n",
       "      <th>Worked full-time, year-round in the past 12 months.1</th>\n",
       "      <th>Worked less than full-time, year-round in the past 12 months</th>\n",
       "      <th>Did not work.1</th>\n",
       "      <th>State</th>\n",
       "    </tr>\n",
       "  </thead>\n",
       "  <tbody>\n",
       "    <tr>\n",
       "      <th>0</th>\n",
       "      <td>Alaska</td>\n",
       "      <td>NaN</td>\n",
       "      <td>NaN</td>\n",
       "      <td>NaN</td>\n",
       "      <td>NaN</td>\n",
       "      <td>NaN</td>\n",
       "      <td>NaN</td>\n",
       "      <td>NaN</td>\n",
       "      <td>NaN</td>\n",
       "      <td>NaN</td>\n",
       "      <td>...</td>\n",
       "      <td>NaN</td>\n",
       "      <td>NaN</td>\n",
       "      <td>NaN</td>\n",
       "      <td>NaN</td>\n",
       "      <td>NaN</td>\n",
       "      <td>NaN</td>\n",
       "      <td>NaN</td>\n",
       "      <td>NaN</td>\n",
       "      <td>NaN</td>\n",
       "      <td>Alaska</td>\n",
       "    </tr>\n",
       "    <tr>\n",
       "      <th>1</th>\n",
       "      <td>Total Est</td>\n",
       "      <td>720,869</td>\n",
       "      <td>NaN</td>\n",
       "      <td>180,258</td>\n",
       "      <td>51,329</td>\n",
       "      <td>128,929</td>\n",
       "      <td>179,037</td>\n",
       "      <td>454,213</td>\n",
       "      <td>176,700</td>\n",
       "      <td>277,513</td>\n",
       "      <td>...</td>\n",
       "      <td>20,671</td>\n",
       "      <td>23,226</td>\n",
       "      <td>26,513</td>\n",
       "      <td>18,249</td>\n",
       "      <td>9,989</td>\n",
       "      <td>7,887</td>\n",
       "      <td>71,525</td>\n",
       "      <td>42,795</td>\n",
       "      <td>38,343</td>\n",
       "      <td>Alaska</td>\n",
       "    </tr>\n",
       "    <tr>\n",
       "      <th>2</th>\n",
       "      <td>BPL</td>\n",
       "      <td>78,620</td>\n",
       "      <td>NaN</td>\n",
       "      <td>25,327</td>\n",
       "      <td>8,384</td>\n",
       "      <td>16,943</td>\n",
       "      <td>24,235</td>\n",
       "      <td>47,464</td>\n",
       "      <td>22,444</td>\n",
       "      <td>25,020</td>\n",
       "      <td>...</td>\n",
       "      <td>4,514</td>\n",
       "      <td>4,967</td>\n",
       "      <td>5,197</td>\n",
       "      <td>2,319</td>\n",
       "      <td>1,192</td>\n",
       "      <td>(X)</td>\n",
       "      <td>2,164</td>\n",
       "      <td>12,740</td>\n",
       "      <td>15,972</td>\n",
       "      <td>Alaska</td>\n",
       "    </tr>\n",
       "    <tr>\n",
       "      <th>3</th>\n",
       "      <td>BPL %</td>\n",
       "      <td>10.90%</td>\n",
       "      <td>NaN</td>\n",
       "      <td>14.10%</td>\n",
       "      <td>16.30%</td>\n",
       "      <td>13.10%</td>\n",
       "      <td>13.50%</td>\n",
       "      <td>10.40%</td>\n",
       "      <td>12.70%</td>\n",
       "      <td>9.00%</td>\n",
       "      <td>...</td>\n",
       "      <td>21.80%</td>\n",
       "      <td>21.40%</td>\n",
       "      <td>19.60%</td>\n",
       "      <td>12.70%</td>\n",
       "      <td>11.90%</td>\n",
       "      <td>(X)</td>\n",
       "      <td>3.00%</td>\n",
       "      <td>29.80%</td>\n",
       "      <td>41.70%</td>\n",
       "      <td>Alaska</td>\n",
       "    </tr>\n",
       "    <tr>\n",
       "      <th>4</th>\n",
       "      <td>Maine</td>\n",
       "      <td>NaN</td>\n",
       "      <td>NaN</td>\n",
       "      <td>NaN</td>\n",
       "      <td>NaN</td>\n",
       "      <td>NaN</td>\n",
       "      <td>NaN</td>\n",
       "      <td>NaN</td>\n",
       "      <td>NaN</td>\n",
       "      <td>NaN</td>\n",
       "      <td>...</td>\n",
       "      <td>NaN</td>\n",
       "      <td>NaN</td>\n",
       "      <td>NaN</td>\n",
       "      <td>NaN</td>\n",
       "      <td>NaN</td>\n",
       "      <td>NaN</td>\n",
       "      <td>NaN</td>\n",
       "      <td>NaN</td>\n",
       "      <td>NaN</td>\n",
       "      <td>Maine</td>\n",
       "    </tr>\n",
       "  </tbody>\n",
       "</table>\n",
       "<p>5 rows × 70 columns</p>\n",
       "</div>"
      ],
      "text/plain": [
       "   Estimates Population for whom poverty status is determined  AGE  \\\n",
       "0     Alaska                                              NaN  NaN   \n",
       "1  Total Est                                          720,869  NaN   \n",
       "2        BPL                                           78,620  NaN   \n",
       "3      BPL %                                           10.90%  NaN   \n",
       "4      Maine                                              NaN  NaN   \n",
       "\n",
       "  Under 18 years Under 5 years 5 to 17 years  \\\n",
       "0            NaN           NaN           NaN   \n",
       "1        180,258        51,329       128,929   \n",
       "2         25,327         8,384        16,943   \n",
       "3         14.10%        16.30%        13.10%   \n",
       "4            NaN           NaN           NaN   \n",
       "\n",
       "  Related children of householder under 18 years 18 to 64 years  \\\n",
       "0                                            NaN            NaN   \n",
       "1                                        179,037        454,213   \n",
       "2                                         24,235         47,464   \n",
       "3                                         13.50%         10.40%   \n",
       "4                                            NaN            NaN   \n",
       "\n",
       "  18 to 34 years 35 to 64 years  ... 35 to 44 years 45 to 54 years  \\\n",
       "0            NaN            NaN  ...            NaN            NaN   \n",
       "1        176,700        277,513  ...         20,671         23,226   \n",
       "2         22,444         25,020  ...          4,514          4,967   \n",
       "3         12.70%          9.00%  ...         21.80%         21.40%   \n",
       "4            NaN            NaN  ...            NaN            NaN   \n",
       "\n",
       "   55 to 64 years 65 to 74 years 75 years and over  \\\n",
       "0             NaN            NaN               NaN   \n",
       "1          26,513         18,249             9,989   \n",
       "2           5,197          2,319             1,192   \n",
       "3          19.60%         12.70%            11.90%   \n",
       "4             NaN            NaN               NaN   \n",
       "\n",
       "   Mean income deficit for unrelated individuals (dollars)  \\\n",
       "0                                                NaN         \n",
       "1                                              7,887         \n",
       "2                                                (X)         \n",
       "3                                                (X)         \n",
       "4                                                NaN         \n",
       "\n",
       "  Worked full-time, year-round in the past 12 months.1  \\\n",
       "0                                                NaN     \n",
       "1                                             71,525     \n",
       "2                                              2,164     \n",
       "3                                              3.00%     \n",
       "4                                                NaN     \n",
       "\n",
       "  Worked less than full-time, year-round in the past 12 months Did not work.1  \\\n",
       "0                                                NaN                      NaN   \n",
       "1                                             42,795                   38,343   \n",
       "2                                             12,740                   15,972   \n",
       "3                                             29.80%                   41.70%   \n",
       "4                                                NaN                      NaN   \n",
       "\n",
       "    State  \n",
       "0  Alaska  \n",
       "1  Alaska  \n",
       "2  Alaska  \n",
       "3  Alaska  \n",
       "4   Maine  \n",
       "\n",
       "[5 rows x 70 columns]"
      ]
     },
     "execution_count": 11,
     "metadata": {},
     "output_type": "execute_result"
    }
   ],
   "source": [
    "poverty_DF = poverty_DF[poverty_DF['Estimates'] != 'Total']\n",
    "poverty_DF = poverty_DF[poverty_DF['Estimates'] != 'Below poverty level']\n",
    "poverty_DF = poverty_DF[poverty_DF['Estimates'] != 'Percent below poverty level']\n",
    "poverty_DF.reset_index(drop = True, inplace = True)\n",
    "poverty_DF.head(5)"
   ]
  },
  {
   "cell_type": "code",
   "execution_count": 12,
   "metadata": {},
   "outputs": [
    {
     "data": {
      "text/plain": [
       "Index(['Estimates', 'Population for whom poverty status is determined', 'AGE',\n",
       "       'Under 18 years', 'Under 5 years', '5 to 17 years',\n",
       "       'Related children of householder under 18 years', '18 to 64 years',\n",
       "       '18 to 34 years', '35 to 64 years', '60 years and over',\n",
       "       '65 years and over', 'SEX', 'Male', 'Female',\n",
       "       'RACE AND HISPANIC OR LATINO ORIGIN', 'White alone',\n",
       "       'Black or African American alone',\n",
       "       'American Indian and Alaska Native alone', 'Asian alone',\n",
       "       'Native Hawaiian and Other Pacific Islander alone',\n",
       "       'Some other race alone', 'Two or more races',\n",
       "       'Hispanic or Latino origin (of any race)',\n",
       "       'White alone, not Hispanic or Latino', 'EDUCATIONAL ATTAINMENT',\n",
       "       'Population 25 years and over', 'Less than high school graduate',\n",
       "       'High school graduate (includes equivalency)',\n",
       "       'Some college, associate's degree', 'Bachelor's degree or higher',\n",
       "       'EMPLOYMENT STATUS', 'Civilian labor force 16 years and over',\n",
       "       'Employed', 'Male.1', 'Female.1', 'Unemployed', 'Male.2', 'Female.2',\n",
       "       'WORK EXPERIENCE', 'Population 16 years and over',\n",
       "       'Worked full-time, year-round in the past 12 months',\n",
       "       'Worked part-time or part-year in the past 12 months', 'Did not work',\n",
       "       'ALL INDIVIDUALS WITH INCOME BELOW THE FOLLOWING POVERTY RATIOS',\n",
       "       '50 percent of poverty level', '125 percent of poverty level',\n",
       "       '150 percent of poverty level', '185 percent of poverty level',\n",
       "       '200 percent of poverty level', '300 percent of poverty level',\n",
       "       '400 percent of poverty level', '500 percent of poverty level',\n",
       "       'UNRELATED INDIVIDUALS FOR WHOM POVERTY STATUS IS DETERMINED', 'Male.3',\n",
       "       'Female.3', '15 years', '16 to 17 years', '18 to 24 years',\n",
       "       '25 to 34 years', '35 to 44 years', '45 to 54 years', '55 to 64 years',\n",
       "       '65 to 74 years', '75 years and over',\n",
       "       'Mean income deficit for unrelated individuals (dollars)',\n",
       "       'Worked full-time, year-round in the past 12 months.1',\n",
       "       'Worked less than full-time, year-round in the past 12 months',\n",
       "       'Did not work.1', 'State'],\n",
       "      dtype='object')"
      ]
     },
     "execution_count": 12,
     "metadata": {},
     "output_type": "execute_result"
    }
   ],
   "source": [
    "poverty_DF.columns"
   ]
  },
  {
   "cell_type": "markdown",
   "metadata": {},
   "source": [
    "<div class=\"alert alert-block alert-warning\">  \n",
    "<h4>📝 COMMENTS</h4>\n",
    "<p>Great! Now let's divide them into seperate DataFrames based on the following categories:\n",
    "<li> <b>AGE:</b> poverty_by_age\n",
    "<li> <b>SEX:</b> poverty_by_sex\n",
    "<li> <b>RACE AND HISPANIC OR LATINO ORIGIN:</b> poverty_by_race\n",
    "<li> <b>EDUCATIONAL ATTAINMENT:</b> poverty_by_edu_att\n",
    "<li> <b>EMPLOYMENT STATUS:</b> poverty_by_emp_status\n",
    "<li> <b>WORK EXPERIENCE:</b> poverty_by_work_exp\n",
    "<li> <b>INCOME BELOW POVERTY RATIOS:</b> poverty_by_income\n",
    "<li> <b>UNRELATED INDIVIDUALS:</b> poverty_by_unrelated_ind\n",
    "</p>\n",
    "    \n",
    "</div>"
   ]
  },
  {
   "cell_type": "code",
   "execution_count": 13,
   "metadata": {},
   "outputs": [
    {
     "data": {
      "text/html": [
       "<div>\n",
       "<style scoped>\n",
       "    .dataframe tbody tr th:only-of-type {\n",
       "        vertical-align: middle;\n",
       "    }\n",
       "\n",
       "    .dataframe tbody tr th {\n",
       "        vertical-align: top;\n",
       "    }\n",
       "\n",
       "    .dataframe thead th {\n",
       "        text-align: right;\n",
       "    }\n",
       "</style>\n",
       "<table border=\"1\" class=\"dataframe\">\n",
       "  <thead>\n",
       "    <tr style=\"text-align: right;\">\n",
       "      <th></th>\n",
       "      <th>Estimates</th>\n",
       "      <th>State</th>\n",
       "      <th>Population for whom poverty status is determined</th>\n",
       "      <th>Under 18 years</th>\n",
       "      <th>Under 5 years</th>\n",
       "      <th>5 to 17 years</th>\n",
       "      <th>Related children of householder under 18 years</th>\n",
       "      <th>18 to 64 years</th>\n",
       "      <th>18 to 34 years</th>\n",
       "      <th>35 to 64 years</th>\n",
       "      <th>60 years and over</th>\n",
       "      <th>65 years and over</th>\n",
       "    </tr>\n",
       "  </thead>\n",
       "  <tbody>\n",
       "    <tr>\n",
       "      <th>0</th>\n",
       "      <td>Total Est</td>\n",
       "      <td>Alaska</td>\n",
       "      <td>720,869</td>\n",
       "      <td>180,258</td>\n",
       "      <td>51,329</td>\n",
       "      <td>128,929</td>\n",
       "      <td>179,037</td>\n",
       "      <td>454,213</td>\n",
       "      <td>176,700</td>\n",
       "      <td>277,513</td>\n",
       "      <td>132,192</td>\n",
       "      <td>86,398</td>\n",
       "    </tr>\n",
       "    <tr>\n",
       "      <th>1</th>\n",
       "      <td>BPL</td>\n",
       "      <td>Alaska</td>\n",
       "      <td>78,620</td>\n",
       "      <td>25,327</td>\n",
       "      <td>8,384</td>\n",
       "      <td>16,943</td>\n",
       "      <td>24,235</td>\n",
       "      <td>47,464</td>\n",
       "      <td>22,444</td>\n",
       "      <td>25,020</td>\n",
       "      <td>9,992</td>\n",
       "      <td>5,829</td>\n",
       "    </tr>\n",
       "    <tr>\n",
       "      <th>2</th>\n",
       "      <td>BPL %</td>\n",
       "      <td>Alaska</td>\n",
       "      <td>10.90%</td>\n",
       "      <td>14.10%</td>\n",
       "      <td>16.30%</td>\n",
       "      <td>13.10%</td>\n",
       "      <td>13.50%</td>\n",
       "      <td>10.40%</td>\n",
       "      <td>12.70%</td>\n",
       "      <td>9.00%</td>\n",
       "      <td>7.60%</td>\n",
       "      <td>6.70%</td>\n",
       "    </tr>\n",
       "    <tr>\n",
       "      <th>3</th>\n",
       "      <td>Total Est</td>\n",
       "      <td>Maine</td>\n",
       "      <td>1,301,941</td>\n",
       "      <td>240,662</td>\n",
       "      <td>61,960</td>\n",
       "      <td>178,702</td>\n",
       "      <td>238,546</td>\n",
       "      <td>793,679</td>\n",
       "      <td>248,843</td>\n",
       "      <td>544,836</td>\n",
       "      <td>375,495</td>\n",
       "      <td>267,600</td>\n",
       "    </tr>\n",
       "    <tr>\n",
       "      <th>4</th>\n",
       "      <td>BPL</td>\n",
       "      <td>Maine</td>\n",
       "      <td>151,541</td>\n",
       "      <td>34,878</td>\n",
       "      <td>9,594</td>\n",
       "      <td>25,284</td>\n",
       "      <td>32,908</td>\n",
       "      <td>92,402</td>\n",
       "      <td>37,100</td>\n",
       "      <td>55,302</td>\n",
       "      <td>36,400</td>\n",
       "      <td>24,261</td>\n",
       "    </tr>\n",
       "  </tbody>\n",
       "</table>\n",
       "</div>"
      ],
      "text/plain": [
       "   Estimates   State Population for whom poverty status is determined  \\\n",
       "0  Total Est  Alaska                                          720,869   \n",
       "1        BPL  Alaska                                           78,620   \n",
       "2      BPL %  Alaska                                           10.90%   \n",
       "3  Total Est   Maine                                        1,301,941   \n",
       "4        BPL   Maine                                          151,541   \n",
       "\n",
       "  Under 18 years Under 5 years 5 to 17 years  \\\n",
       "0        180,258        51,329       128,929   \n",
       "1         25,327         8,384        16,943   \n",
       "2         14.10%        16.30%        13.10%   \n",
       "3        240,662        61,960       178,702   \n",
       "4         34,878         9,594        25,284   \n",
       "\n",
       "  Related children of householder under 18 years 18 to 64 years  \\\n",
       "0                                        179,037        454,213   \n",
       "1                                         24,235         47,464   \n",
       "2                                         13.50%         10.40%   \n",
       "3                                        238,546        793,679   \n",
       "4                                         32,908         92,402   \n",
       "\n",
       "  18 to 34 years 35 to 64 years 60 years and over 65 years and over  \n",
       "0        176,700        277,513           132,192            86,398  \n",
       "1         22,444         25,020             9,992             5,829  \n",
       "2         12.70%          9.00%             7.60%             6.70%  \n",
       "3        248,843        544,836           375,495           267,600  \n",
       "4         37,100         55,302            36,400            24,261  "
      ]
     },
     "execution_count": 13,
     "metadata": {},
     "output_type": "execute_result"
    }
   ],
   "source": [
    "poverty_by_age = poverty_DF[['Estimates', \n",
    "                             'State',\n",
    "                             'Population for whom poverty status is determined', \n",
    "                             'Under 18 years', \n",
    "                             'Under 5 years', \n",
    "                             '5 to 17 years',\n",
    "                             'Related children of householder under 18 years', \n",
    "                             '18 to 64 years',\n",
    "                             '18 to 34 years', \n",
    "                             '35 to 64 years', \n",
    "                             '60 years and over',\n",
    "                             '65 years and over']]\n",
    "poverty_by_age.dropna(inplace = True)\n",
    "poverty_by_age.reset_index(inplace = True,drop = True)\n",
    "poverty_by_age.head(5)"
   ]
  },
  {
   "cell_type": "code",
   "execution_count": 14,
   "metadata": {},
   "outputs": [
    {
     "data": {
      "text/plain": [
       "Estimates                                           0\n",
       "State                                               0\n",
       "Population for whom poverty status is determined    0\n",
       "Under 18 years                                      0\n",
       "Under 5 years                                       0\n",
       "5 to 17 years                                       0\n",
       "Related children of householder under 18 years      0\n",
       "18 to 64 years                                      0\n",
       "18 to 34 years                                      0\n",
       "35 to 64 years                                      0\n",
       "60 years and over                                   0\n",
       "65 years and over                                   0\n",
       "dtype: int64"
      ]
     },
     "execution_count": 14,
     "metadata": {},
     "output_type": "execute_result"
    }
   ],
   "source": [
    "poverty_by_age.isnull().sum()"
   ]
  },
  {
   "cell_type": "code",
   "execution_count": 15,
   "metadata": {},
   "outputs": [
    {
     "data": {
      "text/html": [
       "<div>\n",
       "<style scoped>\n",
       "    .dataframe tbody tr th:only-of-type {\n",
       "        vertical-align: middle;\n",
       "    }\n",
       "\n",
       "    .dataframe tbody tr th {\n",
       "        vertical-align: top;\n",
       "    }\n",
       "\n",
       "    .dataframe thead th {\n",
       "        text-align: right;\n",
       "    }\n",
       "</style>\n",
       "<table border=\"1\" class=\"dataframe\">\n",
       "  <thead>\n",
       "    <tr style=\"text-align: right;\">\n",
       "      <th></th>\n",
       "      <th>Estimates</th>\n",
       "      <th>State</th>\n",
       "      <th>Population for whom poverty status is determined</th>\n",
       "      <th>Male</th>\n",
       "      <th>Female</th>\n",
       "    </tr>\n",
       "  </thead>\n",
       "  <tbody>\n",
       "    <tr>\n",
       "      <th>0</th>\n",
       "      <td>Total Est</td>\n",
       "      <td>Alaska</td>\n",
       "      <td>720,869</td>\n",
       "      <td>370,771</td>\n",
       "      <td>350,098</td>\n",
       "    </tr>\n",
       "    <tr>\n",
       "      <th>1</th>\n",
       "      <td>BPL</td>\n",
       "      <td>Alaska</td>\n",
       "      <td>78,620</td>\n",
       "      <td>38,912</td>\n",
       "      <td>39,708</td>\n",
       "    </tr>\n",
       "    <tr>\n",
       "      <th>2</th>\n",
       "      <td>BPL %</td>\n",
       "      <td>Alaska</td>\n",
       "      <td>10.90%</td>\n",
       "      <td>10.50%</td>\n",
       "      <td>11.30%</td>\n",
       "    </tr>\n",
       "    <tr>\n",
       "      <th>3</th>\n",
       "      <td>Total Est</td>\n",
       "      <td>Maine</td>\n",
       "      <td>1,301,941</td>\n",
       "      <td>635,636</td>\n",
       "      <td>666,305</td>\n",
       "    </tr>\n",
       "    <tr>\n",
       "      <th>4</th>\n",
       "      <td>BPL</td>\n",
       "      <td>Maine</td>\n",
       "      <td>151,541</td>\n",
       "      <td>65,931</td>\n",
       "      <td>85,610</td>\n",
       "    </tr>\n",
       "  </tbody>\n",
       "</table>\n",
       "</div>"
      ],
      "text/plain": [
       "   Estimates   State Population for whom poverty status is determined  \\\n",
       "0  Total Est  Alaska                                          720,869   \n",
       "1        BPL  Alaska                                           78,620   \n",
       "2      BPL %  Alaska                                           10.90%   \n",
       "3  Total Est   Maine                                        1,301,941   \n",
       "4        BPL   Maine                                          151,541   \n",
       "\n",
       "      Male   Female  \n",
       "0  370,771  350,098  \n",
       "1   38,912   39,708  \n",
       "2   10.50%   11.30%  \n",
       "3  635,636  666,305  \n",
       "4   65,931   85,610  "
      ]
     },
     "execution_count": 15,
     "metadata": {},
     "output_type": "execute_result"
    }
   ],
   "source": [
    "poverty_by_sex = poverty_DF[['Estimates', \n",
    "                             'State',\n",
    "                             'Population for whom poverty status is determined',\n",
    "                             'Male', \n",
    "                             'Female']]\n",
    "poverty_by_sex.dropna(inplace = True)\n",
    "poverty_by_sex.reset_index(inplace = True,drop = True)\n",
    "poverty_by_sex.head(5)"
   ]
  },
  {
   "cell_type": "code",
   "execution_count": 16,
   "metadata": {},
   "outputs": [
    {
     "data": {
      "text/plain": [
       "Estimates                                           0\n",
       "State                                               0\n",
       "Population for whom poverty status is determined    0\n",
       "Male                                                0\n",
       "Female                                              0\n",
       "dtype: int64"
      ]
     },
     "execution_count": 16,
     "metadata": {},
     "output_type": "execute_result"
    }
   ],
   "source": [
    "poverty_by_sex.isnull().sum()"
   ]
  },
  {
   "cell_type": "code",
   "execution_count": 112,
   "metadata": {},
   "outputs": [
    {
     "data": {
      "text/html": [
       "<div>\n",
       "<style scoped>\n",
       "    .dataframe tbody tr th:only-of-type {\n",
       "        vertical-align: middle;\n",
       "    }\n",
       "\n",
       "    .dataframe tbody tr th {\n",
       "        vertical-align: top;\n",
       "    }\n",
       "\n",
       "    .dataframe thead th {\n",
       "        text-align: right;\n",
       "    }\n",
       "</style>\n",
       "<table border=\"1\" class=\"dataframe\">\n",
       "  <thead>\n",
       "    <tr style=\"text-align: right;\">\n",
       "      <th></th>\n",
       "      <th>Estimates</th>\n",
       "      <th>State</th>\n",
       "      <th>Population for whom poverty status is determined</th>\n",
       "      <th>White alone</th>\n",
       "      <th>Black or African American alone</th>\n",
       "      <th>American Indian and Alaska Native alone</th>\n",
       "      <th>Asian alone</th>\n",
       "      <th>Native Hawaiian and Other Pacific Islander alone</th>\n",
       "      <th>Some other race alone</th>\n",
       "      <th>Two or more races</th>\n",
       "      <th>Hispanic or Latino origin (of any race)</th>\n",
       "      <th>White alone, not Hispanic or Latino</th>\n",
       "    </tr>\n",
       "  </thead>\n",
       "  <tbody>\n",
       "    <tr>\n",
       "      <th>0</th>\n",
       "      <td>Total Est</td>\n",
       "      <td>Alaska</td>\n",
       "      <td>720,869</td>\n",
       "      <td>464,926</td>\n",
       "      <td>23,967</td>\n",
       "      <td>107,926</td>\n",
       "      <td>46,023</td>\n",
       "      <td>7,846</td>\n",
       "      <td>9,732</td>\n",
       "      <td>60,449</td>\n",
       "      <td>51,952</td>\n",
       "      <td>434,277</td>\n",
       "    </tr>\n",
       "    <tr>\n",
       "      <th>1</th>\n",
       "      <td>BPL</td>\n",
       "      <td>Alaska</td>\n",
       "      <td>78,620</td>\n",
       "      <td>34,474</td>\n",
       "      <td>2,719</td>\n",
       "      <td>24,632</td>\n",
       "      <td>6,567</td>\n",
       "      <td>2,267</td>\n",
       "      <td>733</td>\n",
       "      <td>7,228</td>\n",
       "      <td>4,820</td>\n",
       "      <td>32,089</td>\n",
       "    </tr>\n",
       "    <tr>\n",
       "      <th>2</th>\n",
       "      <td>BPL %</td>\n",
       "      <td>Alaska</td>\n",
       "      <td>10.90%</td>\n",
       "      <td>7.40%</td>\n",
       "      <td>11.30%</td>\n",
       "      <td>22.80%</td>\n",
       "      <td>14.30%</td>\n",
       "      <td>28.90%</td>\n",
       "      <td>7.50%</td>\n",
       "      <td>12.00%</td>\n",
       "      <td>9.30%</td>\n",
       "      <td>7.40%</td>\n",
       "    </tr>\n",
       "    <tr>\n",
       "      <th>3</th>\n",
       "      <td>Total Est</td>\n",
       "      <td>Maine</td>\n",
       "      <td>1,301,941</td>\n",
       "      <td>1,229,684</td>\n",
       "      <td>17,514</td>\n",
       "      <td>8,192</td>\n",
       "      <td>14,583</td>\n",
       "      <td>N</td>\n",
       "      <td>N</td>\n",
       "      <td>28,350</td>\n",
       "      <td>20,688</td>\n",
       "      <td>1,214,331</td>\n",
       "    </tr>\n",
       "    <tr>\n",
       "      <th>4</th>\n",
       "      <td>BPL</td>\n",
       "      <td>Maine</td>\n",
       "      <td>151,541</td>\n",
       "      <td>138,045</td>\n",
       "      <td>3,531</td>\n",
       "      <td>2,865</td>\n",
       "      <td>861</td>\n",
       "      <td>N</td>\n",
       "      <td>N</td>\n",
       "      <td>5,198</td>\n",
       "      <td>5,389</td>\n",
       "      <td>133,986</td>\n",
       "    </tr>\n",
       "  </tbody>\n",
       "</table>\n",
       "</div>"
      ],
      "text/plain": [
       "   Estimates   State Population for whom poverty status is determined  \\\n",
       "0  Total Est  Alaska                                          720,869   \n",
       "1        BPL  Alaska                                           78,620   \n",
       "2      BPL %  Alaska                                           10.90%   \n",
       "3  Total Est   Maine                                        1,301,941   \n",
       "4        BPL   Maine                                          151,541   \n",
       "\n",
       "  White alone Black or African American alone  \\\n",
       "0     464,926                          23,967   \n",
       "1      34,474                           2,719   \n",
       "2       7.40%                          11.30%   \n",
       "3   1,229,684                          17,514   \n",
       "4     138,045                           3,531   \n",
       "\n",
       "  American Indian and Alaska Native alone Asian alone  \\\n",
       "0                                 107,926      46,023   \n",
       "1                                  24,632       6,567   \n",
       "2                                  22.80%      14.30%   \n",
       "3                                   8,192      14,583   \n",
       "4                                   2,865         861   \n",
       "\n",
       "  Native Hawaiian and Other Pacific Islander alone Some other race alone  \\\n",
       "0                                            7,846                 9,732   \n",
       "1                                            2,267                   733   \n",
       "2                                           28.90%                 7.50%   \n",
       "3                                                N                     N   \n",
       "4                                                N                     N   \n",
       "\n",
       "  Two or more races Hispanic or Latino origin (of any race)  \\\n",
       "0            60,449                                  51,952   \n",
       "1             7,228                                   4,820   \n",
       "2            12.00%                                   9.30%   \n",
       "3            28,350                                  20,688   \n",
       "4             5,198                                   5,389   \n",
       "\n",
       "  White alone, not Hispanic or Latino  \n",
       "0                             434,277  \n",
       "1                              32,089  \n",
       "2                               7.40%  \n",
       "3                           1,214,331  \n",
       "4                             133,986  "
      ]
     },
     "execution_count": 112,
     "metadata": {},
     "output_type": "execute_result"
    }
   ],
   "source": [
    "poverty_by_race = poverty_DF[[\n",
    "            'Estimates', \n",
    "            'State',\n",
    "            'Population for whom poverty status is determined',\n",
    "            'White alone',\n",
    "            'Black or African American alone',\n",
    "            'American Indian and Alaska Native alone', 'Asian alone',\n",
    "            'Native Hawaiian and Other Pacific Islander alone',\n",
    "            'Some other race alone', 'Two or more races',\n",
    "            'Hispanic or Latino origin (of any race)',\n",
    "            'White alone, not Hispanic or Latino']]\n",
    "poverty_by_race.dropna(inplace = True)\n",
    "poverty_by_race.reset_index(inplace = True,drop = True)\n",
    "poverty_by_race.head(5)"
   ]
  },
  {
   "cell_type": "code",
   "execution_count": 18,
   "metadata": {},
   "outputs": [
    {
     "data": {
      "text/plain": [
       "Estimates                                           0\n",
       "State                                               0\n",
       "Population for whom poverty status is determined    0\n",
       "White alone                                         0\n",
       "Black or African American alone                     0\n",
       "American Indian and Alaska Native alone             0\n",
       "Asian alone                                         0\n",
       "Native Hawaiian and Other Pacific Islander alone    0\n",
       "Some other race alone                               0\n",
       "Two or more races                                   0\n",
       "Hispanic or Latino origin (of any race)             0\n",
       "White alone, not Hispanic or Latino                 0\n",
       "dtype: int64"
      ]
     },
     "execution_count": 18,
     "metadata": {},
     "output_type": "execute_result"
    }
   ],
   "source": [
    "poverty_by_race.isnull().sum()"
   ]
  },
  {
   "cell_type": "code",
   "execution_count": 19,
   "metadata": {},
   "outputs": [
    {
     "data": {
      "text/html": [
       "<div>\n",
       "<style scoped>\n",
       "    .dataframe tbody tr th:only-of-type {\n",
       "        vertical-align: middle;\n",
       "    }\n",
       "\n",
       "    .dataframe tbody tr th {\n",
       "        vertical-align: top;\n",
       "    }\n",
       "\n",
       "    .dataframe thead th {\n",
       "        text-align: right;\n",
       "    }\n",
       "</style>\n",
       "<table border=\"1\" class=\"dataframe\">\n",
       "  <thead>\n",
       "    <tr style=\"text-align: right;\">\n",
       "      <th></th>\n",
       "      <th>Estimates</th>\n",
       "      <th>State</th>\n",
       "      <th>Population for whom poverty status is determined</th>\n",
       "      <th>Population 25 years and over</th>\n",
       "      <th>Less than high school graduate</th>\n",
       "      <th>High school graduate (includes equivalency)</th>\n",
       "      <th>Some college, associate's degree</th>\n",
       "      <th>Bachelor's degree or higher</th>\n",
       "    </tr>\n",
       "  </thead>\n",
       "  <tbody>\n",
       "    <tr>\n",
       "      <th>0</th>\n",
       "      <td>Total Est</td>\n",
       "      <td>Alaska</td>\n",
       "      <td>720,869</td>\n",
       "      <td>478,760</td>\n",
       "      <td>31,656</td>\n",
       "      <td>133,759</td>\n",
       "      <td>167,511</td>\n",
       "      <td>145,834</td>\n",
       "    </tr>\n",
       "    <tr>\n",
       "      <th>1</th>\n",
       "      <td>BPL</td>\n",
       "      <td>Alaska</td>\n",
       "      <td>78,620</td>\n",
       "      <td>43,873</td>\n",
       "      <td>6,777</td>\n",
       "      <td>19,063</td>\n",
       "      <td>13,485</td>\n",
       "      <td>4,548</td>\n",
       "    </tr>\n",
       "    <tr>\n",
       "      <th>2</th>\n",
       "      <td>BPL %</td>\n",
       "      <td>Alaska</td>\n",
       "      <td>10.90%</td>\n",
       "      <td>9.20%</td>\n",
       "      <td>21.40%</td>\n",
       "      <td>14.30%</td>\n",
       "      <td>8.10%</td>\n",
       "      <td>3.10%</td>\n",
       "    </tr>\n",
       "    <tr>\n",
       "      <th>3</th>\n",
       "      <td>Total Est</td>\n",
       "      <td>Maine</td>\n",
       "      <td>1,301,941</td>\n",
       "      <td>970,661</td>\n",
       "      <td>66,093</td>\n",
       "      <td>302,809</td>\n",
       "      <td>293,014</td>\n",
       "      <td>308,745</td>\n",
       "    </tr>\n",
       "    <tr>\n",
       "      <th>4</th>\n",
       "      <td>BPL</td>\n",
       "      <td>Maine</td>\n",
       "      <td>151,541</td>\n",
       "      <td>100,307</td>\n",
       "      <td>16,457</td>\n",
       "      <td>39,471</td>\n",
       "      <td>28,389</td>\n",
       "      <td>15,990</td>\n",
       "    </tr>\n",
       "  </tbody>\n",
       "</table>\n",
       "</div>"
      ],
      "text/plain": [
       "   Estimates   State Population for whom poverty status is determined  \\\n",
       "0  Total Est  Alaska                                          720,869   \n",
       "1        BPL  Alaska                                           78,620   \n",
       "2      BPL %  Alaska                                           10.90%   \n",
       "3  Total Est   Maine                                        1,301,941   \n",
       "4        BPL   Maine                                          151,541   \n",
       "\n",
       "  Population 25 years and over Less than high school graduate  \\\n",
       "0                      478,760                         31,656   \n",
       "1                       43,873                          6,777   \n",
       "2                        9.20%                         21.40%   \n",
       "3                      970,661                         66,093   \n",
       "4                      100,307                         16,457   \n",
       "\n",
       "  High school graduate (includes equivalency)  \\\n",
       "0                                     133,759   \n",
       "1                                      19,063   \n",
       "2                                      14.30%   \n",
       "3                                     302,809   \n",
       "4                                      39,471   \n",
       "\n",
       "  Some college, associate's degree Bachelor's degree or higher  \n",
       "0                          167,511                     145,834  \n",
       "1                           13,485                       4,548  \n",
       "2                            8.10%                       3.10%  \n",
       "3                          293,014                     308,745  \n",
       "4                           28,389                      15,990  "
      ]
     },
     "execution_count": 19,
     "metadata": {},
     "output_type": "execute_result"
    }
   ],
   "source": [
    "poverty_by_edu_att = poverty_DF[[\n",
    "                'Estimates', \n",
    "                'State',\n",
    "                'Population for whom poverty status is determined',\n",
    "                'Population 25 years and over', 'Less than high school graduate',\n",
    "                'High school graduate (includes equivalency)',\n",
    "                \"Some college, associate's degree\", \n",
    "                \"Bachelor's degree or higher\",              \n",
    "                ]]\n",
    "poverty_by_edu_att.dropna(inplace = True)\n",
    "poverty_by_edu_att.reset_index(inplace = True,drop = True)\n",
    "poverty_by_edu_att.head(5)"
   ]
  },
  {
   "cell_type": "code",
   "execution_count": 20,
   "metadata": {},
   "outputs": [
    {
     "data": {
      "text/plain": [
       "Estimates                                           0\n",
       "State                                               0\n",
       "Population for whom poverty status is determined    0\n",
       "Population 25 years and over                        0\n",
       "Less than high school graduate                      0\n",
       "High school graduate (includes equivalency)         0\n",
       "Some college, associate's degree                    0\n",
       "Bachelor's degree or higher                         0\n",
       "dtype: int64"
      ]
     },
     "execution_count": 20,
     "metadata": {},
     "output_type": "execute_result"
    }
   ],
   "source": [
    "poverty_by_edu_att.isnull().sum()"
   ]
  },
  {
   "cell_type": "code",
   "execution_count": 21,
   "metadata": {},
   "outputs": [
    {
     "data": {
      "text/html": [
       "<div>\n",
       "<style scoped>\n",
       "    .dataframe tbody tr th:only-of-type {\n",
       "        vertical-align: middle;\n",
       "    }\n",
       "\n",
       "    .dataframe tbody tr th {\n",
       "        vertical-align: top;\n",
       "    }\n",
       "\n",
       "    .dataframe thead th {\n",
       "        text-align: right;\n",
       "    }\n",
       "</style>\n",
       "<table border=\"1\" class=\"dataframe\">\n",
       "  <thead>\n",
       "    <tr style=\"text-align: right;\">\n",
       "      <th></th>\n",
       "      <th>Estimates</th>\n",
       "      <th>State</th>\n",
       "      <th>Population for whom poverty status is determined</th>\n",
       "      <th>Civilian labor force 16 years and over</th>\n",
       "      <th>Employed</th>\n",
       "      <th>Male.1</th>\n",
       "      <th>Female.1</th>\n",
       "      <th>Unemployed</th>\n",
       "      <th>Male.2</th>\n",
       "      <th>Female.2</th>\n",
       "    </tr>\n",
       "  </thead>\n",
       "  <tbody>\n",
       "    <tr>\n",
       "      <th>0</th>\n",
       "      <td>Total Est</td>\n",
       "      <td>Alaska</td>\n",
       "      <td>720,869</td>\n",
       "      <td>370,092</td>\n",
       "      <td>344,700</td>\n",
       "      <td>182,981</td>\n",
       "      <td>161,719</td>\n",
       "      <td>25,392</td>\n",
       "      <td>16,131</td>\n",
       "      <td>9,261</td>\n",
       "    </tr>\n",
       "    <tr>\n",
       "      <th>1</th>\n",
       "      <td>BPL</td>\n",
       "      <td>Alaska</td>\n",
       "      <td>78,620</td>\n",
       "      <td>25,814</td>\n",
       "      <td>17,775</td>\n",
       "      <td>8,312</td>\n",
       "      <td>9,463</td>\n",
       "      <td>8,039</td>\n",
       "      <td>5,279</td>\n",
       "      <td>2,760</td>\n",
       "    </tr>\n",
       "    <tr>\n",
       "      <th>2</th>\n",
       "      <td>BPL %</td>\n",
       "      <td>Alaska</td>\n",
       "      <td>10.90%</td>\n",
       "      <td>7.00%</td>\n",
       "      <td>5.20%</td>\n",
       "      <td>4.50%</td>\n",
       "      <td>5.90%</td>\n",
       "      <td>31.70%</td>\n",
       "      <td>32.70%</td>\n",
       "      <td>29.80%</td>\n",
       "    </tr>\n",
       "    <tr>\n",
       "      <th>3</th>\n",
       "      <td>Total Est</td>\n",
       "      <td>Maine</td>\n",
       "      <td>1,301,941</td>\n",
       "      <td>696,053</td>\n",
       "      <td>671,844</td>\n",
       "      <td>341,628</td>\n",
       "      <td>330,216</td>\n",
       "      <td>24,209</td>\n",
       "      <td>15,076</td>\n",
       "      <td>9,133</td>\n",
       "    </tr>\n",
       "    <tr>\n",
       "      <th>4</th>\n",
       "      <td>BPL</td>\n",
       "      <td>Maine</td>\n",
       "      <td>151,541</td>\n",
       "      <td>42,881</td>\n",
       "      <td>36,406</td>\n",
       "      <td>15,286</td>\n",
       "      <td>21,120</td>\n",
       "      <td>6,475</td>\n",
       "      <td>3,326</td>\n",
       "      <td>3,149</td>\n",
       "    </tr>\n",
       "  </tbody>\n",
       "</table>\n",
       "</div>"
      ],
      "text/plain": [
       "   Estimates   State Population for whom poverty status is determined  \\\n",
       "0  Total Est  Alaska                                          720,869   \n",
       "1        BPL  Alaska                                           78,620   \n",
       "2      BPL %  Alaska                                           10.90%   \n",
       "3  Total Est   Maine                                        1,301,941   \n",
       "4        BPL   Maine                                          151,541   \n",
       "\n",
       "  Civilian labor force 16 years and over Employed   Male.1 Female.1  \\\n",
       "0                                370,092  344,700  182,981  161,719   \n",
       "1                                 25,814   17,775    8,312    9,463   \n",
       "2                                  7.00%    5.20%    4.50%    5.90%   \n",
       "3                                696,053  671,844  341,628  330,216   \n",
       "4                                 42,881   36,406   15,286   21,120   \n",
       "\n",
       "  Unemployed  Male.2 Female.2  \n",
       "0     25,392  16,131    9,261  \n",
       "1      8,039   5,279    2,760  \n",
       "2     31.70%  32.70%   29.80%  \n",
       "3     24,209  15,076    9,133  \n",
       "4      6,475   3,326    3,149  "
      ]
     },
     "execution_count": 21,
     "metadata": {},
     "output_type": "execute_result"
    }
   ],
   "source": [
    "poverty_by_emp_status = poverty_DF[[\n",
    "                    'Estimates', \n",
    "                    'State',\n",
    "                    'Population for whom poverty status is determined',\n",
    "                    'Civilian labor force 16 years and over',\n",
    "                    'Employed', 'Male.1', 'Female.1', 'Unemployed', 'Male.2', 'Female.2',\n",
    "]]\n",
    "poverty_by_emp_status.dropna(inplace = True)\n",
    "poverty_by_emp_status.reset_index(inplace = True,drop = True)\n",
    "poverty_by_emp_status.head(5)"
   ]
  },
  {
   "cell_type": "code",
   "execution_count": 22,
   "metadata": {},
   "outputs": [
    {
     "data": {
      "text/plain": [
       "Estimates                                           0\n",
       "State                                               0\n",
       "Population for whom poverty status is determined    0\n",
       "Civilian labor force 16 years and over              0\n",
       "Employed                                            0\n",
       "Male.1                                              0\n",
       "Female.1                                            0\n",
       "Unemployed                                          0\n",
       "Male.2                                              0\n",
       "Female.2                                            0\n",
       "dtype: int64"
      ]
     },
     "execution_count": 22,
     "metadata": {},
     "output_type": "execute_result"
    }
   ],
   "source": [
    "poverty_by_emp_status.isnull().sum()"
   ]
  },
  {
   "cell_type": "code",
   "execution_count": 23,
   "metadata": {},
   "outputs": [
    {
     "data": {
      "text/html": [
       "<div>\n",
       "<style scoped>\n",
       "    .dataframe tbody tr th:only-of-type {\n",
       "        vertical-align: middle;\n",
       "    }\n",
       "\n",
       "    .dataframe tbody tr th {\n",
       "        vertical-align: top;\n",
       "    }\n",
       "\n",
       "    .dataframe thead th {\n",
       "        text-align: right;\n",
       "    }\n",
       "</style>\n",
       "<table border=\"1\" class=\"dataframe\">\n",
       "  <thead>\n",
       "    <tr style=\"text-align: right;\">\n",
       "      <th></th>\n",
       "      <th>Estimates</th>\n",
       "      <th>State</th>\n",
       "      <th>Population for whom poverty status is determined</th>\n",
       "      <th>Population 16 years and over</th>\n",
       "      <th>Worked full-time, year-round in the past 12 months</th>\n",
       "      <th>Worked part-time or part-year in the past 12 months</th>\n",
       "      <th>Did not work</th>\n",
       "    </tr>\n",
       "  </thead>\n",
       "  <tbody>\n",
       "    <tr>\n",
       "      <th>0</th>\n",
       "      <td>Total Est</td>\n",
       "      <td>Alaska</td>\n",
       "      <td>720,869</td>\n",
       "      <td>559,276</td>\n",
       "      <td>243,287</td>\n",
       "      <td>158,463</td>\n",
       "      <td>157,526</td>\n",
       "    </tr>\n",
       "    <tr>\n",
       "      <th>1</th>\n",
       "      <td>BPL</td>\n",
       "      <td>Alaska</td>\n",
       "      <td>78,620</td>\n",
       "      <td>55,473</td>\n",
       "      <td>4,545</td>\n",
       "      <td>21,941</td>\n",
       "      <td>28,987</td>\n",
       "    </tr>\n",
       "    <tr>\n",
       "      <th>2</th>\n",
       "      <td>BPL %</td>\n",
       "      <td>Alaska</td>\n",
       "      <td>10.90%</td>\n",
       "      <td>9.90%</td>\n",
       "      <td>1.90%</td>\n",
       "      <td>13.80%</td>\n",
       "      <td>18.40%</td>\n",
       "    </tr>\n",
       "    <tr>\n",
       "      <th>3</th>\n",
       "      <td>Total Est</td>\n",
       "      <td>Maine</td>\n",
       "      <td>1,301,941</td>\n",
       "      <td>1,090,758</td>\n",
       "      <td>463,457</td>\n",
       "      <td>273,525</td>\n",
       "      <td>353,776</td>\n",
       "    </tr>\n",
       "    <tr>\n",
       "      <th>4</th>\n",
       "      <td>BPL</td>\n",
       "      <td>Maine</td>\n",
       "      <td>151,541</td>\n",
       "      <td>120,880</td>\n",
       "      <td>8,397</td>\n",
       "      <td>39,962</td>\n",
       "      <td>72,521</td>\n",
       "    </tr>\n",
       "  </tbody>\n",
       "</table>\n",
       "</div>"
      ],
      "text/plain": [
       "   Estimates   State Population for whom poverty status is determined  \\\n",
       "0  Total Est  Alaska                                          720,869   \n",
       "1        BPL  Alaska                                           78,620   \n",
       "2      BPL %  Alaska                                           10.90%   \n",
       "3  Total Est   Maine                                        1,301,941   \n",
       "4        BPL   Maine                                          151,541   \n",
       "\n",
       "  Population 16 years and over  \\\n",
       "0                      559,276   \n",
       "1                       55,473   \n",
       "2                        9.90%   \n",
       "3                    1,090,758   \n",
       "4                      120,880   \n",
       "\n",
       "  Worked full-time, year-round in the past 12 months  \\\n",
       "0                                            243,287   \n",
       "1                                              4,545   \n",
       "2                                              1.90%   \n",
       "3                                            463,457   \n",
       "4                                              8,397   \n",
       "\n",
       "  Worked part-time or part-year in the past 12 months Did not work  \n",
       "0                                            158,463       157,526  \n",
       "1                                             21,941        28,987  \n",
       "2                                             13.80%        18.40%  \n",
       "3                                            273,525       353,776  \n",
       "4                                             39,962        72,521  "
      ]
     },
     "execution_count": 23,
     "metadata": {},
     "output_type": "execute_result"
    }
   ],
   "source": [
    "poverty_by_work_exp = poverty_DF[[\n",
    "                        'Estimates', \n",
    "                        'State',\n",
    "                        'Population for whom poverty status is determined',\n",
    "                        'Population 16 years and over',\n",
    "                        'Worked full-time, year-round in the past 12 months',\n",
    "                        'Worked part-time or part-year in the past 12 months', 'Did not work'\n",
    "]]\n",
    "poverty_by_work_exp.dropna(inplace = True)\n",
    "poverty_by_work_exp.reset_index(inplace = True,drop = True)\n",
    "poverty_by_work_exp.head(5)"
   ]
  },
  {
   "cell_type": "code",
   "execution_count": 24,
   "metadata": {},
   "outputs": [
    {
     "data": {
      "text/plain": [
       "Estimates                                              0\n",
       "State                                                  0\n",
       "Population for whom poverty status is determined       0\n",
       "Population 16 years and over                           0\n",
       "Worked full-time, year-round in the past 12 months     0\n",
       "Worked part-time or part-year in the past 12 months    0\n",
       "Did not work                                           0\n",
       "dtype: int64"
      ]
     },
     "execution_count": 24,
     "metadata": {},
     "output_type": "execute_result"
    }
   ],
   "source": [
    "poverty_by_work_exp.isnull().sum()"
   ]
  },
  {
   "cell_type": "code",
   "execution_count": 25,
   "metadata": {},
   "outputs": [
    {
     "data": {
      "text/html": [
       "<div>\n",
       "<style scoped>\n",
       "    .dataframe tbody tr th:only-of-type {\n",
       "        vertical-align: middle;\n",
       "    }\n",
       "\n",
       "    .dataframe tbody tr th {\n",
       "        vertical-align: top;\n",
       "    }\n",
       "\n",
       "    .dataframe thead th {\n",
       "        text-align: right;\n",
       "    }\n",
       "</style>\n",
       "<table border=\"1\" class=\"dataframe\">\n",
       "  <thead>\n",
       "    <tr style=\"text-align: right;\">\n",
       "      <th></th>\n",
       "      <th>Estimates</th>\n",
       "      <th>State</th>\n",
       "      <th>Population for whom poverty status is determined</th>\n",
       "      <th>50 percent of poverty level</th>\n",
       "      <th>125 percent of poverty level</th>\n",
       "      <th>150 percent of poverty level</th>\n",
       "      <th>185 percent of poverty level</th>\n",
       "      <th>200 percent of poverty level</th>\n",
       "      <th>300 percent of poverty level</th>\n",
       "      <th>400 percent of poverty level</th>\n",
       "      <th>500 percent of poverty level</th>\n",
       "    </tr>\n",
       "  </thead>\n",
       "  <tbody>\n",
       "    <tr>\n",
       "      <th>0</th>\n",
       "      <td>Total Est</td>\n",
       "      <td>Alaska</td>\n",
       "      <td>720,869</td>\n",
       "      <td>37,710</td>\n",
       "      <td>100,355</td>\n",
       "      <td>126,748</td>\n",
       "      <td>167,488</td>\n",
       "      <td>181,502</td>\n",
       "      <td>296,900</td>\n",
       "      <td>393,946</td>\n",
       "      <td>480,098</td>\n",
       "    </tr>\n",
       "    <tr>\n",
       "      <th>1</th>\n",
       "      <td>Total Est</td>\n",
       "      <td>Maine</td>\n",
       "      <td>1,301,941</td>\n",
       "      <td>60,264</td>\n",
       "      <td>204,217</td>\n",
       "      <td>255,666</td>\n",
       "      <td>344,229</td>\n",
       "      <td>378,642</td>\n",
       "      <td>604,470</td>\n",
       "      <td>798,827</td>\n",
       "      <td>954,763</td>\n",
       "    </tr>\n",
       "    <tr>\n",
       "      <th>2</th>\n",
       "      <td>Total Est</td>\n",
       "      <td>North Carolina</td>\n",
       "      <td>10,100,431</td>\n",
       "      <td>622,599</td>\n",
       "      <td>1,900,667</td>\n",
       "      <td>2,367,982</td>\n",
       "      <td>3,077,150</td>\n",
       "      <td>3,396,151</td>\n",
       "      <td>5,151,267</td>\n",
       "      <td>6,549,114</td>\n",
       "      <td>7,602,253</td>\n",
       "    </tr>\n",
       "    <tr>\n",
       "      <th>3</th>\n",
       "      <td>Total Est</td>\n",
       "      <td>Missouri</td>\n",
       "      <td>5,943,658</td>\n",
       "      <td>335,885</td>\n",
       "      <td>1,066,683</td>\n",
       "      <td>1,313,229</td>\n",
       "      <td>1,701,072</td>\n",
       "      <td>1,873,713</td>\n",
       "      <td>2,916,185</td>\n",
       "      <td>3,823,677</td>\n",
       "      <td>4,469,204</td>\n",
       "    </tr>\n",
       "    <tr>\n",
       "      <th>4</th>\n",
       "      <td>Total Est</td>\n",
       "      <td>Pennsylvania</td>\n",
       "      <td>12,394,000</td>\n",
       "      <td>693,015</td>\n",
       "      <td>2,012,077</td>\n",
       "      <td>2,470,550</td>\n",
       "      <td>3,170,324</td>\n",
       "      <td>3,492,477</td>\n",
       "      <td>5,450,455</td>\n",
       "      <td>7,240,999</td>\n",
       "      <td>8,637,022</td>\n",
       "    </tr>\n",
       "  </tbody>\n",
       "</table>\n",
       "</div>"
      ],
      "text/plain": [
       "   Estimates           State Population for whom poverty status is determined  \\\n",
       "0  Total Est          Alaska                                          720,869   \n",
       "1  Total Est           Maine                                        1,301,941   \n",
       "2  Total Est  North Carolina                                       10,100,431   \n",
       "3  Total Est        Missouri                                        5,943,658   \n",
       "4  Total Est    Pennsylvania                                       12,394,000   \n",
       "\n",
       "  50 percent of poverty level 125 percent of poverty level  \\\n",
       "0                      37,710                      100,355   \n",
       "1                      60,264                      204,217   \n",
       "2                     622,599                    1,900,667   \n",
       "3                     335,885                    1,066,683   \n",
       "4                     693,015                    2,012,077   \n",
       "\n",
       "  150 percent of poverty level 185 percent of poverty level  \\\n",
       "0                      126,748                      167,488   \n",
       "1                      255,666                      344,229   \n",
       "2                    2,367,982                    3,077,150   \n",
       "3                    1,313,229                    1,701,072   \n",
       "4                    2,470,550                    3,170,324   \n",
       "\n",
       "  200 percent of poverty level 300 percent of poverty level  \\\n",
       "0                      181,502                      296,900   \n",
       "1                      378,642                      604,470   \n",
       "2                    3,396,151                    5,151,267   \n",
       "3                    1,873,713                    2,916,185   \n",
       "4                    3,492,477                    5,450,455   \n",
       "\n",
       "  400 percent of poverty level 500 percent of poverty level  \n",
       "0                      393,946                      480,098  \n",
       "1                      798,827                      954,763  \n",
       "2                    6,549,114                    7,602,253  \n",
       "3                    3,823,677                    4,469,204  \n",
       "4                    7,240,999                    8,637,022  "
      ]
     },
     "execution_count": 25,
     "metadata": {},
     "output_type": "execute_result"
    }
   ],
   "source": [
    "poverty_by_income = poverty_DF[[\n",
    "                        'Estimates', \n",
    "                        'State',\n",
    "                        'Population for whom poverty status is determined',  \n",
    "                        '50 percent of poverty level', '125 percent of poverty level',\n",
    "                       '150 percent of poverty level', '185 percent of poverty level',\n",
    "                       '200 percent of poverty level', '300 percent of poverty level',\n",
    "                       '400 percent of poverty level', '500 percent of poverty level',\n",
    "]]\n",
    "poverty_by_income.dropna(inplace = True)\n",
    "poverty_by_income = poverty_by_income[poverty_by_income['Estimates'] != 'BPL']\n",
    "poverty_by_income = poverty_by_income[poverty_by_income['Estimates'] != 'BPL %']\n",
    "poverty_by_income.reset_index(inplace = True,drop = True)\n",
    "poverty_by_income.head(5)"
   ]
  },
  {
   "cell_type": "code",
   "execution_count": 26,
   "metadata": {},
   "outputs": [
    {
     "data": {
      "text/plain": [
       "Estimates                                           0\n",
       "State                                               0\n",
       "Population for whom poverty status is determined    0\n",
       "50 percent of poverty level                         0\n",
       "125 percent of poverty level                        0\n",
       "150 percent of poverty level                        0\n",
       "185 percent of poverty level                        0\n",
       "200 percent of poverty level                        0\n",
       "300 percent of poverty level                        0\n",
       "400 percent of poverty level                        0\n",
       "500 percent of poverty level                        0\n",
       "dtype: int64"
      ]
     },
     "execution_count": 26,
     "metadata": {},
     "output_type": "execute_result"
    }
   ],
   "source": [
    "poverty_by_income.isnull().sum()"
   ]
  },
  {
   "cell_type": "code",
   "execution_count": 27,
   "metadata": {},
   "outputs": [
    {
     "data": {
      "text/html": [
       "<div>\n",
       "<style scoped>\n",
       "    .dataframe tbody tr th:only-of-type {\n",
       "        vertical-align: middle;\n",
       "    }\n",
       "\n",
       "    .dataframe tbody tr th {\n",
       "        vertical-align: top;\n",
       "    }\n",
       "\n",
       "    .dataframe thead th {\n",
       "        text-align: right;\n",
       "    }\n",
       "</style>\n",
       "<table border=\"1\" class=\"dataframe\">\n",
       "  <thead>\n",
       "    <tr style=\"text-align: right;\">\n",
       "      <th></th>\n",
       "      <th>Estimates</th>\n",
       "      <th>State</th>\n",
       "      <th>UNRELATED INDIVIDUALS FOR WHOM POVERTY STATUS IS DETERMINED</th>\n",
       "      <th>Male.3</th>\n",
       "      <th>Female.3</th>\n",
       "      <th>15 years</th>\n",
       "      <th>16 to 17 years</th>\n",
       "      <th>18 to 24 years</th>\n",
       "      <th>25 to 34 years</th>\n",
       "      <th>35 to 44 years</th>\n",
       "      <th>45 to 54 years</th>\n",
       "      <th>55 to 64 years</th>\n",
       "      <th>65 to 74 years</th>\n",
       "      <th>75 years and over</th>\n",
       "      <th>Mean income deficit for unrelated individuals (dollars)</th>\n",
       "      <th>Worked full-time, year-round in the past 12 months.1</th>\n",
       "      <th>Worked less than full-time, year-round in the past 12 months</th>\n",
       "      <th>Did not work.1</th>\n",
       "    </tr>\n",
       "  </thead>\n",
       "  <tbody>\n",
       "    <tr>\n",
       "      <th>0</th>\n",
       "      <td>Total Est</td>\n",
       "      <td>Alaska</td>\n",
       "      <td>152,663</td>\n",
       "      <td>84,920</td>\n",
       "      <td>67,743</td>\n",
       "      <td>415</td>\n",
       "      <td>660</td>\n",
       "      <td>16,571</td>\n",
       "      <td>36,369</td>\n",
       "      <td>20,671</td>\n",
       "      <td>23,226</td>\n",
       "      <td>26,513</td>\n",
       "      <td>18,249</td>\n",
       "      <td>9,989</td>\n",
       "      <td>7,887</td>\n",
       "      <td>71,525</td>\n",
       "      <td>42,795</td>\n",
       "      <td>38,343</td>\n",
       "    </tr>\n",
       "    <tr>\n",
       "      <th>1</th>\n",
       "      <td>BPL</td>\n",
       "      <td>Alaska</td>\n",
       "      <td>30,876</td>\n",
       "      <td>16,394</td>\n",
       "      <td>14,482</td>\n",
       "      <td>415</td>\n",
       "      <td>660</td>\n",
       "      <td>5,672</td>\n",
       "      <td>5,940</td>\n",
       "      <td>4,514</td>\n",
       "      <td>4,967</td>\n",
       "      <td>5,197</td>\n",
       "      <td>2,319</td>\n",
       "      <td>1,192</td>\n",
       "      <td>(X)</td>\n",
       "      <td>2,164</td>\n",
       "      <td>12,740</td>\n",
       "      <td>15,972</td>\n",
       "    </tr>\n",
       "    <tr>\n",
       "      <th>2</th>\n",
       "      <td>BPL %</td>\n",
       "      <td>Alaska</td>\n",
       "      <td>20.20%</td>\n",
       "      <td>19.30%</td>\n",
       "      <td>21.40%</td>\n",
       "      <td>100.00%</td>\n",
       "      <td>100.00%</td>\n",
       "      <td>34.20%</td>\n",
       "      <td>16.30%</td>\n",
       "      <td>21.80%</td>\n",
       "      <td>21.40%</td>\n",
       "      <td>19.60%</td>\n",
       "      <td>12.70%</td>\n",
       "      <td>11.90%</td>\n",
       "      <td>(X)</td>\n",
       "      <td>3.00%</td>\n",
       "      <td>29.80%</td>\n",
       "      <td>41.70%</td>\n",
       "    </tr>\n",
       "    <tr>\n",
       "      <th>3</th>\n",
       "      <td>Total Est</td>\n",
       "      <td>Maine</td>\n",
       "      <td>326,782</td>\n",
       "      <td>156,223</td>\n",
       "      <td>170,559</td>\n",
       "      <td>368</td>\n",
       "      <td>1,643</td>\n",
       "      <td>29,449</td>\n",
       "      <td>59,105</td>\n",
       "      <td>33,877</td>\n",
       "      <td>44,252</td>\n",
       "      <td>61,066</td>\n",
       "      <td>51,360</td>\n",
       "      <td>45,662</td>\n",
       "      <td>6,333</td>\n",
       "      <td>130,314</td>\n",
       "      <td>73,648</td>\n",
       "      <td>122,820</td>\n",
       "    </tr>\n",
       "    <tr>\n",
       "      <th>4</th>\n",
       "      <td>BPL</td>\n",
       "      <td>Maine</td>\n",
       "      <td>78,734</td>\n",
       "      <td>34,496</td>\n",
       "      <td>44,238</td>\n",
       "      <td>368</td>\n",
       "      <td>1,569</td>\n",
       "      <td>12,052</td>\n",
       "      <td>11,449</td>\n",
       "      <td>8,341</td>\n",
       "      <td>9,958</td>\n",
       "      <td>17,118</td>\n",
       "      <td>8,432</td>\n",
       "      <td>9,447</td>\n",
       "      <td>(X)</td>\n",
       "      <td>3,765</td>\n",
       "      <td>25,110</td>\n",
       "      <td>49,859</td>\n",
       "    </tr>\n",
       "  </tbody>\n",
       "</table>\n",
       "</div>"
      ],
      "text/plain": [
       "   Estimates   State  \\\n",
       "0  Total Est  Alaska   \n",
       "1        BPL  Alaska   \n",
       "2      BPL %  Alaska   \n",
       "3  Total Est   Maine   \n",
       "4        BPL   Maine   \n",
       "\n",
       "  UNRELATED INDIVIDUALS FOR WHOM POVERTY STATUS IS DETERMINED   Male.3  \\\n",
       "0                                            152,663            84,920   \n",
       "1                                             30,876            16,394   \n",
       "2                                             20.20%            19.30%   \n",
       "3                                            326,782           156,223   \n",
       "4                                             78,734            34,496   \n",
       "\n",
       "  Female.3 15 years 16 to 17 years 18 to 24 years 25 to 34 years  \\\n",
       "0   67,743      415            660         16,571         36,369   \n",
       "1   14,482      415            660          5,672          5,940   \n",
       "2   21.40%  100.00%        100.00%         34.20%         16.30%   \n",
       "3  170,559      368          1,643         29,449         59,105   \n",
       "4   44,238      368          1,569         12,052         11,449   \n",
       "\n",
       "  35 to 44 years 45 to 54 years 55 to 64 years 65 to 74 years  \\\n",
       "0         20,671         23,226         26,513         18,249   \n",
       "1          4,514          4,967          5,197          2,319   \n",
       "2         21.80%         21.40%         19.60%         12.70%   \n",
       "3         33,877         44,252         61,066         51,360   \n",
       "4          8,341          9,958         17,118          8,432   \n",
       "\n",
       "  75 years and over Mean income deficit for unrelated individuals (dollars)  \\\n",
       "0             9,989                                              7,887        \n",
       "1             1,192                                                (X)        \n",
       "2            11.90%                                                (X)        \n",
       "3            45,662                                              6,333        \n",
       "4             9,447                                                (X)        \n",
       "\n",
       "  Worked full-time, year-round in the past 12 months.1  \\\n",
       "0                                             71,525     \n",
       "1                                              2,164     \n",
       "2                                              3.00%     \n",
       "3                                            130,314     \n",
       "4                                              3,765     \n",
       "\n",
       "  Worked less than full-time, year-round in the past 12 months Did not work.1  \n",
       "0                                             42,795                   38,343  \n",
       "1                                             12,740                   15,972  \n",
       "2                                             29.80%                   41.70%  \n",
       "3                                             73,648                  122,820  \n",
       "4                                             25,110                   49,859  "
      ]
     },
     "execution_count": 27,
     "metadata": {},
     "output_type": "execute_result"
    }
   ],
   "source": [
    " poverty_by_unrelated_ind = poverty_DF[[\n",
    "        'Estimates', \n",
    "        'State',\n",
    "        'UNRELATED INDIVIDUALS FOR WHOM POVERTY STATUS IS DETERMINED',\n",
    "        'Male.3',\n",
    "        'Female.3', '15 years', '16 to 17 years', '18 to 24 years',\n",
    "        '25 to 34 years', '35 to 44 years', '45 to 54 years', '55 to 64 years',\n",
    "        '65 to 74 years', '75 years and over',\n",
    "        'Mean income deficit for unrelated individuals (dollars)',\n",
    "        'Worked full-time, year-round in the past 12 months.1',\n",
    "        'Worked less than full-time, year-round in the past 12 months',\n",
    "        'Did not work.1']]\n",
    "poverty_by_unrelated_ind.dropna(inplace = True)\n",
    "poverty_by_unrelated_ind.reset_index(inplace = True,drop = True)\n",
    "poverty_by_unrelated_ind.head(5)"
   ]
  },
  {
   "cell_type": "code",
   "execution_count": 28,
   "metadata": {},
   "outputs": [
    {
     "data": {
      "text/plain": [
       "Estimates                                                       0\n",
       "State                                                           0\n",
       "UNRELATED INDIVIDUALS FOR WHOM POVERTY STATUS IS DETERMINED     0\n",
       "Male.3                                                          0\n",
       "Female.3                                                        0\n",
       "15 years                                                        0\n",
       "16 to 17 years                                                  0\n",
       "18 to 24 years                                                  0\n",
       "25 to 34 years                                                  0\n",
       "35 to 44 years                                                  0\n",
       "45 to 54 years                                                  0\n",
       "55 to 64 years                                                  0\n",
       "65 to 74 years                                                  0\n",
       "75 years and over                                               0\n",
       "Mean income deficit for unrelated individuals (dollars)         0\n",
       "Worked full-time, year-round in the past 12 months.1            0\n",
       "Worked less than full-time, year-round in the past 12 months    0\n",
       "Did not work.1                                                  0\n",
       "dtype: int64"
      ]
     },
     "execution_count": 28,
     "metadata": {},
     "output_type": "execute_result"
    }
   ],
   "source": [
    "poverty_by_unrelated_ind.isnull().sum()"
   ]
  },
  {
   "cell_type": "markdown",
   "metadata": {},
   "source": [
    "<div class=\"alert alert-block alert-warning\">  \n",
    "<h4>📝 COMMENTS</h4>\n",
    "<p>Now that we have seperate tables for each category, let's take the tables related to <b>AGE, SEX and RACE</b>. Let's rename the column names to shorter more consistent names\n",
    "</p>  \n",
    "</div>"
   ]
  },
  {
   "cell_type": "markdown",
   "metadata": {},
   "source": [
    "## Poverty by AGE - Feature Reference\n",
    "* **Estimates**   - Total Estimate, Below Poverty Line(BPL) Estimates, Below Poverty Line(BPL) % estimates\n",
    "* **State** - State where poverty status is determined\n",
    "* **Population** - Population for whom poverty status is determined\n",
    "* **Under 18** - Under 18 years\n",
    "* **Under 5** - Under 5 years\n",
    "* **5 to 17** - 5 to 17 years\n",
    "* **Related children under 18** - Related children of householder under 18 years\n",
    "* **18 to 64** - 18 to 64 years\n",
    "* **18 to 34** - 18 to 34 years\n",
    "* **35 to 64** - 35 to 64 years\n",
    "* **Over 60** - 60 years and over\n",
    "* **Over 65** - 65 years and over"
   ]
  },
  {
   "cell_type": "code",
   "execution_count": 29,
   "metadata": {},
   "outputs": [
    {
     "data": {
      "text/plain": [
       "Index(['Estimates', 'State',\n",
       "       'Population for whom poverty status is determined', 'Under 18 years',\n",
       "       'Under 5 years', '5 to 17 years',\n",
       "       'Related children of householder under 18 years', '18 to 64 years',\n",
       "       '18 to 34 years', '35 to 64 years', '60 years and over',\n",
       "       '65 years and over'],\n",
       "      dtype='object')"
      ]
     },
     "execution_count": 29,
     "metadata": {},
     "output_type": "execute_result"
    }
   ],
   "source": [
    "poverty_by_age.columns"
   ]
  },
  {
   "cell_type": "code",
   "execution_count": 30,
   "metadata": {},
   "outputs": [
    {
     "data": {
      "text/html": [
       "<div>\n",
       "<style scoped>\n",
       "    .dataframe tbody tr th:only-of-type {\n",
       "        vertical-align: middle;\n",
       "    }\n",
       "\n",
       "    .dataframe tbody tr th {\n",
       "        vertical-align: top;\n",
       "    }\n",
       "\n",
       "    .dataframe thead th {\n",
       "        text-align: right;\n",
       "    }\n",
       "</style>\n",
       "<table border=\"1\" class=\"dataframe\">\n",
       "  <thead>\n",
       "    <tr style=\"text-align: right;\">\n",
       "      <th></th>\n",
       "      <th>Estimates</th>\n",
       "      <th>State</th>\n",
       "      <th>Population</th>\n",
       "      <th>Under 18</th>\n",
       "      <th>Under 5</th>\n",
       "      <th>5 to 17</th>\n",
       "      <th>Related children under 18</th>\n",
       "      <th>18 to 64</th>\n",
       "      <th>18 to 34</th>\n",
       "      <th>35 to 64</th>\n",
       "      <th>Over 60</th>\n",
       "      <th>Over 65</th>\n",
       "    </tr>\n",
       "  </thead>\n",
       "  <tbody>\n",
       "    <tr>\n",
       "      <th>0</th>\n",
       "      <td>Total Est</td>\n",
       "      <td>Alaska</td>\n",
       "      <td>720,869</td>\n",
       "      <td>180,258</td>\n",
       "      <td>51,329</td>\n",
       "      <td>128,929</td>\n",
       "      <td>179,037</td>\n",
       "      <td>454,213</td>\n",
       "      <td>176,700</td>\n",
       "      <td>277,513</td>\n",
       "      <td>132,192</td>\n",
       "      <td>86,398</td>\n",
       "    </tr>\n",
       "    <tr>\n",
       "      <th>1</th>\n",
       "      <td>BPL</td>\n",
       "      <td>Alaska</td>\n",
       "      <td>78,620</td>\n",
       "      <td>25,327</td>\n",
       "      <td>8,384</td>\n",
       "      <td>16,943</td>\n",
       "      <td>24,235</td>\n",
       "      <td>47,464</td>\n",
       "      <td>22,444</td>\n",
       "      <td>25,020</td>\n",
       "      <td>9,992</td>\n",
       "      <td>5,829</td>\n",
       "    </tr>\n",
       "    <tr>\n",
       "      <th>2</th>\n",
       "      <td>BPL %</td>\n",
       "      <td>Alaska</td>\n",
       "      <td>10.90%</td>\n",
       "      <td>14.10%</td>\n",
       "      <td>16.30%</td>\n",
       "      <td>13.10%</td>\n",
       "      <td>13.50%</td>\n",
       "      <td>10.40%</td>\n",
       "      <td>12.70%</td>\n",
       "      <td>9.00%</td>\n",
       "      <td>7.60%</td>\n",
       "      <td>6.70%</td>\n",
       "    </tr>\n",
       "    <tr>\n",
       "      <th>3</th>\n",
       "      <td>Total Est</td>\n",
       "      <td>Maine</td>\n",
       "      <td>1,301,941</td>\n",
       "      <td>240,662</td>\n",
       "      <td>61,960</td>\n",
       "      <td>178,702</td>\n",
       "      <td>238,546</td>\n",
       "      <td>793,679</td>\n",
       "      <td>248,843</td>\n",
       "      <td>544,836</td>\n",
       "      <td>375,495</td>\n",
       "      <td>267,600</td>\n",
       "    </tr>\n",
       "    <tr>\n",
       "      <th>4</th>\n",
       "      <td>BPL</td>\n",
       "      <td>Maine</td>\n",
       "      <td>151,541</td>\n",
       "      <td>34,878</td>\n",
       "      <td>9,594</td>\n",
       "      <td>25,284</td>\n",
       "      <td>32,908</td>\n",
       "      <td>92,402</td>\n",
       "      <td>37,100</td>\n",
       "      <td>55,302</td>\n",
       "      <td>36,400</td>\n",
       "      <td>24,261</td>\n",
       "    </tr>\n",
       "    <tr>\n",
       "      <th>...</th>\n",
       "      <td>...</td>\n",
       "      <td>...</td>\n",
       "      <td>...</td>\n",
       "      <td>...</td>\n",
       "      <td>...</td>\n",
       "      <td>...</td>\n",
       "      <td>...</td>\n",
       "      <td>...</td>\n",
       "      <td>...</td>\n",
       "      <td>...</td>\n",
       "      <td>...</td>\n",
       "      <td>...</td>\n",
       "    </tr>\n",
       "    <tr>\n",
       "      <th>151</th>\n",
       "      <td>BPL</td>\n",
       "      <td>Utah</td>\n",
       "      <td>280,773</td>\n",
       "      <td>87,445</td>\n",
       "      <td>25,914</td>\n",
       "      <td>61,531</td>\n",
       "      <td>85,107</td>\n",
       "      <td>172,273</td>\n",
       "      <td>101,698</td>\n",
       "      <td>70,575</td>\n",
       "      <td>32,730</td>\n",
       "      <td>21,055</td>\n",
       "    </tr>\n",
       "    <tr>\n",
       "      <th>152</th>\n",
       "      <td>BPL %</td>\n",
       "      <td>Utah</td>\n",
       "      <td>9.00%</td>\n",
       "      <td>9.50%</td>\n",
       "      <td>10.50%</td>\n",
       "      <td>9.20%</td>\n",
       "      <td>9.30%</td>\n",
       "      <td>9.30%</td>\n",
       "      <td>12.80%</td>\n",
       "      <td>6.70%</td>\n",
       "      <td>6.60%</td>\n",
       "      <td>6.10%</td>\n",
       "    </tr>\n",
       "    <tr>\n",
       "      <th>153</th>\n",
       "      <td>Total Est</td>\n",
       "      <td>New York</td>\n",
       "      <td>19,037,564</td>\n",
       "      <td>3,993,286</td>\n",
       "      <td>1,116,698</td>\n",
       "      <td>2,876,588</td>\n",
       "      <td>3,972,026</td>\n",
       "      <td>11,927,434</td>\n",
       "      <td>4,405,379</td>\n",
       "      <td>7,522,055</td>\n",
       "      <td>4,376,668</td>\n",
       "      <td>3,116,844</td>\n",
       "    </tr>\n",
       "    <tr>\n",
       "      <th>154</th>\n",
       "      <td>BPL</td>\n",
       "      <td>New York</td>\n",
       "      <td>2,591,391</td>\n",
       "      <td>743,024</td>\n",
       "      <td>218,398</td>\n",
       "      <td>524,626</td>\n",
       "      <td>723,189</td>\n",
       "      <td>1,480,761</td>\n",
       "      <td>643,724</td>\n",
       "      <td>837,037</td>\n",
       "      <td>511,978</td>\n",
       "      <td>367,606</td>\n",
       "    </tr>\n",
       "    <tr>\n",
       "      <th>155</th>\n",
       "      <td>BPL %</td>\n",
       "      <td>New York</td>\n",
       "      <td>13.60%</td>\n",
       "      <td>18.60%</td>\n",
       "      <td>19.60%</td>\n",
       "      <td>18.20%</td>\n",
       "      <td>18.20%</td>\n",
       "      <td>12.40%</td>\n",
       "      <td>14.60%</td>\n",
       "      <td>11.10%</td>\n",
       "      <td>11.70%</td>\n",
       "      <td>11.80%</td>\n",
       "    </tr>\n",
       "  </tbody>\n",
       "</table>\n",
       "<p>156 rows × 12 columns</p>\n",
       "</div>"
      ],
      "text/plain": [
       "     Estimates     State  Population   Under 18    Under 5    5 to 17  \\\n",
       "0    Total Est    Alaska     720,869    180,258     51,329    128,929   \n",
       "1          BPL    Alaska      78,620     25,327      8,384     16,943   \n",
       "2        BPL %    Alaska      10.90%     14.10%     16.30%     13.10%   \n",
       "3    Total Est     Maine   1,301,941    240,662     61,960    178,702   \n",
       "4          BPL     Maine     151,541     34,878      9,594     25,284   \n",
       "..         ...       ...         ...        ...        ...        ...   \n",
       "151        BPL      Utah     280,773     87,445     25,914     61,531   \n",
       "152      BPL %      Utah       9.00%      9.50%     10.50%      9.20%   \n",
       "153  Total Est  New York  19,037,564  3,993,286  1,116,698  2,876,588   \n",
       "154        BPL  New York   2,591,391    743,024    218,398    524,626   \n",
       "155      BPL %  New York      13.60%     18.60%     19.60%     18.20%   \n",
       "\n",
       "    Related children under 18    18 to 64   18 to 34   35 to 64    Over 60  \\\n",
       "0                     179,037     454,213    176,700    277,513    132,192   \n",
       "1                      24,235      47,464     22,444     25,020      9,992   \n",
       "2                      13.50%      10.40%     12.70%      9.00%      7.60%   \n",
       "3                     238,546     793,679    248,843    544,836    375,495   \n",
       "4                      32,908      92,402     37,100     55,302     36,400   \n",
       "..                        ...         ...        ...        ...        ...   \n",
       "151                    85,107     172,273    101,698     70,575     32,730   \n",
       "152                     9.30%       9.30%     12.80%      6.70%      6.60%   \n",
       "153                 3,972,026  11,927,434  4,405,379  7,522,055  4,376,668   \n",
       "154                   723,189   1,480,761    643,724    837,037    511,978   \n",
       "155                    18.20%      12.40%     14.60%     11.10%     11.70%   \n",
       "\n",
       "       Over 65  \n",
       "0       86,398  \n",
       "1        5,829  \n",
       "2        6.70%  \n",
       "3      267,600  \n",
       "4       24,261  \n",
       "..         ...  \n",
       "151     21,055  \n",
       "152      6.10%  \n",
       "153  3,116,844  \n",
       "154    367,606  \n",
       "155     11.80%  \n",
       "\n",
       "[156 rows x 12 columns]"
      ]
     },
     "execution_count": 30,
     "metadata": {},
     "output_type": "execute_result"
    }
   ],
   "source": [
    "poverty_by_age.columns = ['Estimates', 'State',\n",
    "       'Population', 'Under 18',\n",
    "       'Under 5', '5 to 17',\n",
    "       'Related children under 18', '18 to 64',\n",
    "       '18 to 34', '35 to 64', 'Over 60',\n",
    "       'Over 65']\n",
    "poverty_by_age"
   ]
  },
  {
   "cell_type": "markdown",
   "metadata": {},
   "source": [
    "## Poverty by SEX - Feature Reference\n",
    "* **Estimates**   - Total Estimate, Below Poverty Line(BPL) Estimates, Below Poverty Line(BPL) % estimates\n",
    "* **State** - State where poverty status is determined\n",
    "* **Population** - Population for whom poverty status is determined\n",
    "* **Male**\n",
    "* **Female**"
   ]
  },
  {
   "cell_type": "code",
   "execution_count": 31,
   "metadata": {},
   "outputs": [
    {
     "data": {
      "text/plain": [
       "Index(['Estimates', 'State',\n",
       "       'Population for whom poverty status is determined', 'Male', 'Female'],\n",
       "      dtype='object')"
      ]
     },
     "execution_count": 31,
     "metadata": {},
     "output_type": "execute_result"
    }
   ],
   "source": [
    "poverty_by_sex.columns"
   ]
  },
  {
   "cell_type": "code",
   "execution_count": 32,
   "metadata": {},
   "outputs": [
    {
     "data": {
      "text/html": [
       "<div>\n",
       "<style scoped>\n",
       "    .dataframe tbody tr th:only-of-type {\n",
       "        vertical-align: middle;\n",
       "    }\n",
       "\n",
       "    .dataframe tbody tr th {\n",
       "        vertical-align: top;\n",
       "    }\n",
       "\n",
       "    .dataframe thead th {\n",
       "        text-align: right;\n",
       "    }\n",
       "</style>\n",
       "<table border=\"1\" class=\"dataframe\">\n",
       "  <thead>\n",
       "    <tr style=\"text-align: right;\">\n",
       "      <th></th>\n",
       "      <th>Estimates</th>\n",
       "      <th>State</th>\n",
       "      <th>Population</th>\n",
       "      <th>Male</th>\n",
       "      <th>Female</th>\n",
       "    </tr>\n",
       "  </thead>\n",
       "  <tbody>\n",
       "    <tr>\n",
       "      <th>0</th>\n",
       "      <td>Total Est</td>\n",
       "      <td>Alaska</td>\n",
       "      <td>720,869</td>\n",
       "      <td>370,771</td>\n",
       "      <td>350,098</td>\n",
       "    </tr>\n",
       "    <tr>\n",
       "      <th>1</th>\n",
       "      <td>BPL</td>\n",
       "      <td>Alaska</td>\n",
       "      <td>78,620</td>\n",
       "      <td>38,912</td>\n",
       "      <td>39,708</td>\n",
       "    </tr>\n",
       "    <tr>\n",
       "      <th>2</th>\n",
       "      <td>BPL %</td>\n",
       "      <td>Alaska</td>\n",
       "      <td>10.90%</td>\n",
       "      <td>10.50%</td>\n",
       "      <td>11.30%</td>\n",
       "    </tr>\n",
       "    <tr>\n",
       "      <th>3</th>\n",
       "      <td>Total Est</td>\n",
       "      <td>Maine</td>\n",
       "      <td>1,301,941</td>\n",
       "      <td>635,636</td>\n",
       "      <td>666,305</td>\n",
       "    </tr>\n",
       "    <tr>\n",
       "      <th>4</th>\n",
       "      <td>BPL</td>\n",
       "      <td>Maine</td>\n",
       "      <td>151,541</td>\n",
       "      <td>65,931</td>\n",
       "      <td>85,610</td>\n",
       "    </tr>\n",
       "    <tr>\n",
       "      <th>...</th>\n",
       "      <td>...</td>\n",
       "      <td>...</td>\n",
       "      <td>...</td>\n",
       "      <td>...</td>\n",
       "      <td>...</td>\n",
       "    </tr>\n",
       "    <tr>\n",
       "      <th>151</th>\n",
       "      <td>BPL</td>\n",
       "      <td>Utah</td>\n",
       "      <td>280,773</td>\n",
       "      <td>127,056</td>\n",
       "      <td>153,717</td>\n",
       "    </tr>\n",
       "    <tr>\n",
       "      <th>152</th>\n",
       "      <td>BPL %</td>\n",
       "      <td>Utah</td>\n",
       "      <td>9.00%</td>\n",
       "      <td>8.10%</td>\n",
       "      <td>9.90%</td>\n",
       "    </tr>\n",
       "    <tr>\n",
       "      <th>153</th>\n",
       "      <td>Total Est</td>\n",
       "      <td>New York</td>\n",
       "      <td>19,037,564</td>\n",
       "      <td>9,213,937</td>\n",
       "      <td>9,823,627</td>\n",
       "    </tr>\n",
       "    <tr>\n",
       "      <th>154</th>\n",
       "      <td>BPL</td>\n",
       "      <td>New York</td>\n",
       "      <td>2,591,391</td>\n",
       "      <td>1,125,787</td>\n",
       "      <td>1,465,604</td>\n",
       "    </tr>\n",
       "    <tr>\n",
       "      <th>155</th>\n",
       "      <td>BPL %</td>\n",
       "      <td>New York</td>\n",
       "      <td>13.60%</td>\n",
       "      <td>12.20%</td>\n",
       "      <td>14.90%</td>\n",
       "    </tr>\n",
       "  </tbody>\n",
       "</table>\n",
       "<p>156 rows × 5 columns</p>\n",
       "</div>"
      ],
      "text/plain": [
       "     Estimates     State  Population       Male     Female\n",
       "0    Total Est    Alaska     720,869    370,771    350,098\n",
       "1          BPL    Alaska      78,620     38,912     39,708\n",
       "2        BPL %    Alaska      10.90%     10.50%     11.30%\n",
       "3    Total Est     Maine   1,301,941    635,636    666,305\n",
       "4          BPL     Maine     151,541     65,931     85,610\n",
       "..         ...       ...         ...        ...        ...\n",
       "151        BPL      Utah     280,773    127,056    153,717\n",
       "152      BPL %      Utah       9.00%      8.10%      9.90%\n",
       "153  Total Est  New York  19,037,564  9,213,937  9,823,627\n",
       "154        BPL  New York   2,591,391  1,125,787  1,465,604\n",
       "155      BPL %  New York      13.60%     12.20%     14.90%\n",
       "\n",
       "[156 rows x 5 columns]"
      ]
     },
     "execution_count": 32,
     "metadata": {},
     "output_type": "execute_result"
    }
   ],
   "source": [
    "poverty_by_sex.columns = ['Estimates', 'State',\n",
    "       'Population', 'Male', 'Female']\n",
    "poverty_by_sex"
   ]
  },
  {
   "cell_type": "markdown",
   "metadata": {},
   "source": [
    "## Poverty by RACE - Feature Reference\n",
    "* **Estimates**   - Total Estimate, Below Poverty Line(BPL) Estimates, Below Poverty Line(BPL) % estimates\n",
    "* **State** - State where poverty status is determined\n",
    "* **Population** - Population for whom poverty status is determined\n",
    "* **White** - White Alone\n",
    "* **Black or AA** - Black or African American alone\n",
    "* **AI or Alaska Native** - American Indian and Alaska Native alone\n",
    "* **Asian** - Asian alone\n",
    "* **Native Hawaiian or OPI** - Native Hawaiian and Other Pacific Islander alone\n",
    "* **Other race** - Some other race alone\n",
    "* **Two or more races** - Two or more races\n",
    "* **Hispanic or Latino** - Hispanic or Latino origin (of any race)\n",
    "* **White not Hispanic or Latino** - White alone, not Hispanic or Latino"
   ]
  },
  {
   "cell_type": "code",
   "execution_count": 113,
   "metadata": {},
   "outputs": [
    {
     "data": {
      "text/plain": [
       "Index(['Estimates', 'State',\n",
       "       'Population for whom poverty status is determined', 'White alone',\n",
       "       'Black or African American alone',\n",
       "       'American Indian and Alaska Native alone', 'Asian alone',\n",
       "       'Native Hawaiian and Other Pacific Islander alone',\n",
       "       'Some other race alone', 'Two or more races',\n",
       "       'Hispanic or Latino origin (of any race)',\n",
       "       'White alone, not Hispanic or Latino'],\n",
       "      dtype='object')"
      ]
     },
     "execution_count": 113,
     "metadata": {},
     "output_type": "execute_result"
    }
   ],
   "source": [
    "poverty_by_race.columns"
   ]
  },
  {
   "cell_type": "code",
   "execution_count": 114,
   "metadata": {},
   "outputs": [
    {
     "data": {
      "text/html": [
       "<div>\n",
       "<style scoped>\n",
       "    .dataframe tbody tr th:only-of-type {\n",
       "        vertical-align: middle;\n",
       "    }\n",
       "\n",
       "    .dataframe tbody tr th {\n",
       "        vertical-align: top;\n",
       "    }\n",
       "\n",
       "    .dataframe thead th {\n",
       "        text-align: right;\n",
       "    }\n",
       "</style>\n",
       "<table border=\"1\" class=\"dataframe\">\n",
       "  <thead>\n",
       "    <tr style=\"text-align: right;\">\n",
       "      <th></th>\n",
       "      <th>Estimates</th>\n",
       "      <th>State</th>\n",
       "      <th>Population</th>\n",
       "      <th>White</th>\n",
       "      <th>Black or AA</th>\n",
       "      <th>AI or Alaska Native</th>\n",
       "      <th>Asian</th>\n",
       "      <th>Native Hawaiian or OPI</th>\n",
       "      <th>Other race</th>\n",
       "      <th>Two or more races</th>\n",
       "      <th>Hispanic or Latino</th>\n",
       "      <th>White not Hispanic or Latino</th>\n",
       "    </tr>\n",
       "  </thead>\n",
       "  <tbody>\n",
       "    <tr>\n",
       "      <th>0</th>\n",
       "      <td>Total Est</td>\n",
       "      <td>Alaska</td>\n",
       "      <td>720,869</td>\n",
       "      <td>464,926</td>\n",
       "      <td>23,967</td>\n",
       "      <td>107,926</td>\n",
       "      <td>46,023</td>\n",
       "      <td>7,846</td>\n",
       "      <td>9,732</td>\n",
       "      <td>60,449</td>\n",
       "      <td>51,952</td>\n",
       "      <td>434,277</td>\n",
       "    </tr>\n",
       "    <tr>\n",
       "      <th>1</th>\n",
       "      <td>BPL</td>\n",
       "      <td>Alaska</td>\n",
       "      <td>78,620</td>\n",
       "      <td>34,474</td>\n",
       "      <td>2,719</td>\n",
       "      <td>24,632</td>\n",
       "      <td>6,567</td>\n",
       "      <td>2,267</td>\n",
       "      <td>733</td>\n",
       "      <td>7,228</td>\n",
       "      <td>4,820</td>\n",
       "      <td>32,089</td>\n",
       "    </tr>\n",
       "    <tr>\n",
       "      <th>2</th>\n",
       "      <td>BPL %</td>\n",
       "      <td>Alaska</td>\n",
       "      <td>10.90%</td>\n",
       "      <td>7.40%</td>\n",
       "      <td>11.30%</td>\n",
       "      <td>22.80%</td>\n",
       "      <td>14.30%</td>\n",
       "      <td>28.90%</td>\n",
       "      <td>7.50%</td>\n",
       "      <td>12.00%</td>\n",
       "      <td>9.30%</td>\n",
       "      <td>7.40%</td>\n",
       "    </tr>\n",
       "    <tr>\n",
       "      <th>3</th>\n",
       "      <td>Total Est</td>\n",
       "      <td>Maine</td>\n",
       "      <td>1,301,941</td>\n",
       "      <td>1,229,684</td>\n",
       "      <td>17,514</td>\n",
       "      <td>8,192</td>\n",
       "      <td>14,583</td>\n",
       "      <td>N</td>\n",
       "      <td>N</td>\n",
       "      <td>28,350</td>\n",
       "      <td>20,688</td>\n",
       "      <td>1,214,331</td>\n",
       "    </tr>\n",
       "    <tr>\n",
       "      <th>4</th>\n",
       "      <td>BPL</td>\n",
       "      <td>Maine</td>\n",
       "      <td>151,541</td>\n",
       "      <td>138,045</td>\n",
       "      <td>3,531</td>\n",
       "      <td>2,865</td>\n",
       "      <td>861</td>\n",
       "      <td>N</td>\n",
       "      <td>N</td>\n",
       "      <td>5,198</td>\n",
       "      <td>5,389</td>\n",
       "      <td>133,986</td>\n",
       "    </tr>\n",
       "    <tr>\n",
       "      <th>...</th>\n",
       "      <td>...</td>\n",
       "      <td>...</td>\n",
       "      <td>...</td>\n",
       "      <td>...</td>\n",
       "      <td>...</td>\n",
       "      <td>...</td>\n",
       "      <td>...</td>\n",
       "      <td>...</td>\n",
       "      <td>...</td>\n",
       "      <td>...</td>\n",
       "      <td>...</td>\n",
       "      <td>...</td>\n",
       "    </tr>\n",
       "    <tr>\n",
       "      <th>151</th>\n",
       "      <td>BPL</td>\n",
       "      <td>Utah</td>\n",
       "      <td>280,773</td>\n",
       "      <td>212,575</td>\n",
       "      <td>8,006</td>\n",
       "      <td>9,325</td>\n",
       "      <td>9,555</td>\n",
       "      <td>3,122</td>\n",
       "      <td>28,097</td>\n",
       "      <td>10,093</td>\n",
       "      <td>69,395</td>\n",
       "      <td>175,448</td>\n",
       "    </tr>\n",
       "    <tr>\n",
       "      <th>152</th>\n",
       "      <td>BPL %</td>\n",
       "      <td>Utah</td>\n",
       "      <td>9.00%</td>\n",
       "      <td>8.00%</td>\n",
       "      <td>20.90%</td>\n",
       "      <td>27.60%</td>\n",
       "      <td>12.70%</td>\n",
       "      <td>10.70%</td>\n",
       "      <td>16.80%</td>\n",
       "      <td>10.10%</td>\n",
       "      <td>15.80%</td>\n",
       "      <td>7.20%</td>\n",
       "    </tr>\n",
       "    <tr>\n",
       "      <th>153</th>\n",
       "      <td>Total Est</td>\n",
       "      <td>New York</td>\n",
       "      <td>19,037,564</td>\n",
       "      <td>12,072,912</td>\n",
       "      <td>2,956,137</td>\n",
       "      <td>82,068</td>\n",
       "      <td>1,630,354</td>\n",
       "      <td>9,105</td>\n",
       "      <td>1,657,736</td>\n",
       "      <td>629,252</td>\n",
       "      <td>3,670,609</td>\n",
       "      <td>10,524,371</td>\n",
       "    </tr>\n",
       "    <tr>\n",
       "      <th>154</th>\n",
       "      <td>BPL</td>\n",
       "      <td>New York</td>\n",
       "      <td>2,591,391</td>\n",
       "      <td>1,239,466</td>\n",
       "      <td>592,130</td>\n",
       "      <td>15,955</td>\n",
       "      <td>235,308</td>\n",
       "      <td>2,473</td>\n",
       "      <td>394,438</td>\n",
       "      <td>111,621</td>\n",
       "      <td>781,088</td>\n",
       "      <td>961,247</td>\n",
       "    </tr>\n",
       "    <tr>\n",
       "      <th>155</th>\n",
       "      <td>BPL %</td>\n",
       "      <td>New York</td>\n",
       "      <td>13.60%</td>\n",
       "      <td>10.30%</td>\n",
       "      <td>20.00%</td>\n",
       "      <td>19.40%</td>\n",
       "      <td>14.40%</td>\n",
       "      <td>27.20%</td>\n",
       "      <td>23.80%</td>\n",
       "      <td>17.70%</td>\n",
       "      <td>21.30%</td>\n",
       "      <td>9.10%</td>\n",
       "    </tr>\n",
       "  </tbody>\n",
       "</table>\n",
       "<p>156 rows × 12 columns</p>\n",
       "</div>"
      ],
      "text/plain": [
       "     Estimates     State  Population       White Black or AA  \\\n",
       "0    Total Est    Alaska     720,869     464,926      23,967   \n",
       "1          BPL    Alaska      78,620      34,474       2,719   \n",
       "2        BPL %    Alaska      10.90%       7.40%      11.30%   \n",
       "3    Total Est     Maine   1,301,941   1,229,684      17,514   \n",
       "4          BPL     Maine     151,541     138,045       3,531   \n",
       "..         ...       ...         ...         ...         ...   \n",
       "151        BPL      Utah     280,773     212,575       8,006   \n",
       "152      BPL %      Utah       9.00%       8.00%      20.90%   \n",
       "153  Total Est  New York  19,037,564  12,072,912   2,956,137   \n",
       "154        BPL  New York   2,591,391   1,239,466     592,130   \n",
       "155      BPL %  New York      13.60%      10.30%      20.00%   \n",
       "\n",
       "    AI or Alaska Native      Asian Native Hawaiian or OPI Other race  \\\n",
       "0               107,926     46,023                  7,846      9,732   \n",
       "1                24,632      6,567                  2,267        733   \n",
       "2                22.80%     14.30%                 28.90%      7.50%   \n",
       "3                 8,192     14,583                      N          N   \n",
       "4                 2,865        861                      N          N   \n",
       "..                  ...        ...                    ...        ...   \n",
       "151               9,325      9,555                  3,122     28,097   \n",
       "152              27.60%     12.70%                 10.70%     16.80%   \n",
       "153              82,068  1,630,354                  9,105  1,657,736   \n",
       "154              15,955    235,308                  2,473    394,438   \n",
       "155              19.40%     14.40%                 27.20%     23.80%   \n",
       "\n",
       "    Two or more races Hispanic or Latino White not Hispanic or Latino  \n",
       "0              60,449             51,952                      434,277  \n",
       "1               7,228              4,820                       32,089  \n",
       "2              12.00%              9.30%                        7.40%  \n",
       "3              28,350             20,688                    1,214,331  \n",
       "4               5,198              5,389                      133,986  \n",
       "..                ...                ...                          ...  \n",
       "151            10,093             69,395                      175,448  \n",
       "152            10.10%             15.80%                        7.20%  \n",
       "153           629,252          3,670,609                   10,524,371  \n",
       "154           111,621            781,088                      961,247  \n",
       "155            17.70%             21.30%                        9.10%  \n",
       "\n",
       "[156 rows x 12 columns]"
      ]
     },
     "execution_count": 114,
     "metadata": {},
     "output_type": "execute_result"
    }
   ],
   "source": [
    "poverty_by_race.columns = ['Estimates','State', \n",
    "                           'Population', 'White', \n",
    "                           'Black or AA', 'AI or Alaska Native',\n",
    "                           'Asian','Native Hawaiian or OPI','Other race',\n",
    "                           'Two or more races','Hispanic or Latino', 'White not Hispanic or Latino'\n",
    "                          ]\n",
    "poverty_by_race"
   ]
  },
  {
   "cell_type": "code",
   "execution_count": 115,
   "metadata": {},
   "outputs": [
    {
     "name": "stdout",
     "output_type": "stream",
     "text": [
      "<class 'pandas.core.frame.DataFrame'>\n",
      "RangeIndex: 156 entries, 0 to 155\n",
      "Data columns (total 12 columns):\n",
      " #   Column                        Non-Null Count  Dtype \n",
      "---  ------                        --------------  ----- \n",
      " 0   Estimates                     156 non-null    object\n",
      " 1   State                         156 non-null    object\n",
      " 2   Population                    156 non-null    object\n",
      " 3   White                         156 non-null    object\n",
      " 4   Black or AA                   156 non-null    object\n",
      " 5   AI or Alaska Native           156 non-null    object\n",
      " 6   Asian                         156 non-null    object\n",
      " 7   Native Hawaiian or OPI        156 non-null    object\n",
      " 8   Other race                    156 non-null    object\n",
      " 9   Two or more races             156 non-null    object\n",
      " 10  Hispanic or Latino            156 non-null    object\n",
      " 11  White not Hispanic or Latino  156 non-null    object\n",
      "dtypes: object(12)\n",
      "memory usage: 14.8+ KB\n"
     ]
    }
   ],
   "source": [
    "poverty_by_race.info()"
   ]
  },
  {
   "cell_type": "markdown",
   "metadata": {},
   "source": [
    "<div class=\"alert alert-block alert-warning\">  \n",
    "<h4>📝 COMMENTS</h4>\n",
    "    <p>Another thing we notice is that the Dtypes for each column is <b>object</b>.\n",
    "        We need to convert each column to appropriate data types. We know that columns such as <b>Population, Whites,Blacks</b> etc have numeric values. We can convert their datatype to <b>Float</b>. This way we will be able to sort values and perform analysis which will not be possible it is a <b>String or Object</b>\n",
    "</p>  \n",
    "</div>"
   ]
  },
  {
   "cell_type": "code",
   "execution_count": 35,
   "metadata": {},
   "outputs": [],
   "source": [
    "def edit_numbers(cols):\n",
    "    res = []\n",
    "    for col in cols:\n",
    "        if col == 'N':\n",
    "            res.append(np.NaN)\n",
    "        else:\n",
    "            col = col.replace(',','')\n",
    "            col = col.replace('%','')\n",
    "            col = col.strip()\n",
    "            res.append(float(col))\n",
    "    return(res)\n",
    "\n",
    "poverty_by_race[['Population', 'White', \n",
    "                'Black or AA', 'AI or Alaska Native',\n",
    "                'Asian','Native Hawaiian or OPI','Other race',\n",
    "                'Two or more races','Hispanic or Latino', 'White not Hispanic or Latino']] = poverty_by_race[['Population', 'White', \n",
    "                'Black or AA', 'AI or Alaska Native',\n",
    "                'Asian','Native Hawaiian or OPI','Other race',\n",
    "                'Two or more races','Hispanic or Latino', 'White not Hispanic or Latino']].apply(edit_numbers)"
   ]
  },
  {
   "cell_type": "code",
   "execution_count": 39,
   "metadata": {},
   "outputs": [
    {
     "data": {
      "text/plain": [
       "Estimates                         0\n",
       "State                             0\n",
       "Population                        0\n",
       "White                             0\n",
       "Black or AA                       6\n",
       "AI or Alaska Native              21\n",
       "Asian                             6\n",
       "Native Hawaiian or OPI          105\n",
       "Other race                        9\n",
       "Two or more races                 0\n",
       "Hispanic or Latino                0\n",
       "White not Hispanic or Latino      0\n",
       "dtype: int64"
      ]
     },
     "execution_count": 39,
     "metadata": {},
     "output_type": "execute_result"
    }
   ],
   "source": [
    "poverty_by_race.isnull().sum()"
   ]
  },
  {
   "cell_type": "markdown",
   "metadata": {},
   "source": [
    "<div class=\"alert alert-block alert-warning\">  \n",
    "<h4>📝 COMMENTS</h4>\n",
    "<p>Let's try to visualize our newly cleaned dataset. For this I am going to use the poverty_by_race DataFrame. \n",
    "</p>  \n",
    "</div>"
   ]
  },
  {
   "cell_type": "code",
   "execution_count": null,
   "metadata": {},
   "outputs": [],
   "source": [
    "poverty_by_race_BPL_per = poverty_by_race[poverty_by_race['Estimates'] == 'BPL %']\n",
    "poverty_by_race_BPL_per.sort_values(by=['Population'],ascending = False,inplace = True)\n",
    "poverty_by_race_BPL_per = poverty_by_race_BPL_per.head(20)\n",
    "poverty_by_race_BPL_per"
   ]
  },
  {
   "cell_type": "code",
   "execution_count": 107,
   "metadata": {},
   "outputs": [
    {
     "data": {
      "application/vnd.plotly.v1+json": {
       "config": {
        "plotlyServerURL": "https://plot.ly"
       },
       "data": [
        {
         "alignmentgroup": "True",
         "hovertemplate": "State=%{x}<br>Population=%{marker.color}<extra></extra>",
         "legendgroup": "",
         "marker": {
          "color": [
           43.1,
           19.7,
           19.5,
           18.6,
           17.8,
           17.2,
           16.9,
           16.8,
           16.2,
           15.6,
           15.3,
           15.3,
           14.9,
           14.3,
           14.1,
           14,
           14,
           13.9,
           13.6,
           13.6
          ],
          "coloraxis": "coloraxis"
         },
         "name": "",
         "offsetgroup": "",
         "orientation": "v",
         "showlegend": false,
         "textposition": "auto",
         "type": "bar",
         "x": [
          "Puerto Rico",
          "Mississippi",
          "New Mexico",
          "Louisiana",
          "West Virginia",
          "Arkansas",
          "Kentucky",
          "Alabama",
          "District of Columbia",
          "Oklahoma",
          "South Carolina",
          "Tennessee",
          "Texas",
          "Georgia",
          "Michigan",
          "Arizona",
          "North Carolina",
          "Ohio",
          "New York",
          "Florida"
         ],
         "xaxis": "x",
         "y": [
          43.1,
          19.7,
          19.5,
          18.6,
          17.8,
          17.2,
          16.9,
          16.8,
          16.2,
          15.6,
          15.3,
          15.3,
          14.9,
          14.3,
          14.1,
          14,
          14,
          13.9,
          13.6,
          13.6
         ],
         "yaxis": "y"
        }
       ],
       "layout": {
        "barmode": "relative",
        "coloraxis": {
         "colorbar": {
          "title": {
           "text": "Population"
          }
         },
         "colorscale": [
          [
           0,
           "#0d0887"
          ],
          [
           0.1111111111111111,
           "#46039f"
          ],
          [
           0.2222222222222222,
           "#7201a8"
          ],
          [
           0.3333333333333333,
           "#9c179e"
          ],
          [
           0.4444444444444444,
           "#bd3786"
          ],
          [
           0.5555555555555556,
           "#d8576b"
          ],
          [
           0.6666666666666666,
           "#ed7953"
          ],
          [
           0.7777777777777778,
           "#fb9f3a"
          ],
          [
           0.8888888888888888,
           "#fdca26"
          ],
          [
           1,
           "#f0f921"
          ]
         ]
        },
        "legend": {
         "tracegroupgap": 0
        },
        "template": {
         "data": {
          "bar": [
           {
            "error_x": {
             "color": "#2a3f5f"
            },
            "error_y": {
             "color": "#2a3f5f"
            },
            "marker": {
             "line": {
              "color": "#E5ECF6",
              "width": 0.5
             }
            },
            "type": "bar"
           }
          ],
          "barpolar": [
           {
            "marker": {
             "line": {
              "color": "#E5ECF6",
              "width": 0.5
             }
            },
            "type": "barpolar"
           }
          ],
          "carpet": [
           {
            "aaxis": {
             "endlinecolor": "#2a3f5f",
             "gridcolor": "white",
             "linecolor": "white",
             "minorgridcolor": "white",
             "startlinecolor": "#2a3f5f"
            },
            "baxis": {
             "endlinecolor": "#2a3f5f",
             "gridcolor": "white",
             "linecolor": "white",
             "minorgridcolor": "white",
             "startlinecolor": "#2a3f5f"
            },
            "type": "carpet"
           }
          ],
          "choropleth": [
           {
            "colorbar": {
             "outlinewidth": 0,
             "ticks": ""
            },
            "type": "choropleth"
           }
          ],
          "contour": [
           {
            "colorbar": {
             "outlinewidth": 0,
             "ticks": ""
            },
            "colorscale": [
             [
              0,
              "#0d0887"
             ],
             [
              0.1111111111111111,
              "#46039f"
             ],
             [
              0.2222222222222222,
              "#7201a8"
             ],
             [
              0.3333333333333333,
              "#9c179e"
             ],
             [
              0.4444444444444444,
              "#bd3786"
             ],
             [
              0.5555555555555556,
              "#d8576b"
             ],
             [
              0.6666666666666666,
              "#ed7953"
             ],
             [
              0.7777777777777778,
              "#fb9f3a"
             ],
             [
              0.8888888888888888,
              "#fdca26"
             ],
             [
              1,
              "#f0f921"
             ]
            ],
            "type": "contour"
           }
          ],
          "contourcarpet": [
           {
            "colorbar": {
             "outlinewidth": 0,
             "ticks": ""
            },
            "type": "contourcarpet"
           }
          ],
          "heatmap": [
           {
            "colorbar": {
             "outlinewidth": 0,
             "ticks": ""
            },
            "colorscale": [
             [
              0,
              "#0d0887"
             ],
             [
              0.1111111111111111,
              "#46039f"
             ],
             [
              0.2222222222222222,
              "#7201a8"
             ],
             [
              0.3333333333333333,
              "#9c179e"
             ],
             [
              0.4444444444444444,
              "#bd3786"
             ],
             [
              0.5555555555555556,
              "#d8576b"
             ],
             [
              0.6666666666666666,
              "#ed7953"
             ],
             [
              0.7777777777777778,
              "#fb9f3a"
             ],
             [
              0.8888888888888888,
              "#fdca26"
             ],
             [
              1,
              "#f0f921"
             ]
            ],
            "type": "heatmap"
           }
          ],
          "heatmapgl": [
           {
            "colorbar": {
             "outlinewidth": 0,
             "ticks": ""
            },
            "colorscale": [
             [
              0,
              "#0d0887"
             ],
             [
              0.1111111111111111,
              "#46039f"
             ],
             [
              0.2222222222222222,
              "#7201a8"
             ],
             [
              0.3333333333333333,
              "#9c179e"
             ],
             [
              0.4444444444444444,
              "#bd3786"
             ],
             [
              0.5555555555555556,
              "#d8576b"
             ],
             [
              0.6666666666666666,
              "#ed7953"
             ],
             [
              0.7777777777777778,
              "#fb9f3a"
             ],
             [
              0.8888888888888888,
              "#fdca26"
             ],
             [
              1,
              "#f0f921"
             ]
            ],
            "type": "heatmapgl"
           }
          ],
          "histogram": [
           {
            "marker": {
             "colorbar": {
              "outlinewidth": 0,
              "ticks": ""
             }
            },
            "type": "histogram"
           }
          ],
          "histogram2d": [
           {
            "colorbar": {
             "outlinewidth": 0,
             "ticks": ""
            },
            "colorscale": [
             [
              0,
              "#0d0887"
             ],
             [
              0.1111111111111111,
              "#46039f"
             ],
             [
              0.2222222222222222,
              "#7201a8"
             ],
             [
              0.3333333333333333,
              "#9c179e"
             ],
             [
              0.4444444444444444,
              "#bd3786"
             ],
             [
              0.5555555555555556,
              "#d8576b"
             ],
             [
              0.6666666666666666,
              "#ed7953"
             ],
             [
              0.7777777777777778,
              "#fb9f3a"
             ],
             [
              0.8888888888888888,
              "#fdca26"
             ],
             [
              1,
              "#f0f921"
             ]
            ],
            "type": "histogram2d"
           }
          ],
          "histogram2dcontour": [
           {
            "colorbar": {
             "outlinewidth": 0,
             "ticks": ""
            },
            "colorscale": [
             [
              0,
              "#0d0887"
             ],
             [
              0.1111111111111111,
              "#46039f"
             ],
             [
              0.2222222222222222,
              "#7201a8"
             ],
             [
              0.3333333333333333,
              "#9c179e"
             ],
             [
              0.4444444444444444,
              "#bd3786"
             ],
             [
              0.5555555555555556,
              "#d8576b"
             ],
             [
              0.6666666666666666,
              "#ed7953"
             ],
             [
              0.7777777777777778,
              "#fb9f3a"
             ],
             [
              0.8888888888888888,
              "#fdca26"
             ],
             [
              1,
              "#f0f921"
             ]
            ],
            "type": "histogram2dcontour"
           }
          ],
          "mesh3d": [
           {
            "colorbar": {
             "outlinewidth": 0,
             "ticks": ""
            },
            "type": "mesh3d"
           }
          ],
          "parcoords": [
           {
            "line": {
             "colorbar": {
              "outlinewidth": 0,
              "ticks": ""
             }
            },
            "type": "parcoords"
           }
          ],
          "pie": [
           {
            "automargin": true,
            "type": "pie"
           }
          ],
          "scatter": [
           {
            "marker": {
             "colorbar": {
              "outlinewidth": 0,
              "ticks": ""
             }
            },
            "type": "scatter"
           }
          ],
          "scatter3d": [
           {
            "line": {
             "colorbar": {
              "outlinewidth": 0,
              "ticks": ""
             }
            },
            "marker": {
             "colorbar": {
              "outlinewidth": 0,
              "ticks": ""
             }
            },
            "type": "scatter3d"
           }
          ],
          "scattercarpet": [
           {
            "marker": {
             "colorbar": {
              "outlinewidth": 0,
              "ticks": ""
             }
            },
            "type": "scattercarpet"
           }
          ],
          "scattergeo": [
           {
            "marker": {
             "colorbar": {
              "outlinewidth": 0,
              "ticks": ""
             }
            },
            "type": "scattergeo"
           }
          ],
          "scattergl": [
           {
            "marker": {
             "colorbar": {
              "outlinewidth": 0,
              "ticks": ""
             }
            },
            "type": "scattergl"
           }
          ],
          "scattermapbox": [
           {
            "marker": {
             "colorbar": {
              "outlinewidth": 0,
              "ticks": ""
             }
            },
            "type": "scattermapbox"
           }
          ],
          "scatterpolar": [
           {
            "marker": {
             "colorbar": {
              "outlinewidth": 0,
              "ticks": ""
             }
            },
            "type": "scatterpolar"
           }
          ],
          "scatterpolargl": [
           {
            "marker": {
             "colorbar": {
              "outlinewidth": 0,
              "ticks": ""
             }
            },
            "type": "scatterpolargl"
           }
          ],
          "scatterternary": [
           {
            "marker": {
             "colorbar": {
              "outlinewidth": 0,
              "ticks": ""
             }
            },
            "type": "scatterternary"
           }
          ],
          "surface": [
           {
            "colorbar": {
             "outlinewidth": 0,
             "ticks": ""
            },
            "colorscale": [
             [
              0,
              "#0d0887"
             ],
             [
              0.1111111111111111,
              "#46039f"
             ],
             [
              0.2222222222222222,
              "#7201a8"
             ],
             [
              0.3333333333333333,
              "#9c179e"
             ],
             [
              0.4444444444444444,
              "#bd3786"
             ],
             [
              0.5555555555555556,
              "#d8576b"
             ],
             [
              0.6666666666666666,
              "#ed7953"
             ],
             [
              0.7777777777777778,
              "#fb9f3a"
             ],
             [
              0.8888888888888888,
              "#fdca26"
             ],
             [
              1,
              "#f0f921"
             ]
            ],
            "type": "surface"
           }
          ],
          "table": [
           {
            "cells": {
             "fill": {
              "color": "#EBF0F8"
             },
             "line": {
              "color": "white"
             }
            },
            "header": {
             "fill": {
              "color": "#C8D4E3"
             },
             "line": {
              "color": "white"
             }
            },
            "type": "table"
           }
          ]
         },
         "layout": {
          "annotationdefaults": {
           "arrowcolor": "#2a3f5f",
           "arrowhead": 0,
           "arrowwidth": 1
          },
          "coloraxis": {
           "colorbar": {
            "outlinewidth": 0,
            "ticks": ""
           }
          },
          "colorscale": {
           "diverging": [
            [
             0,
             "#8e0152"
            ],
            [
             0.1,
             "#c51b7d"
            ],
            [
             0.2,
             "#de77ae"
            ],
            [
             0.3,
             "#f1b6da"
            ],
            [
             0.4,
             "#fde0ef"
            ],
            [
             0.5,
             "#f7f7f7"
            ],
            [
             0.6,
             "#e6f5d0"
            ],
            [
             0.7,
             "#b8e186"
            ],
            [
             0.8,
             "#7fbc41"
            ],
            [
             0.9,
             "#4d9221"
            ],
            [
             1,
             "#276419"
            ]
           ],
           "sequential": [
            [
             0,
             "#0d0887"
            ],
            [
             0.1111111111111111,
             "#46039f"
            ],
            [
             0.2222222222222222,
             "#7201a8"
            ],
            [
             0.3333333333333333,
             "#9c179e"
            ],
            [
             0.4444444444444444,
             "#bd3786"
            ],
            [
             0.5555555555555556,
             "#d8576b"
            ],
            [
             0.6666666666666666,
             "#ed7953"
            ],
            [
             0.7777777777777778,
             "#fb9f3a"
            ],
            [
             0.8888888888888888,
             "#fdca26"
            ],
            [
             1,
             "#f0f921"
            ]
           ],
           "sequentialminus": [
            [
             0,
             "#0d0887"
            ],
            [
             0.1111111111111111,
             "#46039f"
            ],
            [
             0.2222222222222222,
             "#7201a8"
            ],
            [
             0.3333333333333333,
             "#9c179e"
            ],
            [
             0.4444444444444444,
             "#bd3786"
            ],
            [
             0.5555555555555556,
             "#d8576b"
            ],
            [
             0.6666666666666666,
             "#ed7953"
            ],
            [
             0.7777777777777778,
             "#fb9f3a"
            ],
            [
             0.8888888888888888,
             "#fdca26"
            ],
            [
             1,
             "#f0f921"
            ]
           ]
          },
          "colorway": [
           "#636efa",
           "#EF553B",
           "#00cc96",
           "#ab63fa",
           "#FFA15A",
           "#19d3f3",
           "#FF6692",
           "#B6E880",
           "#FF97FF",
           "#FECB52"
          ],
          "font": {
           "color": "#2a3f5f"
          },
          "geo": {
           "bgcolor": "white",
           "lakecolor": "white",
           "landcolor": "#E5ECF6",
           "showlakes": true,
           "showland": true,
           "subunitcolor": "white"
          },
          "hoverlabel": {
           "align": "left"
          },
          "hovermode": "closest",
          "mapbox": {
           "style": "light"
          },
          "paper_bgcolor": "white",
          "plot_bgcolor": "#E5ECF6",
          "polar": {
           "angularaxis": {
            "gridcolor": "white",
            "linecolor": "white",
            "ticks": ""
           },
           "bgcolor": "#E5ECF6",
           "radialaxis": {
            "gridcolor": "white",
            "linecolor": "white",
            "ticks": ""
           }
          },
          "scene": {
           "xaxis": {
            "backgroundcolor": "#E5ECF6",
            "gridcolor": "white",
            "gridwidth": 2,
            "linecolor": "white",
            "showbackground": true,
            "ticks": "",
            "zerolinecolor": "white"
           },
           "yaxis": {
            "backgroundcolor": "#E5ECF6",
            "gridcolor": "white",
            "gridwidth": 2,
            "linecolor": "white",
            "showbackground": true,
            "ticks": "",
            "zerolinecolor": "white"
           },
           "zaxis": {
            "backgroundcolor": "#E5ECF6",
            "gridcolor": "white",
            "gridwidth": 2,
            "linecolor": "white",
            "showbackground": true,
            "ticks": "",
            "zerolinecolor": "white"
           }
          },
          "shapedefaults": {
           "line": {
            "color": "#2a3f5f"
           }
          },
          "ternary": {
           "aaxis": {
            "gridcolor": "white",
            "linecolor": "white",
            "ticks": ""
           },
           "baxis": {
            "gridcolor": "white",
            "linecolor": "white",
            "ticks": ""
           },
           "bgcolor": "#E5ECF6",
           "caxis": {
            "gridcolor": "white",
            "linecolor": "white",
            "ticks": ""
           }
          },
          "title": {
           "x": 0.05
          },
          "xaxis": {
           "automargin": true,
           "gridcolor": "white",
           "linecolor": "white",
           "ticks": "",
           "title": {
            "standoff": 15
           },
           "zerolinecolor": "white",
           "zerolinewidth": 2
          },
          "yaxis": {
           "automargin": true,
           "gridcolor": "white",
           "linecolor": "white",
           "ticks": "",
           "title": {
            "standoff": 15
           },
           "zerolinecolor": "white",
           "zerolinewidth": 2
          }
         }
        },
        "title": {
         "text": "% of Population BPL for Top 20 poorest states"
        },
        "xaxis": {
         "anchor": "y",
         "domain": [
          0,
          1
         ],
         "title": {
          "text": "State"
         }
        },
        "yaxis": {
         "anchor": "x",
         "domain": [
          0,
          1
         ],
         "title": {
          "text": "Population"
         }
        }
       }
      },
      "text/html": [
       "<div>\n",
       "        \n",
       "        \n",
       "            <div id=\"2e524bb2-d65b-4896-8c37-a1e10ee0f2f0\" class=\"plotly-graph-div\" style=\"height:525px; width:100%;\"></div>\n",
       "            <script type=\"text/javascript\">\n",
       "                require([\"plotly\"], function(Plotly) {\n",
       "                    window.PLOTLYENV=window.PLOTLYENV || {};\n",
       "                    \n",
       "                if (document.getElementById(\"2e524bb2-d65b-4896-8c37-a1e10ee0f2f0\")) {\n",
       "                    Plotly.newPlot(\n",
       "                        '2e524bb2-d65b-4896-8c37-a1e10ee0f2f0',\n",
       "                        [{\"alignmentgroup\": \"True\", \"hovertemplate\": \"State=%{x}<br>Population=%{marker.color}<extra></extra>\", \"legendgroup\": \"\", \"marker\": {\"color\": [43.1, 19.7, 19.5, 18.6, 17.8, 17.2, 16.9, 16.8, 16.2, 15.6, 15.3, 15.3, 14.9, 14.3, 14.1, 14.0, 14.0, 13.9, 13.6, 13.6], \"coloraxis\": \"coloraxis\"}, \"name\": \"\", \"offsetgroup\": \"\", \"orientation\": \"v\", \"showlegend\": false, \"textposition\": \"auto\", \"type\": \"bar\", \"x\": [\"Puerto Rico\", \"Mississippi\", \"New Mexico\", \"Louisiana\", \"West Virginia\", \"Arkansas\", \"Kentucky\", \"Alabama\", \"District of Columbia\", \"Oklahoma\", \"South Carolina\", \"Tennessee\", \"Texas\", \"Georgia\", \"Michigan\", \"Arizona\", \"North Carolina\", \"Ohio\", \"New York\", \"Florida\"], \"xaxis\": \"x\", \"y\": [43.1, 19.7, 19.5, 18.6, 17.8, 17.2, 16.9, 16.8, 16.2, 15.6, 15.3, 15.3, 14.9, 14.3, 14.1, 14.0, 14.0, 13.9, 13.6, 13.6], \"yaxis\": \"y\"}],\n",
       "                        {\"barmode\": \"relative\", \"coloraxis\": {\"colorbar\": {\"title\": {\"text\": \"Population\"}}, \"colorscale\": [[0.0, \"#0d0887\"], [0.1111111111111111, \"#46039f\"], [0.2222222222222222, \"#7201a8\"], [0.3333333333333333, \"#9c179e\"], [0.4444444444444444, \"#bd3786\"], [0.5555555555555556, \"#d8576b\"], [0.6666666666666666, \"#ed7953\"], [0.7777777777777778, \"#fb9f3a\"], [0.8888888888888888, \"#fdca26\"], [1.0, \"#f0f921\"]]}, \"legend\": {\"tracegroupgap\": 0}, \"template\": {\"data\": {\"bar\": [{\"error_x\": {\"color\": \"#2a3f5f\"}, \"error_y\": {\"color\": \"#2a3f5f\"}, \"marker\": {\"line\": {\"color\": \"#E5ECF6\", \"width\": 0.5}}, \"type\": \"bar\"}], \"barpolar\": [{\"marker\": {\"line\": {\"color\": \"#E5ECF6\", \"width\": 0.5}}, \"type\": \"barpolar\"}], \"carpet\": [{\"aaxis\": {\"endlinecolor\": \"#2a3f5f\", \"gridcolor\": \"white\", \"linecolor\": \"white\", \"minorgridcolor\": \"white\", \"startlinecolor\": \"#2a3f5f\"}, \"baxis\": {\"endlinecolor\": \"#2a3f5f\", \"gridcolor\": \"white\", \"linecolor\": \"white\", \"minorgridcolor\": \"white\", \"startlinecolor\": \"#2a3f5f\"}, \"type\": \"carpet\"}], \"choropleth\": [{\"colorbar\": {\"outlinewidth\": 0, \"ticks\": \"\"}, \"type\": \"choropleth\"}], \"contour\": [{\"colorbar\": {\"outlinewidth\": 0, \"ticks\": \"\"}, \"colorscale\": [[0.0, \"#0d0887\"], [0.1111111111111111, \"#46039f\"], [0.2222222222222222, \"#7201a8\"], [0.3333333333333333, \"#9c179e\"], [0.4444444444444444, \"#bd3786\"], [0.5555555555555556, \"#d8576b\"], [0.6666666666666666, \"#ed7953\"], [0.7777777777777778, \"#fb9f3a\"], [0.8888888888888888, \"#fdca26\"], [1.0, \"#f0f921\"]], \"type\": \"contour\"}], \"contourcarpet\": [{\"colorbar\": {\"outlinewidth\": 0, \"ticks\": \"\"}, \"type\": \"contourcarpet\"}], \"heatmap\": [{\"colorbar\": {\"outlinewidth\": 0, \"ticks\": \"\"}, \"colorscale\": [[0.0, \"#0d0887\"], [0.1111111111111111, \"#46039f\"], [0.2222222222222222, \"#7201a8\"], [0.3333333333333333, \"#9c179e\"], [0.4444444444444444, \"#bd3786\"], [0.5555555555555556, \"#d8576b\"], [0.6666666666666666, \"#ed7953\"], [0.7777777777777778, \"#fb9f3a\"], [0.8888888888888888, \"#fdca26\"], [1.0, \"#f0f921\"]], \"type\": \"heatmap\"}], \"heatmapgl\": [{\"colorbar\": {\"outlinewidth\": 0, \"ticks\": \"\"}, \"colorscale\": [[0.0, \"#0d0887\"], [0.1111111111111111, \"#46039f\"], [0.2222222222222222, \"#7201a8\"], [0.3333333333333333, \"#9c179e\"], [0.4444444444444444, \"#bd3786\"], [0.5555555555555556, \"#d8576b\"], [0.6666666666666666, \"#ed7953\"], [0.7777777777777778, \"#fb9f3a\"], [0.8888888888888888, \"#fdca26\"], [1.0, \"#f0f921\"]], \"type\": \"heatmapgl\"}], \"histogram\": [{\"marker\": {\"colorbar\": {\"outlinewidth\": 0, \"ticks\": \"\"}}, \"type\": \"histogram\"}], \"histogram2d\": [{\"colorbar\": {\"outlinewidth\": 0, \"ticks\": \"\"}, \"colorscale\": [[0.0, \"#0d0887\"], [0.1111111111111111, \"#46039f\"], [0.2222222222222222, \"#7201a8\"], [0.3333333333333333, \"#9c179e\"], [0.4444444444444444, \"#bd3786\"], [0.5555555555555556, \"#d8576b\"], [0.6666666666666666, \"#ed7953\"], [0.7777777777777778, \"#fb9f3a\"], [0.8888888888888888, \"#fdca26\"], [1.0, \"#f0f921\"]], \"type\": \"histogram2d\"}], \"histogram2dcontour\": [{\"colorbar\": {\"outlinewidth\": 0, \"ticks\": \"\"}, \"colorscale\": [[0.0, \"#0d0887\"], [0.1111111111111111, \"#46039f\"], [0.2222222222222222, \"#7201a8\"], [0.3333333333333333, \"#9c179e\"], [0.4444444444444444, \"#bd3786\"], [0.5555555555555556, \"#d8576b\"], [0.6666666666666666, \"#ed7953\"], [0.7777777777777778, \"#fb9f3a\"], [0.8888888888888888, \"#fdca26\"], [1.0, \"#f0f921\"]], \"type\": \"histogram2dcontour\"}], \"mesh3d\": [{\"colorbar\": {\"outlinewidth\": 0, \"ticks\": \"\"}, \"type\": \"mesh3d\"}], \"parcoords\": [{\"line\": {\"colorbar\": {\"outlinewidth\": 0, \"ticks\": \"\"}}, \"type\": \"parcoords\"}], \"pie\": [{\"automargin\": true, \"type\": \"pie\"}], \"scatter\": [{\"marker\": {\"colorbar\": {\"outlinewidth\": 0, \"ticks\": \"\"}}, \"type\": \"scatter\"}], \"scatter3d\": [{\"line\": {\"colorbar\": {\"outlinewidth\": 0, \"ticks\": \"\"}}, \"marker\": {\"colorbar\": {\"outlinewidth\": 0, \"ticks\": \"\"}}, \"type\": \"scatter3d\"}], \"scattercarpet\": [{\"marker\": {\"colorbar\": {\"outlinewidth\": 0, \"ticks\": \"\"}}, \"type\": \"scattercarpet\"}], \"scattergeo\": [{\"marker\": {\"colorbar\": {\"outlinewidth\": 0, \"ticks\": \"\"}}, \"type\": \"scattergeo\"}], \"scattergl\": [{\"marker\": {\"colorbar\": {\"outlinewidth\": 0, \"ticks\": \"\"}}, \"type\": \"scattergl\"}], \"scattermapbox\": [{\"marker\": {\"colorbar\": {\"outlinewidth\": 0, \"ticks\": \"\"}}, \"type\": \"scattermapbox\"}], \"scatterpolar\": [{\"marker\": {\"colorbar\": {\"outlinewidth\": 0, \"ticks\": \"\"}}, \"type\": \"scatterpolar\"}], \"scatterpolargl\": [{\"marker\": {\"colorbar\": {\"outlinewidth\": 0, \"ticks\": \"\"}}, \"type\": \"scatterpolargl\"}], \"scatterternary\": [{\"marker\": {\"colorbar\": {\"outlinewidth\": 0, \"ticks\": \"\"}}, \"type\": \"scatterternary\"}], \"surface\": [{\"colorbar\": {\"outlinewidth\": 0, \"ticks\": \"\"}, \"colorscale\": [[0.0, \"#0d0887\"], [0.1111111111111111, \"#46039f\"], [0.2222222222222222, \"#7201a8\"], [0.3333333333333333, \"#9c179e\"], [0.4444444444444444, \"#bd3786\"], [0.5555555555555556, \"#d8576b\"], [0.6666666666666666, \"#ed7953\"], [0.7777777777777778, \"#fb9f3a\"], [0.8888888888888888, \"#fdca26\"], [1.0, \"#f0f921\"]], \"type\": \"surface\"}], \"table\": [{\"cells\": {\"fill\": {\"color\": \"#EBF0F8\"}, \"line\": {\"color\": \"white\"}}, \"header\": {\"fill\": {\"color\": \"#C8D4E3\"}, \"line\": {\"color\": \"white\"}}, \"type\": \"table\"}]}, \"layout\": {\"annotationdefaults\": {\"arrowcolor\": \"#2a3f5f\", \"arrowhead\": 0, \"arrowwidth\": 1}, \"coloraxis\": {\"colorbar\": {\"outlinewidth\": 0, \"ticks\": \"\"}}, \"colorscale\": {\"diverging\": [[0, \"#8e0152\"], [0.1, \"#c51b7d\"], [0.2, \"#de77ae\"], [0.3, \"#f1b6da\"], [0.4, \"#fde0ef\"], [0.5, \"#f7f7f7\"], [0.6, \"#e6f5d0\"], [0.7, \"#b8e186\"], [0.8, \"#7fbc41\"], [0.9, \"#4d9221\"], [1, \"#276419\"]], \"sequential\": [[0.0, \"#0d0887\"], [0.1111111111111111, \"#46039f\"], [0.2222222222222222, \"#7201a8\"], [0.3333333333333333, \"#9c179e\"], [0.4444444444444444, \"#bd3786\"], [0.5555555555555556, \"#d8576b\"], [0.6666666666666666, \"#ed7953\"], [0.7777777777777778, \"#fb9f3a\"], [0.8888888888888888, \"#fdca26\"], [1.0, \"#f0f921\"]], \"sequentialminus\": [[0.0, \"#0d0887\"], [0.1111111111111111, \"#46039f\"], [0.2222222222222222, \"#7201a8\"], [0.3333333333333333, \"#9c179e\"], [0.4444444444444444, \"#bd3786\"], [0.5555555555555556, \"#d8576b\"], [0.6666666666666666, \"#ed7953\"], [0.7777777777777778, \"#fb9f3a\"], [0.8888888888888888, \"#fdca26\"], [1.0, \"#f0f921\"]]}, \"colorway\": [\"#636efa\", \"#EF553B\", \"#00cc96\", \"#ab63fa\", \"#FFA15A\", \"#19d3f3\", \"#FF6692\", \"#B6E880\", \"#FF97FF\", \"#FECB52\"], \"font\": {\"color\": \"#2a3f5f\"}, \"geo\": {\"bgcolor\": \"white\", \"lakecolor\": \"white\", \"landcolor\": \"#E5ECF6\", \"showlakes\": true, \"showland\": true, \"subunitcolor\": \"white\"}, \"hoverlabel\": {\"align\": \"left\"}, \"hovermode\": \"closest\", \"mapbox\": {\"style\": \"light\"}, \"paper_bgcolor\": \"white\", \"plot_bgcolor\": \"#E5ECF6\", \"polar\": {\"angularaxis\": {\"gridcolor\": \"white\", \"linecolor\": \"white\", \"ticks\": \"\"}, \"bgcolor\": \"#E5ECF6\", \"radialaxis\": {\"gridcolor\": \"white\", \"linecolor\": \"white\", \"ticks\": \"\"}}, \"scene\": {\"xaxis\": {\"backgroundcolor\": \"#E5ECF6\", \"gridcolor\": \"white\", \"gridwidth\": 2, \"linecolor\": \"white\", \"showbackground\": true, \"ticks\": \"\", \"zerolinecolor\": \"white\"}, \"yaxis\": {\"backgroundcolor\": \"#E5ECF6\", \"gridcolor\": \"white\", \"gridwidth\": 2, \"linecolor\": \"white\", \"showbackground\": true, \"ticks\": \"\", \"zerolinecolor\": \"white\"}, \"zaxis\": {\"backgroundcolor\": \"#E5ECF6\", \"gridcolor\": \"white\", \"gridwidth\": 2, \"linecolor\": \"white\", \"showbackground\": true, \"ticks\": \"\", \"zerolinecolor\": \"white\"}}, \"shapedefaults\": {\"line\": {\"color\": \"#2a3f5f\"}}, \"ternary\": {\"aaxis\": {\"gridcolor\": \"white\", \"linecolor\": \"white\", \"ticks\": \"\"}, \"baxis\": {\"gridcolor\": \"white\", \"linecolor\": \"white\", \"ticks\": \"\"}, \"bgcolor\": \"#E5ECF6\", \"caxis\": {\"gridcolor\": \"white\", \"linecolor\": \"white\", \"ticks\": \"\"}}, \"title\": {\"x\": 0.05}, \"xaxis\": {\"automargin\": true, \"gridcolor\": \"white\", \"linecolor\": \"white\", \"ticks\": \"\", \"title\": {\"standoff\": 15}, \"zerolinecolor\": \"white\", \"zerolinewidth\": 2}, \"yaxis\": {\"automargin\": true, \"gridcolor\": \"white\", \"linecolor\": \"white\", \"ticks\": \"\", \"title\": {\"standoff\": 15}, \"zerolinecolor\": \"white\", \"zerolinewidth\": 2}}}, \"title\": {\"text\": \"% of Population BPL for Top 20 poorest states\"}, \"xaxis\": {\"anchor\": \"y\", \"domain\": [0.0, 1.0], \"title\": {\"text\": \"State\"}}, \"yaxis\": {\"anchor\": \"x\", \"domain\": [0.0, 1.0], \"title\": {\"text\": \"Population\"}}},\n",
       "                        {\"responsive\": true}\n",
       "                    ).then(function(){\n",
       "                            \n",
       "var gd = document.getElementById('2e524bb2-d65b-4896-8c37-a1e10ee0f2f0');\n",
       "var x = new MutationObserver(function (mutations, observer) {{\n",
       "        var display = window.getComputedStyle(gd).display;\n",
       "        if (!display || display === 'none') {{\n",
       "            console.log([gd, 'removed!']);\n",
       "            Plotly.purge(gd);\n",
       "            observer.disconnect();\n",
       "        }}\n",
       "}});\n",
       "\n",
       "// Listen for the removal of the full notebook cells\n",
       "var notebookContainer = gd.closest('#notebook-container');\n",
       "if (notebookContainer) {{\n",
       "    x.observe(notebookContainer, {childList: true});\n",
       "}}\n",
       "\n",
       "// Listen for the clearing of the current output cell\n",
       "var outputEl = gd.closest('.output');\n",
       "if (outputEl) {{\n",
       "    x.observe(outputEl, {childList: true});\n",
       "}}\n",
       "\n",
       "                        })\n",
       "                };\n",
       "                });\n",
       "            </script>\n",
       "        </div>"
      ]
     },
     "metadata": {},
     "output_type": "display_data"
    }
   ],
   "source": [
    "fig = px.bar(poverty_by_race_BPL_per, x='State', y='Population',title='% of Population BPL for Top 20 poorest states',color='Population')\n",
    "fig.show()"
   ]
  },
  {
   "cell_type": "code",
   "execution_count": 111,
   "metadata": {},
   "outputs": [
    {
     "data": {
      "application/vnd.plotly.v1+json": {
       "config": {
        "plotlyServerURL": "https://plot.ly"
       },
       "data": [
        {
         "name": "White",
         "type": "bar",
         "x": [
          "Puerto Rico",
          "Mississippi",
          "New Mexico",
          "Louisiana",
          "West Virginia",
          "Arkansas",
          "Kentucky",
          "Alabama",
          "District of Columbia",
          "Oklahoma",
          "South Carolina",
          "Tennessee",
          "Texas",
          "Georgia",
          "Michigan",
          "Arizona",
          "North Carolina",
          "Ohio",
          "New York",
          "Florida"
         ],
         "y": [
          40.9,
          12.3,
          17.2,
          12.7,
          17.1,
          13.9,
          15.6,
          11.8,
          7.1,
          13.2,
          10.7,
          12.5,
          13.8,
          10.9,
          11.4,
          12.2,
          11.1,
          11.1,
          10.3,
          11.7
         ]
        },
        {
         "name": "Black or AA",
         "type": "bar",
         "x": [
          "Puerto Rico",
          "Mississippi",
          "New Mexico",
          "Louisiana",
          "West Virginia",
          "Arkansas",
          "Kentucky",
          "Alabama",
          "District of Columbia",
          "Oklahoma",
          "South Carolina",
          "Tennessee",
          "Texas",
          "Georgia",
          "Michigan",
          "Arizona",
          "North Carolina",
          "Ohio",
          "New York",
          "Florida"
         ],
         "y": [
          44.7,
          30.7,
          26.7,
          30,
          28.6,
          30.4,
          28.1,
          27.7,
          25.3,
          27.6,
          25.4,
          26.4,
          19.6,
          20,
          27.4,
          19.5,
          21.1,
          28.7,
          20,
          21.2
         ]
        },
        {
         "name": "AI or Alaska Native",
         "type": "bar",
         "x": [
          "Puerto Rico",
          "Mississippi",
          "New Mexico",
          "Louisiana",
          "West Virginia",
          "Arkansas",
          "Kentucky",
          "Alabama",
          "District of Columbia",
          "Oklahoma",
          "South Carolina",
          "Tennessee",
          "Texas",
          "Georgia",
          "Michigan",
          "Arizona",
          "North Carolina",
          "Ohio",
          "New York",
          "Florida"
         ],
         "y": [
          null,
          44.3,
          33.6,
          18.6,
          null,
          23.3,
          24.9,
          19,
          null,
          19.5,
          25.8,
          21.2,
          15.6,
          22.9,
          19.9,
          33.3,
          20.1,
          25.3,
          19.4,
          17
         ]
        },
        {
         "name": "Asian",
         "type": "bar",
         "x": [
          "Puerto Rico",
          "Mississippi",
          "New Mexico",
          "Louisiana",
          "West Virginia",
          "Arkansas",
          "Kentucky",
          "Alabama",
          "District of Columbia",
          "Oklahoma",
          "South Carolina",
          "Tennessee",
          "Texas",
          "Georgia",
          "Michigan",
          "Arizona",
          "North Carolina",
          "Ohio",
          "New York",
          "Florida"
         ],
         "y": [
          null,
          17.8,
          12.1,
          12.7,
          20.7,
          15.2,
          12.7,
          10.1,
          8.7,
          14,
          10.6,
          11.7,
          10.8,
          9.7,
          13.1,
          12.2,
          12.8,
          11.8,
          14.4,
          12.5
         ]
        },
        {
         "name": "Native Hawaiian or OPI",
         "type": "bar",
         "x": [
          "Puerto Rico",
          "Mississippi",
          "New Mexico",
          "Louisiana",
          "West Virginia",
          "Arkansas",
          "Kentucky",
          "Alabama",
          "District of Columbia",
          "Oklahoma",
          "South Carolina",
          "Tennessee",
          "Texas",
          "Georgia",
          "Michigan",
          "Arizona",
          "North Carolina",
          "Ohio",
          "New York",
          "Florida"
         ],
         "y": [
          null,
          null,
          null,
          null,
          null,
          30.4,
          null,
          null,
          null,
          19.6,
          null,
          35.7,
          14.2,
          null,
          null,
          8.6,
          27.3,
          null,
          27.2,
          18.6
         ]
        },
        {
         "name": "Other race",
         "type": "bar",
         "x": [
          "Puerto Rico",
          "Mississippi",
          "New Mexico",
          "Louisiana",
          "West Virginia",
          "Arkansas",
          "Kentucky",
          "Alabama",
          "District of Columbia",
          "Oklahoma",
          "South Carolina",
          "Tennessee",
          "Texas",
          "Georgia",
          "Michigan",
          "Arizona",
          "North Carolina",
          "Ohio",
          "New York",
          "Florida"
         ],
         "y": [
          50.6,
          19.4,
          24.3,
          20.6,
          21.2,
          25.1,
          31.9,
          38.6,
          17.2,
          26,
          30.1,
          25.7,
          22.2,
          23.5,
          19.1,
          19.2,
          24.5,
          26,
          23.8,
          20.3
         ]
        },
        {
         "name": "Two or more races",
         "type": "bar",
         "x": [
          "Puerto Rico",
          "Mississippi",
          "New Mexico",
          "Louisiana",
          "West Virginia",
          "Arkansas",
          "Kentucky",
          "Alabama",
          "District of Columbia",
          "Oklahoma",
          "South Carolina",
          "Tennessee",
          "Texas",
          "Georgia",
          "Michigan",
          "Arizona",
          "North Carolina",
          "Ohio",
          "New York",
          "Florida"
         ],
         "y": [
          41.5,
          21.5,
          18.8,
          23.4,
          30.9,
          27.3,
          21.2,
          25.5,
          11.2,
          19.7,
          20.7,
          22.9,
          13.7,
          18.6,
          21.6,
          16.3,
          19.5,
          24.6,
          17.7,
          14.2
         ]
        },
        {
         "name": "Hispanic or Latino",
         "type": "bar",
         "x": [
          "Puerto Rico",
          "Mississippi",
          "New Mexico",
          "Louisiana",
          "West Virginia",
          "Arkansas",
          "Kentucky",
          "Alabama",
          "District of Columbia",
          "Oklahoma",
          "South Carolina",
          "Tennessee",
          "Texas",
          "Georgia",
          "Michigan",
          "Arizona",
          "North Carolina",
          "Ohio",
          "New York",
          "Florida"
         ],
         "y": [
          43.2,
          24.2,
          23.1,
          22.1,
          17.7,
          23.8,
          24.8,
          31.4,
          13,
          23,
          27,
          24.3,
          20.9,
          21.3,
          19.8,
          19.6,
          24.8,
          23.8,
          21.3,
          17
         ]
        },
        {
         "name": "White not Hispanic or Latino",
         "type": "bar",
         "x": [
          "Puerto Rico",
          "Mississippi",
          "New Mexico",
          "Louisiana",
          "West Virginia",
          "Arkansas",
          "Kentucky",
          "Alabama",
          "District of Columbia",
          "Oklahoma",
          "South Carolina",
          "Tennessee",
          "Texas",
          "Georgia",
          "Michigan",
          "Arizona",
          "North Carolina",
          "Ohio",
          "New York",
          "Florida"
         ],
         "y": [
          38.7,
          11.9,
          11.7,
          12.2,
          17.1,
          13.5,
          15.4,
          11.3,
          6.4,
          12.3,
          10,
          12,
          8.5,
          9.9,
          11,
          9,
          9.8,
          10.8,
          9.1,
          9.8
         ]
        }
       ],
       "layout": {
        "barmode": "stack",
        "template": {
         "data": {
          "bar": [
           {
            "error_x": {
             "color": "#2a3f5f"
            },
            "error_y": {
             "color": "#2a3f5f"
            },
            "marker": {
             "line": {
              "color": "#E5ECF6",
              "width": 0.5
             }
            },
            "type": "bar"
           }
          ],
          "barpolar": [
           {
            "marker": {
             "line": {
              "color": "#E5ECF6",
              "width": 0.5
             }
            },
            "type": "barpolar"
           }
          ],
          "carpet": [
           {
            "aaxis": {
             "endlinecolor": "#2a3f5f",
             "gridcolor": "white",
             "linecolor": "white",
             "minorgridcolor": "white",
             "startlinecolor": "#2a3f5f"
            },
            "baxis": {
             "endlinecolor": "#2a3f5f",
             "gridcolor": "white",
             "linecolor": "white",
             "minorgridcolor": "white",
             "startlinecolor": "#2a3f5f"
            },
            "type": "carpet"
           }
          ],
          "choropleth": [
           {
            "colorbar": {
             "outlinewidth": 0,
             "ticks": ""
            },
            "type": "choropleth"
           }
          ],
          "contour": [
           {
            "colorbar": {
             "outlinewidth": 0,
             "ticks": ""
            },
            "colorscale": [
             [
              0,
              "#0d0887"
             ],
             [
              0.1111111111111111,
              "#46039f"
             ],
             [
              0.2222222222222222,
              "#7201a8"
             ],
             [
              0.3333333333333333,
              "#9c179e"
             ],
             [
              0.4444444444444444,
              "#bd3786"
             ],
             [
              0.5555555555555556,
              "#d8576b"
             ],
             [
              0.6666666666666666,
              "#ed7953"
             ],
             [
              0.7777777777777778,
              "#fb9f3a"
             ],
             [
              0.8888888888888888,
              "#fdca26"
             ],
             [
              1,
              "#f0f921"
             ]
            ],
            "type": "contour"
           }
          ],
          "contourcarpet": [
           {
            "colorbar": {
             "outlinewidth": 0,
             "ticks": ""
            },
            "type": "contourcarpet"
           }
          ],
          "heatmap": [
           {
            "colorbar": {
             "outlinewidth": 0,
             "ticks": ""
            },
            "colorscale": [
             [
              0,
              "#0d0887"
             ],
             [
              0.1111111111111111,
              "#46039f"
             ],
             [
              0.2222222222222222,
              "#7201a8"
             ],
             [
              0.3333333333333333,
              "#9c179e"
             ],
             [
              0.4444444444444444,
              "#bd3786"
             ],
             [
              0.5555555555555556,
              "#d8576b"
             ],
             [
              0.6666666666666666,
              "#ed7953"
             ],
             [
              0.7777777777777778,
              "#fb9f3a"
             ],
             [
              0.8888888888888888,
              "#fdca26"
             ],
             [
              1,
              "#f0f921"
             ]
            ],
            "type": "heatmap"
           }
          ],
          "heatmapgl": [
           {
            "colorbar": {
             "outlinewidth": 0,
             "ticks": ""
            },
            "colorscale": [
             [
              0,
              "#0d0887"
             ],
             [
              0.1111111111111111,
              "#46039f"
             ],
             [
              0.2222222222222222,
              "#7201a8"
             ],
             [
              0.3333333333333333,
              "#9c179e"
             ],
             [
              0.4444444444444444,
              "#bd3786"
             ],
             [
              0.5555555555555556,
              "#d8576b"
             ],
             [
              0.6666666666666666,
              "#ed7953"
             ],
             [
              0.7777777777777778,
              "#fb9f3a"
             ],
             [
              0.8888888888888888,
              "#fdca26"
             ],
             [
              1,
              "#f0f921"
             ]
            ],
            "type": "heatmapgl"
           }
          ],
          "histogram": [
           {
            "marker": {
             "colorbar": {
              "outlinewidth": 0,
              "ticks": ""
             }
            },
            "type": "histogram"
           }
          ],
          "histogram2d": [
           {
            "colorbar": {
             "outlinewidth": 0,
             "ticks": ""
            },
            "colorscale": [
             [
              0,
              "#0d0887"
             ],
             [
              0.1111111111111111,
              "#46039f"
             ],
             [
              0.2222222222222222,
              "#7201a8"
             ],
             [
              0.3333333333333333,
              "#9c179e"
             ],
             [
              0.4444444444444444,
              "#bd3786"
             ],
             [
              0.5555555555555556,
              "#d8576b"
             ],
             [
              0.6666666666666666,
              "#ed7953"
             ],
             [
              0.7777777777777778,
              "#fb9f3a"
             ],
             [
              0.8888888888888888,
              "#fdca26"
             ],
             [
              1,
              "#f0f921"
             ]
            ],
            "type": "histogram2d"
           }
          ],
          "histogram2dcontour": [
           {
            "colorbar": {
             "outlinewidth": 0,
             "ticks": ""
            },
            "colorscale": [
             [
              0,
              "#0d0887"
             ],
             [
              0.1111111111111111,
              "#46039f"
             ],
             [
              0.2222222222222222,
              "#7201a8"
             ],
             [
              0.3333333333333333,
              "#9c179e"
             ],
             [
              0.4444444444444444,
              "#bd3786"
             ],
             [
              0.5555555555555556,
              "#d8576b"
             ],
             [
              0.6666666666666666,
              "#ed7953"
             ],
             [
              0.7777777777777778,
              "#fb9f3a"
             ],
             [
              0.8888888888888888,
              "#fdca26"
             ],
             [
              1,
              "#f0f921"
             ]
            ],
            "type": "histogram2dcontour"
           }
          ],
          "mesh3d": [
           {
            "colorbar": {
             "outlinewidth": 0,
             "ticks": ""
            },
            "type": "mesh3d"
           }
          ],
          "parcoords": [
           {
            "line": {
             "colorbar": {
              "outlinewidth": 0,
              "ticks": ""
             }
            },
            "type": "parcoords"
           }
          ],
          "pie": [
           {
            "automargin": true,
            "type": "pie"
           }
          ],
          "scatter": [
           {
            "marker": {
             "colorbar": {
              "outlinewidth": 0,
              "ticks": ""
             }
            },
            "type": "scatter"
           }
          ],
          "scatter3d": [
           {
            "line": {
             "colorbar": {
              "outlinewidth": 0,
              "ticks": ""
             }
            },
            "marker": {
             "colorbar": {
              "outlinewidth": 0,
              "ticks": ""
             }
            },
            "type": "scatter3d"
           }
          ],
          "scattercarpet": [
           {
            "marker": {
             "colorbar": {
              "outlinewidth": 0,
              "ticks": ""
             }
            },
            "type": "scattercarpet"
           }
          ],
          "scattergeo": [
           {
            "marker": {
             "colorbar": {
              "outlinewidth": 0,
              "ticks": ""
             }
            },
            "type": "scattergeo"
           }
          ],
          "scattergl": [
           {
            "marker": {
             "colorbar": {
              "outlinewidth": 0,
              "ticks": ""
             }
            },
            "type": "scattergl"
           }
          ],
          "scattermapbox": [
           {
            "marker": {
             "colorbar": {
              "outlinewidth": 0,
              "ticks": ""
             }
            },
            "type": "scattermapbox"
           }
          ],
          "scatterpolar": [
           {
            "marker": {
             "colorbar": {
              "outlinewidth": 0,
              "ticks": ""
             }
            },
            "type": "scatterpolar"
           }
          ],
          "scatterpolargl": [
           {
            "marker": {
             "colorbar": {
              "outlinewidth": 0,
              "ticks": ""
             }
            },
            "type": "scatterpolargl"
           }
          ],
          "scatterternary": [
           {
            "marker": {
             "colorbar": {
              "outlinewidth": 0,
              "ticks": ""
             }
            },
            "type": "scatterternary"
           }
          ],
          "surface": [
           {
            "colorbar": {
             "outlinewidth": 0,
             "ticks": ""
            },
            "colorscale": [
             [
              0,
              "#0d0887"
             ],
             [
              0.1111111111111111,
              "#46039f"
             ],
             [
              0.2222222222222222,
              "#7201a8"
             ],
             [
              0.3333333333333333,
              "#9c179e"
             ],
             [
              0.4444444444444444,
              "#bd3786"
             ],
             [
              0.5555555555555556,
              "#d8576b"
             ],
             [
              0.6666666666666666,
              "#ed7953"
             ],
             [
              0.7777777777777778,
              "#fb9f3a"
             ],
             [
              0.8888888888888888,
              "#fdca26"
             ],
             [
              1,
              "#f0f921"
             ]
            ],
            "type": "surface"
           }
          ],
          "table": [
           {
            "cells": {
             "fill": {
              "color": "#EBF0F8"
             },
             "line": {
              "color": "white"
             }
            },
            "header": {
             "fill": {
              "color": "#C8D4E3"
             },
             "line": {
              "color": "white"
             }
            },
            "type": "table"
           }
          ]
         },
         "layout": {
          "annotationdefaults": {
           "arrowcolor": "#2a3f5f",
           "arrowhead": 0,
           "arrowwidth": 1
          },
          "coloraxis": {
           "colorbar": {
            "outlinewidth": 0,
            "ticks": ""
           }
          },
          "colorscale": {
           "diverging": [
            [
             0,
             "#8e0152"
            ],
            [
             0.1,
             "#c51b7d"
            ],
            [
             0.2,
             "#de77ae"
            ],
            [
             0.3,
             "#f1b6da"
            ],
            [
             0.4,
             "#fde0ef"
            ],
            [
             0.5,
             "#f7f7f7"
            ],
            [
             0.6,
             "#e6f5d0"
            ],
            [
             0.7,
             "#b8e186"
            ],
            [
             0.8,
             "#7fbc41"
            ],
            [
             0.9,
             "#4d9221"
            ],
            [
             1,
             "#276419"
            ]
           ],
           "sequential": [
            [
             0,
             "#0d0887"
            ],
            [
             0.1111111111111111,
             "#46039f"
            ],
            [
             0.2222222222222222,
             "#7201a8"
            ],
            [
             0.3333333333333333,
             "#9c179e"
            ],
            [
             0.4444444444444444,
             "#bd3786"
            ],
            [
             0.5555555555555556,
             "#d8576b"
            ],
            [
             0.6666666666666666,
             "#ed7953"
            ],
            [
             0.7777777777777778,
             "#fb9f3a"
            ],
            [
             0.8888888888888888,
             "#fdca26"
            ],
            [
             1,
             "#f0f921"
            ]
           ],
           "sequentialminus": [
            [
             0,
             "#0d0887"
            ],
            [
             0.1111111111111111,
             "#46039f"
            ],
            [
             0.2222222222222222,
             "#7201a8"
            ],
            [
             0.3333333333333333,
             "#9c179e"
            ],
            [
             0.4444444444444444,
             "#bd3786"
            ],
            [
             0.5555555555555556,
             "#d8576b"
            ],
            [
             0.6666666666666666,
             "#ed7953"
            ],
            [
             0.7777777777777778,
             "#fb9f3a"
            ],
            [
             0.8888888888888888,
             "#fdca26"
            ],
            [
             1,
             "#f0f921"
            ]
           ]
          },
          "colorway": [
           "#636efa",
           "#EF553B",
           "#00cc96",
           "#ab63fa",
           "#FFA15A",
           "#19d3f3",
           "#FF6692",
           "#B6E880",
           "#FF97FF",
           "#FECB52"
          ],
          "font": {
           "color": "#2a3f5f"
          },
          "geo": {
           "bgcolor": "white",
           "lakecolor": "white",
           "landcolor": "#E5ECF6",
           "showlakes": true,
           "showland": true,
           "subunitcolor": "white"
          },
          "hoverlabel": {
           "align": "left"
          },
          "hovermode": "closest",
          "mapbox": {
           "style": "light"
          },
          "paper_bgcolor": "white",
          "plot_bgcolor": "#E5ECF6",
          "polar": {
           "angularaxis": {
            "gridcolor": "white",
            "linecolor": "white",
            "ticks": ""
           },
           "bgcolor": "#E5ECF6",
           "radialaxis": {
            "gridcolor": "white",
            "linecolor": "white",
            "ticks": ""
           }
          },
          "scene": {
           "xaxis": {
            "backgroundcolor": "#E5ECF6",
            "gridcolor": "white",
            "gridwidth": 2,
            "linecolor": "white",
            "showbackground": true,
            "ticks": "",
            "zerolinecolor": "white"
           },
           "yaxis": {
            "backgroundcolor": "#E5ECF6",
            "gridcolor": "white",
            "gridwidth": 2,
            "linecolor": "white",
            "showbackground": true,
            "ticks": "",
            "zerolinecolor": "white"
           },
           "zaxis": {
            "backgroundcolor": "#E5ECF6",
            "gridcolor": "white",
            "gridwidth": 2,
            "linecolor": "white",
            "showbackground": true,
            "ticks": "",
            "zerolinecolor": "white"
           }
          },
          "shapedefaults": {
           "line": {
            "color": "#2a3f5f"
           }
          },
          "ternary": {
           "aaxis": {
            "gridcolor": "white",
            "linecolor": "white",
            "ticks": ""
           },
           "baxis": {
            "gridcolor": "white",
            "linecolor": "white",
            "ticks": ""
           },
           "bgcolor": "#E5ECF6",
           "caxis": {
            "gridcolor": "white",
            "linecolor": "white",
            "ticks": ""
           }
          },
          "title": {
           "x": 0.05
          },
          "xaxis": {
           "automargin": true,
           "gridcolor": "white",
           "linecolor": "white",
           "ticks": "",
           "title": {
            "standoff": 15
           },
           "zerolinecolor": "white",
           "zerolinewidth": 2
          },
          "yaxis": {
           "automargin": true,
           "gridcolor": "white",
           "linecolor": "white",
           "ticks": "",
           "title": {
            "standoff": 15
           },
           "zerolinecolor": "white",
           "zerolinewidth": 2
          }
         }
        },
        "title": {
         "text": "% of Population BPL for Top 20 poorest states: Breakdown by Race"
        }
       }
      },
      "text/html": [
       "<div>\n",
       "        \n",
       "        \n",
       "            <div id=\"14fbd98a-ff5b-497d-9e8c-8e9a14d3a267\" class=\"plotly-graph-div\" style=\"height:525px; width:100%;\"></div>\n",
       "            <script type=\"text/javascript\">\n",
       "                require([\"plotly\"], function(Plotly) {\n",
       "                    window.PLOTLYENV=window.PLOTLYENV || {};\n",
       "                    \n",
       "                if (document.getElementById(\"14fbd98a-ff5b-497d-9e8c-8e9a14d3a267\")) {\n",
       "                    Plotly.newPlot(\n",
       "                        '14fbd98a-ff5b-497d-9e8c-8e9a14d3a267',\n",
       "                        [{\"name\": \"White\", \"type\": \"bar\", \"x\": [\"Puerto Rico\", \"Mississippi\", \"New Mexico\", \"Louisiana\", \"West Virginia\", \"Arkansas\", \"Kentucky\", \"Alabama\", \"District of Columbia\", \"Oklahoma\", \"South Carolina\", \"Tennessee\", \"Texas\", \"Georgia\", \"Michigan\", \"Arizona\", \"North Carolina\", \"Ohio\", \"New York\", \"Florida\"], \"y\": [40.9, 12.3, 17.2, 12.7, 17.1, 13.9, 15.6, 11.8, 7.1, 13.2, 10.7, 12.5, 13.8, 10.9, 11.4, 12.2, 11.1, 11.1, 10.3, 11.7]}, {\"name\": \"Black or AA\", \"type\": \"bar\", \"x\": [\"Puerto Rico\", \"Mississippi\", \"New Mexico\", \"Louisiana\", \"West Virginia\", \"Arkansas\", \"Kentucky\", \"Alabama\", \"District of Columbia\", \"Oklahoma\", \"South Carolina\", \"Tennessee\", \"Texas\", \"Georgia\", \"Michigan\", \"Arizona\", \"North Carolina\", \"Ohio\", \"New York\", \"Florida\"], \"y\": [44.7, 30.7, 26.7, 30.0, 28.6, 30.4, 28.1, 27.7, 25.3, 27.6, 25.4, 26.4, 19.6, 20.0, 27.4, 19.5, 21.1, 28.7, 20.0, 21.2]}, {\"name\": \"AI or Alaska Native\", \"type\": \"bar\", \"x\": [\"Puerto Rico\", \"Mississippi\", \"New Mexico\", \"Louisiana\", \"West Virginia\", \"Arkansas\", \"Kentucky\", \"Alabama\", \"District of Columbia\", \"Oklahoma\", \"South Carolina\", \"Tennessee\", \"Texas\", \"Georgia\", \"Michigan\", \"Arizona\", \"North Carolina\", \"Ohio\", \"New York\", \"Florida\"], \"y\": [null, 44.3, 33.6, 18.6, null, 23.3, 24.9, 19.0, null, 19.5, 25.8, 21.2, 15.6, 22.9, 19.9, 33.3, 20.1, 25.3, 19.4, 17.0]}, {\"name\": \"Asian\", \"type\": \"bar\", \"x\": [\"Puerto Rico\", \"Mississippi\", \"New Mexico\", \"Louisiana\", \"West Virginia\", \"Arkansas\", \"Kentucky\", \"Alabama\", \"District of Columbia\", \"Oklahoma\", \"South Carolina\", \"Tennessee\", \"Texas\", \"Georgia\", \"Michigan\", \"Arizona\", \"North Carolina\", \"Ohio\", \"New York\", \"Florida\"], \"y\": [null, 17.8, 12.1, 12.7, 20.7, 15.2, 12.7, 10.1, 8.7, 14.0, 10.6, 11.7, 10.8, 9.7, 13.1, 12.2, 12.8, 11.8, 14.4, 12.5]}, {\"name\": \"Native Hawaiian or OPI\", \"type\": \"bar\", \"x\": [\"Puerto Rico\", \"Mississippi\", \"New Mexico\", \"Louisiana\", \"West Virginia\", \"Arkansas\", \"Kentucky\", \"Alabama\", \"District of Columbia\", \"Oklahoma\", \"South Carolina\", \"Tennessee\", \"Texas\", \"Georgia\", \"Michigan\", \"Arizona\", \"North Carolina\", \"Ohio\", \"New York\", \"Florida\"], \"y\": [null, null, null, null, null, 30.4, null, null, null, 19.6, null, 35.7, 14.2, null, null, 8.6, 27.3, null, 27.2, 18.6]}, {\"name\": \"Other race\", \"type\": \"bar\", \"x\": [\"Puerto Rico\", \"Mississippi\", \"New Mexico\", \"Louisiana\", \"West Virginia\", \"Arkansas\", \"Kentucky\", \"Alabama\", \"District of Columbia\", \"Oklahoma\", \"South Carolina\", \"Tennessee\", \"Texas\", \"Georgia\", \"Michigan\", \"Arizona\", \"North Carolina\", \"Ohio\", \"New York\", \"Florida\"], \"y\": [50.6, 19.4, 24.3, 20.6, 21.2, 25.1, 31.9, 38.6, 17.2, 26.0, 30.1, 25.7, 22.2, 23.5, 19.1, 19.2, 24.5, 26.0, 23.8, 20.3]}, {\"name\": \"Two or more races\", \"type\": \"bar\", \"x\": [\"Puerto Rico\", \"Mississippi\", \"New Mexico\", \"Louisiana\", \"West Virginia\", \"Arkansas\", \"Kentucky\", \"Alabama\", \"District of Columbia\", \"Oklahoma\", \"South Carolina\", \"Tennessee\", \"Texas\", \"Georgia\", \"Michigan\", \"Arizona\", \"North Carolina\", \"Ohio\", \"New York\", \"Florida\"], \"y\": [41.5, 21.5, 18.8, 23.4, 30.9, 27.3, 21.2, 25.5, 11.2, 19.7, 20.7, 22.9, 13.7, 18.6, 21.6, 16.3, 19.5, 24.6, 17.7, 14.2]}, {\"name\": \"Hispanic or Latino\", \"type\": \"bar\", \"x\": [\"Puerto Rico\", \"Mississippi\", \"New Mexico\", \"Louisiana\", \"West Virginia\", \"Arkansas\", \"Kentucky\", \"Alabama\", \"District of Columbia\", \"Oklahoma\", \"South Carolina\", \"Tennessee\", \"Texas\", \"Georgia\", \"Michigan\", \"Arizona\", \"North Carolina\", \"Ohio\", \"New York\", \"Florida\"], \"y\": [43.2, 24.2, 23.1, 22.1, 17.7, 23.8, 24.8, 31.4, 13.0, 23.0, 27.0, 24.3, 20.9, 21.3, 19.8, 19.6, 24.8, 23.8, 21.3, 17.0]}, {\"name\": \"White not Hispanic or Latino\", \"type\": \"bar\", \"x\": [\"Puerto Rico\", \"Mississippi\", \"New Mexico\", \"Louisiana\", \"West Virginia\", \"Arkansas\", \"Kentucky\", \"Alabama\", \"District of Columbia\", \"Oklahoma\", \"South Carolina\", \"Tennessee\", \"Texas\", \"Georgia\", \"Michigan\", \"Arizona\", \"North Carolina\", \"Ohio\", \"New York\", \"Florida\"], \"y\": [38.7, 11.9, 11.7, 12.2, 17.1, 13.5, 15.4, 11.3, 6.4, 12.3, 10.0, 12.0, 8.5, 9.9, 11.0, 9.0, 9.8, 10.8, 9.1, 9.8]}],\n",
       "                        {\"barmode\": \"stack\", \"template\": {\"data\": {\"bar\": [{\"error_x\": {\"color\": \"#2a3f5f\"}, \"error_y\": {\"color\": \"#2a3f5f\"}, \"marker\": {\"line\": {\"color\": \"#E5ECF6\", \"width\": 0.5}}, \"type\": \"bar\"}], \"barpolar\": [{\"marker\": {\"line\": {\"color\": \"#E5ECF6\", \"width\": 0.5}}, \"type\": \"barpolar\"}], \"carpet\": [{\"aaxis\": {\"endlinecolor\": \"#2a3f5f\", \"gridcolor\": \"white\", \"linecolor\": \"white\", \"minorgridcolor\": \"white\", \"startlinecolor\": \"#2a3f5f\"}, \"baxis\": {\"endlinecolor\": \"#2a3f5f\", \"gridcolor\": \"white\", \"linecolor\": \"white\", \"minorgridcolor\": \"white\", \"startlinecolor\": \"#2a3f5f\"}, \"type\": \"carpet\"}], \"choropleth\": [{\"colorbar\": {\"outlinewidth\": 0, \"ticks\": \"\"}, \"type\": \"choropleth\"}], \"contour\": [{\"colorbar\": {\"outlinewidth\": 0, \"ticks\": \"\"}, \"colorscale\": [[0.0, \"#0d0887\"], [0.1111111111111111, \"#46039f\"], [0.2222222222222222, \"#7201a8\"], [0.3333333333333333, \"#9c179e\"], [0.4444444444444444, \"#bd3786\"], [0.5555555555555556, \"#d8576b\"], [0.6666666666666666, \"#ed7953\"], [0.7777777777777778, \"#fb9f3a\"], [0.8888888888888888, \"#fdca26\"], [1.0, \"#f0f921\"]], \"type\": \"contour\"}], \"contourcarpet\": [{\"colorbar\": {\"outlinewidth\": 0, \"ticks\": \"\"}, \"type\": \"contourcarpet\"}], \"heatmap\": [{\"colorbar\": {\"outlinewidth\": 0, \"ticks\": \"\"}, \"colorscale\": [[0.0, \"#0d0887\"], [0.1111111111111111, \"#46039f\"], [0.2222222222222222, \"#7201a8\"], [0.3333333333333333, \"#9c179e\"], [0.4444444444444444, \"#bd3786\"], [0.5555555555555556, \"#d8576b\"], [0.6666666666666666, \"#ed7953\"], [0.7777777777777778, \"#fb9f3a\"], [0.8888888888888888, \"#fdca26\"], [1.0, \"#f0f921\"]], \"type\": \"heatmap\"}], \"heatmapgl\": [{\"colorbar\": {\"outlinewidth\": 0, \"ticks\": \"\"}, \"colorscale\": [[0.0, \"#0d0887\"], [0.1111111111111111, \"#46039f\"], [0.2222222222222222, \"#7201a8\"], [0.3333333333333333, \"#9c179e\"], [0.4444444444444444, \"#bd3786\"], [0.5555555555555556, \"#d8576b\"], [0.6666666666666666, \"#ed7953\"], [0.7777777777777778, \"#fb9f3a\"], [0.8888888888888888, \"#fdca26\"], [1.0, \"#f0f921\"]], \"type\": \"heatmapgl\"}], \"histogram\": [{\"marker\": {\"colorbar\": {\"outlinewidth\": 0, \"ticks\": \"\"}}, \"type\": \"histogram\"}], \"histogram2d\": [{\"colorbar\": {\"outlinewidth\": 0, \"ticks\": \"\"}, \"colorscale\": [[0.0, \"#0d0887\"], [0.1111111111111111, \"#46039f\"], [0.2222222222222222, \"#7201a8\"], [0.3333333333333333, \"#9c179e\"], [0.4444444444444444, \"#bd3786\"], [0.5555555555555556, \"#d8576b\"], [0.6666666666666666, \"#ed7953\"], [0.7777777777777778, \"#fb9f3a\"], [0.8888888888888888, \"#fdca26\"], [1.0, \"#f0f921\"]], \"type\": \"histogram2d\"}], \"histogram2dcontour\": [{\"colorbar\": {\"outlinewidth\": 0, \"ticks\": \"\"}, \"colorscale\": [[0.0, \"#0d0887\"], [0.1111111111111111, \"#46039f\"], [0.2222222222222222, \"#7201a8\"], [0.3333333333333333, \"#9c179e\"], [0.4444444444444444, \"#bd3786\"], [0.5555555555555556, \"#d8576b\"], [0.6666666666666666, \"#ed7953\"], [0.7777777777777778, \"#fb9f3a\"], [0.8888888888888888, \"#fdca26\"], [1.0, \"#f0f921\"]], \"type\": \"histogram2dcontour\"}], \"mesh3d\": [{\"colorbar\": {\"outlinewidth\": 0, \"ticks\": \"\"}, \"type\": \"mesh3d\"}], \"parcoords\": [{\"line\": {\"colorbar\": {\"outlinewidth\": 0, \"ticks\": \"\"}}, \"type\": \"parcoords\"}], \"pie\": [{\"automargin\": true, \"type\": \"pie\"}], \"scatter\": [{\"marker\": {\"colorbar\": {\"outlinewidth\": 0, \"ticks\": \"\"}}, \"type\": \"scatter\"}], \"scatter3d\": [{\"line\": {\"colorbar\": {\"outlinewidth\": 0, \"ticks\": \"\"}}, \"marker\": {\"colorbar\": {\"outlinewidth\": 0, \"ticks\": \"\"}}, \"type\": \"scatter3d\"}], \"scattercarpet\": [{\"marker\": {\"colorbar\": {\"outlinewidth\": 0, \"ticks\": \"\"}}, \"type\": \"scattercarpet\"}], \"scattergeo\": [{\"marker\": {\"colorbar\": {\"outlinewidth\": 0, \"ticks\": \"\"}}, \"type\": \"scattergeo\"}], \"scattergl\": [{\"marker\": {\"colorbar\": {\"outlinewidth\": 0, \"ticks\": \"\"}}, \"type\": \"scattergl\"}], \"scattermapbox\": [{\"marker\": {\"colorbar\": {\"outlinewidth\": 0, \"ticks\": \"\"}}, \"type\": \"scattermapbox\"}], \"scatterpolar\": [{\"marker\": {\"colorbar\": {\"outlinewidth\": 0, \"ticks\": \"\"}}, \"type\": \"scatterpolar\"}], \"scatterpolargl\": [{\"marker\": {\"colorbar\": {\"outlinewidth\": 0, \"ticks\": \"\"}}, \"type\": \"scatterpolargl\"}], \"scatterternary\": [{\"marker\": {\"colorbar\": {\"outlinewidth\": 0, \"ticks\": \"\"}}, \"type\": \"scatterternary\"}], \"surface\": [{\"colorbar\": {\"outlinewidth\": 0, \"ticks\": \"\"}, \"colorscale\": [[0.0, \"#0d0887\"], [0.1111111111111111, \"#46039f\"], [0.2222222222222222, \"#7201a8\"], [0.3333333333333333, \"#9c179e\"], [0.4444444444444444, \"#bd3786\"], [0.5555555555555556, \"#d8576b\"], [0.6666666666666666, \"#ed7953\"], [0.7777777777777778, \"#fb9f3a\"], [0.8888888888888888, \"#fdca26\"], [1.0, \"#f0f921\"]], \"type\": \"surface\"}], \"table\": [{\"cells\": {\"fill\": {\"color\": \"#EBF0F8\"}, \"line\": {\"color\": \"white\"}}, \"header\": {\"fill\": {\"color\": \"#C8D4E3\"}, \"line\": {\"color\": \"white\"}}, \"type\": \"table\"}]}, \"layout\": {\"annotationdefaults\": {\"arrowcolor\": \"#2a3f5f\", \"arrowhead\": 0, \"arrowwidth\": 1}, \"coloraxis\": {\"colorbar\": {\"outlinewidth\": 0, \"ticks\": \"\"}}, \"colorscale\": {\"diverging\": [[0, \"#8e0152\"], [0.1, \"#c51b7d\"], [0.2, \"#de77ae\"], [0.3, \"#f1b6da\"], [0.4, \"#fde0ef\"], [0.5, \"#f7f7f7\"], [0.6, \"#e6f5d0\"], [0.7, \"#b8e186\"], [0.8, \"#7fbc41\"], [0.9, \"#4d9221\"], [1, \"#276419\"]], \"sequential\": [[0.0, \"#0d0887\"], [0.1111111111111111, \"#46039f\"], [0.2222222222222222, \"#7201a8\"], [0.3333333333333333, \"#9c179e\"], [0.4444444444444444, \"#bd3786\"], [0.5555555555555556, \"#d8576b\"], [0.6666666666666666, \"#ed7953\"], [0.7777777777777778, \"#fb9f3a\"], [0.8888888888888888, \"#fdca26\"], [1.0, \"#f0f921\"]], \"sequentialminus\": [[0.0, \"#0d0887\"], [0.1111111111111111, \"#46039f\"], [0.2222222222222222, \"#7201a8\"], [0.3333333333333333, \"#9c179e\"], [0.4444444444444444, \"#bd3786\"], [0.5555555555555556, \"#d8576b\"], [0.6666666666666666, \"#ed7953\"], [0.7777777777777778, \"#fb9f3a\"], [0.8888888888888888, \"#fdca26\"], [1.0, \"#f0f921\"]]}, \"colorway\": [\"#636efa\", \"#EF553B\", \"#00cc96\", \"#ab63fa\", \"#FFA15A\", \"#19d3f3\", \"#FF6692\", \"#B6E880\", \"#FF97FF\", \"#FECB52\"], \"font\": {\"color\": \"#2a3f5f\"}, \"geo\": {\"bgcolor\": \"white\", \"lakecolor\": \"white\", \"landcolor\": \"#E5ECF6\", \"showlakes\": true, \"showland\": true, \"subunitcolor\": \"white\"}, \"hoverlabel\": {\"align\": \"left\"}, \"hovermode\": \"closest\", \"mapbox\": {\"style\": \"light\"}, \"paper_bgcolor\": \"white\", \"plot_bgcolor\": \"#E5ECF6\", \"polar\": {\"angularaxis\": {\"gridcolor\": \"white\", \"linecolor\": \"white\", \"ticks\": \"\"}, \"bgcolor\": \"#E5ECF6\", \"radialaxis\": {\"gridcolor\": \"white\", \"linecolor\": \"white\", \"ticks\": \"\"}}, \"scene\": {\"xaxis\": {\"backgroundcolor\": \"#E5ECF6\", \"gridcolor\": \"white\", \"gridwidth\": 2, \"linecolor\": \"white\", \"showbackground\": true, \"ticks\": \"\", \"zerolinecolor\": \"white\"}, \"yaxis\": {\"backgroundcolor\": \"#E5ECF6\", \"gridcolor\": \"white\", \"gridwidth\": 2, \"linecolor\": \"white\", \"showbackground\": true, \"ticks\": \"\", \"zerolinecolor\": \"white\"}, \"zaxis\": {\"backgroundcolor\": \"#E5ECF6\", \"gridcolor\": \"white\", \"gridwidth\": 2, \"linecolor\": \"white\", \"showbackground\": true, \"ticks\": \"\", \"zerolinecolor\": \"white\"}}, \"shapedefaults\": {\"line\": {\"color\": \"#2a3f5f\"}}, \"ternary\": {\"aaxis\": {\"gridcolor\": \"white\", \"linecolor\": \"white\", \"ticks\": \"\"}, \"baxis\": {\"gridcolor\": \"white\", \"linecolor\": \"white\", \"ticks\": \"\"}, \"bgcolor\": \"#E5ECF6\", \"caxis\": {\"gridcolor\": \"white\", \"linecolor\": \"white\", \"ticks\": \"\"}}, \"title\": {\"x\": 0.05}, \"xaxis\": {\"automargin\": true, \"gridcolor\": \"white\", \"linecolor\": \"white\", \"ticks\": \"\", \"title\": {\"standoff\": 15}, \"zerolinecolor\": \"white\", \"zerolinewidth\": 2}, \"yaxis\": {\"automargin\": true, \"gridcolor\": \"white\", \"linecolor\": \"white\", \"ticks\": \"\", \"title\": {\"standoff\": 15}, \"zerolinecolor\": \"white\", \"zerolinewidth\": 2}}}, \"title\": {\"text\": \"% of Population BPL for Top 20 poorest states: Breakdown by Race\"}},\n",
       "                        {\"responsive\": true}\n",
       "                    ).then(function(){\n",
       "                            \n",
       "var gd = document.getElementById('14fbd98a-ff5b-497d-9e8c-8e9a14d3a267');\n",
       "var x = new MutationObserver(function (mutations, observer) {{\n",
       "        var display = window.getComputedStyle(gd).display;\n",
       "        if (!display || display === 'none') {{\n",
       "            console.log([gd, 'removed!']);\n",
       "            Plotly.purge(gd);\n",
       "            observer.disconnect();\n",
       "        }}\n",
       "}});\n",
       "\n",
       "// Listen for the removal of the full notebook cells\n",
       "var notebookContainer = gd.closest('#notebook-container');\n",
       "if (notebookContainer) {{\n",
       "    x.observe(notebookContainer, {childList: true});\n",
       "}}\n",
       "\n",
       "// Listen for the clearing of the current output cell\n",
       "var outputEl = gd.closest('.output');\n",
       "if (outputEl) {{\n",
       "    x.observe(outputEl, {childList: true});\n",
       "}}\n",
       "\n",
       "                        })\n",
       "                };\n",
       "                });\n",
       "            </script>\n",
       "        </div>"
      ]
     },
     "metadata": {},
     "output_type": "display_data"
    }
   ],
   "source": [
    "race = poverty_by_race_BPL_per.columns[3:]\n",
    "\n",
    "data = []\n",
    "for i in range(3,12):\n",
    "     data.append(go.Bar(name = poverty_by_race_BPL_per.columns[i], x = poverty_by_race_BPL_per['State'] ,y = np.array(poverty_by_race_BPL_per.iloc[:,i])))\n",
    "                   \n",
    "fig = go.Figure(data=data)   \n",
    "fig.update_layout(barmode='stack')\n",
    "fig.update_layout(title = '% of Population BPL for Top 20 poorest states: Breakdown by Race')\n",
    "fig.show()\n",
    "                   \n",
    "                   \n",
    "    "
   ]
  },
  {
   "cell_type": "code",
   "execution_count": null,
   "metadata": {},
   "outputs": [],
   "source": []
  }
 ],
 "metadata": {
  "kernelspec": {
   "display_name": "Python 3",
   "language": "python",
   "name": "python3"
  },
  "language_info": {
   "codemirror_mode": {
    "name": "ipython",
    "version": 3
   },
   "file_extension": ".py",
   "mimetype": "text/x-python",
   "name": "python",
   "nbconvert_exporter": "python",
   "pygments_lexer": "ipython3",
   "version": "3.6.10"
  }
 },
 "nbformat": 4,
 "nbformat_minor": 4
}
