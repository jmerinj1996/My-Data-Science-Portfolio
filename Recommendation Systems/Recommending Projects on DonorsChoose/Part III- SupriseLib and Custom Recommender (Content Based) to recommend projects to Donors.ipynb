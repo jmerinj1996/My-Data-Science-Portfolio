{
 "cells": [
  {
   "attachments": {
   },
   "cell_type": "markdown",
   "metadata": {},
   "source": [
    "# Part III- SupriseLib and Custom Recommender (Content Based) to recommend projects to Donors\n",
    "![wordpress-best-donation-plugins](https://user-images.githubusercontent.com/40051540/89829245-dc9d8000-db1f-11ea-8bee-0c2a76792336.jpg)\n",
    "<p>Recommend projects that have similar categories and sub categories to the project the donor had previously donated to!</p>\n",
    "<p>We measure similarity using <b> Cosine Similarity</b></p>\n",
    "<li>Cosine (0) – 1 similar\n",
    "<li>Cosine (90) – 0 not similar\n",
    "<li>Cosine (45) – 0.7\n",
    "<p> We use multi-dimensional cosine similarity to scale it to many dimensions (categories)</p>\n",
    "    <p> <b> k-nearest-neighbors:</b>\n",
    "<li>\tCompute the similarity score between the project you want to predict and all the project the donor donated to\n",
    "<li>\tSelect k projects with the highest similarity to the project we are making the prediction for.\n",
    "<li>\tTake weighted average of the similarity scores\n",
    "</p>\n",
    " "
   ]
  },
  {
   "cell_type": "code",
   "execution_count": 1,
   "metadata": {},
   "outputs": [],
   "source": [
    "import pandas as pd\n",
    "import numpy as np\n",
    "from collections import defaultdict\n",
    "import re\n",
    "import math\n",
    "import heapq\n",
    "from tqdm import tqdm\n",
    "\n",
    "from surprise import Dataset\n",
    "from surprise import Reader\n",
    "from surprise.model_selection import LeaveOneOut\n",
    "from surprise.model_selection import train_test_split\n",
    "from surprise import KNNBaseline\n",
    "from RecommenderMetricsDonorChoose import RecommenderMetrics\n",
    "\n",
    "# If the prediction is impossible\n",
    "from surprise import PredictionImpossible\n",
    "\n",
    "from surprise import AlgoBase"
   ]
  },
  {
   "cell_type": "markdown",
   "metadata": {},
   "source": [
    "<div class=\"alert alert-block alert-warning\">  \n",
    "    <p>We are using <b>Suprise</b> - a Python scikit library for recommender system.<p> We build a custom prediction model- Content based, using Suprise.</p>\n",
    "    <p>The following <b>2 </b>cells are for reference of the dataset we are using!</p>\n",
    "</div>"
   ]
  },
  {
   "cell_type": "code",
   "execution_count": 2,
   "metadata": {},
   "outputs": [
    {
     "name": "stdout",
     "output_type": "stream",
     "text": [
      "(17431, 5)\n"
     ]
    },
    {
     "data": {
      "text/html": [
       "<div>\n",
       "<style scoped>\n",
       "    .dataframe tbody tr th:only-of-type {\n",
       "        vertical-align: middle;\n",
       "    }\n",
       "\n",
       "    .dataframe tbody tr th {\n",
       "        vertical-align: top;\n",
       "    }\n",
       "\n",
       "    .dataframe thead th {\n",
       "        text-align: right;\n",
       "    }\n",
       "</style>\n",
       "<table border=\"1\" class=\"dataframe\">\n",
       "  <thead>\n",
       "    <tr style=\"text-align: right;\">\n",
       "      <th></th>\n",
       "      <th>Project ID</th>\n",
       "      <th>Project Title</th>\n",
       "      <th>Project Subject Category Tree</th>\n",
       "      <th>Project Subject Subcategory Tree</th>\n",
       "      <th>Project Current Status</th>\n",
       "    </tr>\n",
       "  </thead>\n",
       "  <tbody>\n",
       "    <tr>\n",
       "      <th>0</th>\n",
       "      <td>c04935c54c6923eb5a3ad4a4eb0b0f92</td>\n",
       "      <td>Helping the Band Purr: Journey for a Bass Clar...</td>\n",
       "      <td>Music &amp; The Arts</td>\n",
       "      <td>Music</td>\n",
       "      <td>Expired</td>\n",
       "    </tr>\n",
       "    <tr>\n",
       "      <th>1</th>\n",
       "      <td>c493dd3d1d62f9d4ac818c00a4e5cbcc</td>\n",
       "      <td>Grab Those Greek Myths Round 2!</td>\n",
       "      <td>Literacy &amp; Language</td>\n",
       "      <td>Literature &amp; Writing</td>\n",
       "      <td>Fully Funded</td>\n",
       "    </tr>\n",
       "    <tr>\n",
       "      <th>2</th>\n",
       "      <td>7ea57b6fb70d189edb64132d5ec6f86e</td>\n",
       "      <td>Getting Graphic: Bridging The Language Gap Wit...</td>\n",
       "      <td>Literacy &amp; Language</td>\n",
       "      <td>ESL, Literacy</td>\n",
       "      <td>Fully Funded</td>\n",
       "    </tr>\n",
       "    <tr>\n",
       "      <th>3</th>\n",
       "      <td>c5e81eacaea132404ec851372f543ee8</td>\n",
       "      <td>Teach Me How To Wobble</td>\n",
       "      <td>Applied Learning</td>\n",
       "      <td>Other</td>\n",
       "      <td>Fully Funded</td>\n",
       "    </tr>\n",
       "    <tr>\n",
       "      <th>4</th>\n",
       "      <td>55f9a00e3c33cb133d90193e26412705</td>\n",
       "      <td>STEM Schools First CIF Boy's Volleyball Team N...</td>\n",
       "      <td>Health &amp; Sports</td>\n",
       "      <td>Health &amp; Wellness, Team Sports</td>\n",
       "      <td>Fully Funded</td>\n",
       "    </tr>\n",
       "  </tbody>\n",
       "</table>\n",
       "</div>"
      ],
      "text/plain": [
       "                         Project ID  \\\n",
       "0  c04935c54c6923eb5a3ad4a4eb0b0f92   \n",
       "1  c493dd3d1d62f9d4ac818c00a4e5cbcc   \n",
       "2  7ea57b6fb70d189edb64132d5ec6f86e   \n",
       "3  c5e81eacaea132404ec851372f543ee8   \n",
       "4  55f9a00e3c33cb133d90193e26412705   \n",
       "\n",
       "                                       Project Title  \\\n",
       "0  Helping the Band Purr: Journey for a Bass Clar...   \n",
       "1                    Grab Those Greek Myths Round 2!   \n",
       "2  Getting Graphic: Bridging The Language Gap Wit...   \n",
       "3                             Teach Me How To Wobble   \n",
       "4  STEM Schools First CIF Boy's Volleyball Team N...   \n",
       "\n",
       "  Project Subject Category Tree Project Subject Subcategory Tree  \\\n",
       "0              Music & The Arts                            Music   \n",
       "1           Literacy & Language             Literature & Writing   \n",
       "2           Literacy & Language                    ESL, Literacy   \n",
       "3              Applied Learning                            Other   \n",
       "4               Health & Sports   Health & Wellness, Team Sports   \n",
       "\n",
       "  Project Current Status  \n",
       "0                Expired  \n",
       "1           Fully Funded  \n",
       "2           Fully Funded  \n",
       "3           Fully Funded  \n",
       "4           Fully Funded  "
      ]
     },
     "execution_count": 2,
     "metadata": {},
     "output_type": "execute_result"
    }
   ],
   "source": [
    "# For reference\n",
    "projects_path = 'Projects_Oakland.csv'\n",
    "projects_DF = pd.read_csv(projects_path) \n",
    "print(projects_DF.shape)\n",
    "projects_DF.head()"
   ]
  },
  {
   "cell_type": "code",
   "execution_count": 3,
   "metadata": {},
   "outputs": [
    {
     "data": {
      "text/html": [
       "<div>\n",
       "<style scoped>\n",
       "    .dataframe tbody tr th:only-of-type {\n",
       "        vertical-align: middle;\n",
       "    }\n",
       "\n",
       "    .dataframe tbody tr th {\n",
       "        vertical-align: top;\n",
       "    }\n",
       "\n",
       "    .dataframe thead th {\n",
       "        text-align: right;\n",
       "    }\n",
       "</style>\n",
       "<table border=\"1\" class=\"dataframe\">\n",
       "  <thead>\n",
       "    <tr style=\"text-align: right;\">\n",
       "      <th></th>\n",
       "      <th>Donor ID</th>\n",
       "      <th>Project ID</th>\n",
       "      <th>Event Strength</th>\n",
       "    </tr>\n",
       "  </thead>\n",
       "  <tbody>\n",
       "    <tr>\n",
       "      <th>0</th>\n",
       "      <td>0005e94def8dbd5e0ca7a01437536f9a</td>\n",
       "      <td>c04935c54c6923eb5a3ad4a4eb0b0f92</td>\n",
       "      <td>1</td>\n",
       "    </tr>\n",
       "    <tr>\n",
       "      <th>1</th>\n",
       "      <td>0008b9b73b5eaeb5f96cbd673eca324b</td>\n",
       "      <td>c493dd3d1d62f9d4ac818c00a4e5cbcc</td>\n",
       "      <td>1</td>\n",
       "    </tr>\n",
       "    <tr>\n",
       "      <th>2</th>\n",
       "      <td>0018044947d8f129fd6df4b9e1648bae</td>\n",
       "      <td>7ea57b6fb70d189edb64132d5ec6f86e</td>\n",
       "      <td>1</td>\n",
       "    </tr>\n",
       "    <tr>\n",
       "      <th>3</th>\n",
       "      <td>0018044947d8f129fd6df4b9e1648bae</td>\n",
       "      <td>c5e81eacaea132404ec851372f543ee8</td>\n",
       "      <td>1</td>\n",
       "    </tr>\n",
       "    <tr>\n",
       "      <th>4</th>\n",
       "      <td>001866acfc2ca9ef789a17190082517a</td>\n",
       "      <td>55f9a00e3c33cb133d90193e26412705</td>\n",
       "      <td>1</td>\n",
       "    </tr>\n",
       "  </tbody>\n",
       "</table>\n",
       "</div>"
      ],
      "text/plain": [
       "                           Donor ID                        Project ID  \\\n",
       "0  0005e94def8dbd5e0ca7a01437536f9a  c04935c54c6923eb5a3ad4a4eb0b0f92   \n",
       "1  0008b9b73b5eaeb5f96cbd673eca324b  c493dd3d1d62f9d4ac818c00a4e5cbcc   \n",
       "2  0018044947d8f129fd6df4b9e1648bae  7ea57b6fb70d189edb64132d5ec6f86e   \n",
       "3  0018044947d8f129fd6df4b9e1648bae  c5e81eacaea132404ec851372f543ee8   \n",
       "4  001866acfc2ca9ef789a17190082517a  55f9a00e3c33cb133d90193e26412705   \n",
       "\n",
       "   Event Strength  \n",
       "0               1  \n",
       "1               1  \n",
       "2               1  \n",
       "3               1  \n",
       "4               1  "
      ]
     },
     "execution_count": 3,
     "metadata": {},
     "output_type": "execute_result"
    }
   ],
   "source": [
    "# For reference\n",
    "donations_path = 'Donations_Oakland.csv'\n",
    "donations_DF = pd.read_csv(donations_path)\n",
    "donations_DF.head()"
   ]
  },
  {
   "cell_type": "markdown",
   "metadata": {},
   "source": [
    "<div class=\"alert alert-block alert-warning\">  \n",
    "<li> In this particular dataset, we cannot determine whether the donor liked or disliked the project. We make the assumption that if a donor has donated to a particular project, he likes it.\n",
    "<li>The Donors Choose dataset does not have explicit rating column. We determine the event strength using a different criteria (see notebook that does the data processing). The event strength calculated ranges from 0 to 100. But we need not worry about rating in Content Based.\n",
    "</div>"
   ]
  },
  {
   "cell_type": "code",
   "execution_count": 4,
   "metadata": {},
   "outputs": [],
   "source": [
    "def load_dataset():\n",
    "    # Define file path\n",
    "    projects_path = 'Projects_Oakland.csv'\n",
    "    donations_path = 'Donations_Oakland.csv'\n",
    "    \n",
    "    # Read file into Dataframe\n",
    "    projects_DF = pd.read_csv(projects_path)    \n",
    "    donations_DF = pd.read_csv(donations_path)\n",
    "    \n",
    "    donations_DF['Project ID'] = donations_DF['Project ID'].astype(str)\n",
    "    donations_DF['Donor ID'] = donations_DF['Donor ID'].astype(str)\n",
    "    # Reader class is used to parse a file containing ratings\n",
    "    # The structure is as follows\n",
    "    # user ; item ; rating ; [timestamp]\n",
    "    # Dataset.load_from_file - loads a custom file\n",
    "    reader = Reader(rating_scale=(1, 100))\n",
    "    donations_dataset = Dataset.load_from_df( donations_DF[['Donor ID','Project ID','Event Strength']], reader=reader)\n",
    "    \n",
    "    return donations_dataset"
   ]
  },
  {
   "cell_type": "markdown",
   "metadata": {},
   "source": [
    "<div class=\"alert alert-block alert-warning\">  \n",
    "    <li> <b>Popularity rank</b> - Projects that have the most donations\n",
    "    <li> We need it to measure <b>Novelty</b>\n",
    "</div>"
   ]
  },
  {
   "cell_type": "code",
   "execution_count": 5,
   "metadata": {},
   "outputs": [],
   "source": [
    "def get_popularity_rank():\n",
    "    popular_DF = pd.DataFrame(donations_DF['Project ID'].value_counts())\n",
    "    popular_DF.columns = ['count']\n",
    "    popular_DF.sort_values('count',ascending = False)\n",
    "    rank = [x for x in range(len(popular_DF))]\n",
    "    popular_DF['rank'] = rank\n",
    "    popular_DF.drop('count',axis = 1,inplace = True)\n",
    "    return popular_DF.to_dict('dict')['rank']\n",
    "#get_popularity_rank()"
   ]
  },
  {
   "cell_type": "markdown",
   "metadata": {},
   "source": [
    "<div class=\"alert alert-block alert-warning\">  \n",
    "    <li> <b>Anti Test Set</b> - Excludes donor, project pairs that have already been donated to by user\n",
    "    <li> Needed for testing when the algorithm is trained on the full dataset\n",
    "</div>"
   ]
  },
  {
   "cell_type": "code",
   "execution_count": 6,
   "metadata": {},
   "outputs": [],
   "source": [
    "def anti_test_set(test_subject,train_set):\n",
    "    anti_test_set = []\n",
    "    avg_rating = train_set.global_mean\n",
    "    u = train_set.to_inner_uid(str(test_subject))\n",
    "    #print(u)\n",
    "    \n",
    "    # j is item inner id\n",
    "    # user_items is a list of inner item ids that test subject u rated\n",
    "    user_items = set([j for (j, _) in train_set.ur[u]])\n",
    "    \n",
    "    # anti-test set - (test subject, item that is not already rated by test subject, global mean)\n",
    "    for i in train_set.all_items():\n",
    "        if i not in user_items:\n",
    "            anti_test_set.append((train_set.to_raw_uid(u),train_set.to_raw_iid(i),avg_rating))\n",
    "            \n",
    "    return anti_test_set"
   ]
  },
  {
   "cell_type": "markdown",
   "metadata": {},
   "source": [
    "<div class=\"alert alert-block alert-warning\">  \n",
    "    <li> We create 2 dictionaries to access the name and status of the project in Constant time\n",
    "</div>"
   ]
  },
  {
   "cell_type": "code",
   "execution_count": 7,
   "metadata": {},
   "outputs": [],
   "source": [
    "def get_project_id_name():\n",
    "    return projects_DF.set_index('Project ID').to_dict('dict')['Project Title']"
   ]
  },
  {
   "cell_type": "code",
   "execution_count": 8,
   "metadata": {},
   "outputs": [],
   "source": [
    "def get_project_id_status():\n",
    "    return projects_DF.set_index('Project ID').to_dict('dict')['Project Current Status']"
   ]
  },
  {
   "cell_type": "code",
   "execution_count": 9,
   "metadata": {},
   "outputs": [],
   "source": [
    "cat_max_id = 0\n",
    "project_cat = defaultdict(list)\n",
    "cat_id_dict = defaultdict(int)\n",
    "\n",
    "def extract_categories(cols):\n",
    "    global cat_max_id\n",
    "    cat_list = []\n",
    "    categories = cols[1].split(',')\n",
    "    for cat in categories:\n",
    "        cat = cat.strip()\n",
    "        if cat not in cat_id_dict:\n",
    "            cat_id_dict[cat] = cat_max_id\n",
    "            cat_max_id+=1\n",
    "        cat_list.append(cat_id_dict[cat])\n",
    "    project_cat[cols[0]] = cat_list "
   ]
  },
  {
   "cell_type": "code",
   "execution_count": 10,
   "metadata": {},
   "outputs": [],
   "source": [
    "def get_categories():\n",
    "    projects_DF[['Project ID','Project Subject Category Tree']].apply(extract_categories, axis = 1)\n",
    "    \n",
    "    # Convert integer-encoded genre lists to bitfields that we can treat as vectors\n",
    "    cat_no = len(cat_id_dict)\n",
    "    for (project_id, cat_id_list) in project_cat.items():\n",
    "        bitfield = [0] * cat_max_id\n",
    "        for cat_id in cat_id_list:\n",
    "            bitfield[cat_id] = 1\n",
    "        project_cat[project_id] = bitfield \n",
    "    return project_cat\n",
    "\n",
    "    \n",
    "#get_categories()"
   ]
  },
  {
   "cell_type": "code",
   "execution_count": 11,
   "metadata": {},
   "outputs": [],
   "source": [
    "sub_cat_max_id = 0\n",
    "project_sub_cat = defaultdict(list)\n",
    "sub_cat_id_dict = defaultdict(int)\n",
    "\n",
    "def extract_sub_categories(cols):\n",
    "    global sub_cat_max_id\n",
    "    sub_cat_list = []\n",
    "    sub_categories = cols[1].split(',')\n",
    "    for sub_cat in sub_categories:\n",
    "        sub_cat = sub_cat.strip()\n",
    "        if sub_cat not in sub_cat_id_dict:\n",
    "            sub_cat_id_dict[sub_cat] = sub_cat_max_id\n",
    "            sub_cat_max_id+=1\n",
    "        sub_cat_list.append(sub_cat_id_dict[sub_cat])\n",
    "    project_sub_cat[cols[0]] = sub_cat_list "
   ]
  },
  {
   "cell_type": "code",
   "execution_count": 12,
   "metadata": {},
   "outputs": [],
   "source": [
    "def get_sub_categories():\n",
    "    projects_DF[['Project ID','Project Subject Subcategory Tree']].apply(extract_sub_categories, axis = 1)\n",
    "    \n",
    "    # Convert integer-encoded genre lists to bitfields that we can treat as vectors\n",
    "    sub_cat_no = len(sub_cat_id_dict)\n",
    "    for (project_id, sub_cat_id_list) in project_sub_cat.items():\n",
    "        bitfield = [0] * sub_cat_max_id\n",
    "        for sub_cat_id in sub_cat_id_list:\n",
    "            bitfield[sub_cat_id] = 1\n",
    "        project_sub_cat[project_id] = bitfield \n",
    "    return project_sub_cat\n",
    "    \n",
    "#get_sub_categories()"
   ]
  },
  {
   "cell_type": "markdown",
   "metadata": {},
   "source": [
    "<div class=\"alert alert-block alert-warning\">  \n",
    "    <li> This is the heart of the algorithm\n",
    "    <li> The fit function can be used to perform operations on the entire train set\n",
    "    <li> The estimate function is used to calculate the prediction for a given user and item\n",
    "</div>"
   ]
  },
  {
   "cell_type": "code",
   "execution_count": 13,
   "metadata": {},
   "outputs": [],
   "source": [
    "class Content_Based_KNN(AlgoBase):\n",
    "\n",
    "    def __init__(self, k = 40, sim_options = {}):\n",
    "        # Always call base method before doing anything.\n",
    "        AlgoBase.__init__(self)\n",
    "        self.k = k\n",
    "        \n",
    "    # Write logic that can be calculated independent of the user or item in questions\n",
    "    def fit(self, trainset):\n",
    "        # Here again: call base method before doing anything.\n",
    "        AlgoBase.fit(self, trainset)\n",
    "        categories = get_categories()\n",
    "        sub_categories = get_sub_categories()\n",
    "        \n",
    "        print(\"Computing content-based similarity matrix...\")\n",
    "        \n",
    "        # compute similarity matrix 2x2 | item x item\n",
    "        self.similarities = np.zeros((self.trainset.n_items, self.trainset.n_items))\n",
    "        \n",
    "        # calculate pairwise similarity for all existing movies\n",
    "        for project_a in tqdm(range(self.trainset.n_items)):\n",
    "        #for project_a in tqdm(range(100)):\n",
    "           # if (movie_a% 100 == 0):\n",
    "                # print(movie_a, \" of \", self.trainset.n_items)\n",
    "            for project_b in range(project_a+1,self.trainset.n_items):\n",
    "                project_a_id = self.trainset.to_raw_iid(project_a)\n",
    "                project_b_id = self.trainset.to_raw_iid(project_b)\n",
    "                category_similarity = self.compute_category_similarity(project_a_id, project_b_id, categories)\n",
    "                sub_category_similarity = self.compute_category_similarity(project_a_id, project_b_id, sub_categories)\n",
    "                self.similarities[project_a, project_b] =  category_similarity * sub_category_similarity\n",
    "                self.similarities[project_b, project_a] = self.similarities[project_a, project_b]\n",
    "                \n",
    "        print(\"...done.\")\n",
    "        return self\n",
    "    \n",
    "    def compute_category_similarity(self, project1, project2, categories):\n",
    "        # Cosine Similarity\n",
    "        categories1 = categories[project1]\n",
    "        categories2 = categories[project2]\n",
    "        sumxx, sumxy, sumyy = 0, 0, 0\n",
    "        for i in range(len(categories1)):\n",
    "            x = categories1[i]\n",
    "            y = categories2[i]\n",
    "            sumxx += x * x\n",
    "            sumyy += y * y\n",
    "            sumxy += x * y\n",
    "        return sumxy/math.sqrt(sumxx*sumyy)\n",
    "        \n",
    "    def estimate(self, u, i):\n",
    "        if not (self.trainset.knows_user(u) and self.trainset.knows_item(i)):\n",
    "            raise PredictionImpossible('Donor and/or project is unkown.')\n",
    "        # a.\n",
    "        # Get all projects the donor has donated to\n",
    "        neighbors = []\n",
    "        for rating in self.trainset.ur[u]:\n",
    "            # Fetch similarity between predictant project and projects user donated to\n",
    "            project_similarity = self.similarities[i,rating[0]]\n",
    "            # Append similarity score and rating\n",
    "            neighbors.append((project_similarity, rating[1]))\n",
    "        \n",
    "        # b.\n",
    "        # Extract the top-K most-similar ratings\n",
    "        k_neighbors = heapq.nlargest(self.k, neighbors, key=lambda t: t[0])\n",
    "\n",
    "        \n",
    "        # c.\n",
    "        # Compute average sim score of K neighbors weighted by user ratings\n",
    "        sim_total = weighted_sum = 0\n",
    "        for (sim_score, rating) in k_neighbors:\n",
    "            if (sim_score > 0):\n",
    "                sim_total += sim_score\n",
    "                weighted_sum += sim_score * rating\n",
    "            \n",
    "        if (sim_total == 0):\n",
    "            raise PredictionImpossible('No neighbors')\n",
    "\n",
    "        predicted_rating = weighted_sum / sim_total\n",
    "\n",
    "        return predicted_rating"
   ]
  },
  {
   "cell_type": "code",
   "execution_count": 14,
   "metadata": {},
   "outputs": [
    {
     "name": "stdout",
     "output_type": "stream",
     "text": [
      "Loading Oaklander donations dataset...\n",
      "Done...\n"
     ]
    }
   ],
   "source": [
    "print(\"Loading Oaklander donations dataset...\")\n",
    "data = load_dataset() \n",
    "project_id_name_dict = get_project_id_name()\n",
    "project_id_status_dict = get_project_id_status()\n",
    "print(\"Done...\")"
   ]
  },
  {
   "cell_type": "code",
   "execution_count": 15,
   "metadata": {},
   "outputs": [
    {
     "name": "stdout",
     "output_type": "stream",
     "text": [
      "Donor 748989120f97e99c442d59d876584424 has previously donated to..... \n",
      " \n",
      "\n",
      "Spectacular Series for My Library! Chevron Fuel Your School - 2\n",
      "Feeding on my Reading - 2\n",
      "Let Me Take A Look, At This Book 2 - 2\n",
      "A Listening Center For Little Readers - 1\n",
      "Buff Up My Literature Circles with Contemporary Books - 1\n",
      "\"The Road\" Takes Us To Places We Don't Expect - 1\n",
      "Computer Literacy 3 - 1\n",
      "Archimedes Needs a Lever Up! - 1\n",
      "Help Make Our Students Bookworms and Authors! - 1\n",
      "Fantastic Furniture Woodworking Supplies - 1\n",
      "Samurai and Superheroes: Graphic Novels to Motivate Readers - 1\n",
      "I Love To Read Non-Fiction Books! - 1\n",
      "Book Club For Advanced Readers - 1\n",
      "Eliminate Noise Pollution During Learning!  - 1\n",
      "Writing to Discover: Exploring Science Through Journaling - 1\n",
      "Holidays=Dias Festivos - 1\n",
      "Discovering Shapes 4 - 1\n",
      "Desks and Chairs Needed for Our Classroom - 1\n",
      "Non-Fiction Books for Common Core Ready Students - 1\n",
      "The Need to Read - 1\n",
      "Algebra, Yes We Can - 1\n",
      "SAT  and ACT practice books - 1\n",
      "Engaging Science Centers - 1\n",
      "Solar Powered STEM Learning - 1\n",
      "Award Winning Books to Encourage New Readers - 1\n",
      "Student Books for Independent Reading - 1\n",
      "Spring 2017 Literature Circles - 1\n",
      "Art For Autism - 1\n",
      "Complete a Puzzle - 1\n",
      "A New Classroom Computer for Budding Scientists and Techies! - 1\n",
      "Portable AC for Focused Learning - 1\n",
      "Let Me Take A Look, At This Book - 1\n",
      "A Place for Everyone (and Everything!) - 1\n",
      "Tons of New Titles for our 1st Grade Library! - 1\n",
      "Moby Math for Entire School - 1\n",
      "I Love to Read on the ..... - 1\n",
      "Teaching Strength and Survival Through Literature - 1\n",
      "Reading Students = Happy English Teacher - 1\n",
      "Sensory Room for Sensitive Minds - 1\n",
      "Bring the Joy of Reading to Oakland First Graders! - 1\n",
      "Cheetah Sanctuary: Hungry Minds - 1\n",
      "No More Flu Seasons In Our Class! - 1\n",
      "Science Readers and Hands-on Sensory Learning Tools - 1\n",
      "A Space For Me  - 1\n",
      "Oh the Places They Will Go! - 1\n",
      "Active Kindergarteners are Happy Kindergarteners - 1\n",
      "Bilingual Library for Bilingual Superstars! - 1\n"
     ]
    }
   ],
   "source": [
    "test_subject = '748989120f97e99c442d59d876584424'\n",
    "donations_of_user = pd.DataFrame(donations_DF[donations_DF['Donor ID'] == test_subject]['Project ID'].value_counts())\n",
    "donations_of_user.reset_index(inplace = True)\n",
    "donations_of_user.columns = [['Project ID','Count']]\n",
    "print('Donor',test_subject, 'has previously donated to..... \\n \\n')\n",
    "for i in range(len(donations_of_user)):\n",
    "    print(project_id_name_dict[donations_of_user.loc[i][0]],'-',donations_of_user.loc[i][1])"
   ]
  },
  {
   "cell_type": "markdown",
   "metadata": {},
   "source": [
    "<div class=\"alert alert-block alert-warning\">  \n",
    "    <li>We are all set! Let's try running our content based recommender system!\n",
    "</div>"
   ]
  },
  {
   "cell_type": "code",
   "execution_count": 17,
   "metadata": {},
   "outputs": [
    {
     "name": "stderr",
     "output_type": "stream",
     "text": [
      "  0%|          | 1/9576 [00:00<27:20,  5.84it/s]"
     ]
    },
    {
     "name": "stdout",
     "output_type": "stream",
     "text": [
      "Computing content-based similarity matrix...\n"
     ]
    },
    {
     "name": "stderr",
     "output_type": "stream",
     "text": [
      "100%|██████████| 9576/9576 [06:58<00:00, 22.86it/s] \n"
     ]
    },
    {
     "name": "stdout",
     "output_type": "stream",
     "text": [
      "...done.\n"
     ]
    }
   ],
   "source": [
    "algo = Content_Based_KNN()\n",
    "full_train_set = data.build_full_trainset()\n",
    "anti_test_set_for_user  = anti_test_set(test_subject, full_train_set)\n",
    "\n",
    "algo.fit(full_train_set)\n",
    "predictions = algo.test(anti_test_set_for_user)"
   ]
  },
  {
   "cell_type": "code",
   "execution_count": 18,
   "metadata": {},
   "outputs": [
    {
     "name": "stdout",
     "output_type": "stream",
     "text": [
      "\n",
      "We recommend:\n",
      "\n",
      "We Need A Few More Computers...\n",
      "Learning Can Be Easy and  Fun\n",
      " Makerspace! Preschoolers as Designers, Scientists, Architects and Engineers\n",
      "We Need Chairs!!!\n",
      "Microphones for Motivated Musicians\n",
      "Building Engineers\n",
      "iPad for Testing Prep\n",
      "Footloose and Fancy-Free Fifth Graders Looking For Fidget-Freeing Seating\n",
      "Tech Takeover\n",
      "The Furniture Makes the Classroom\n"
     ]
    }
   ],
   "source": [
    "recommendations = []\n",
    "print (\"\\nWe recommend:\\n\")\n",
    "for donor_id, project_id, avg_rating, estimated_rating, _ in predictions:\n",
    "    if project_id_status_dict[project_id] == 'Live':\n",
    "        recommendations.append((project_id, estimated_rating))\n",
    "\n",
    "recommendations.sort(key=lambda x: x[1], reverse=True)\n",
    "\n",
    "for ratings in recommendations[:10]:\n",
    "    #print(ratings[0])\n",
    "    print(project_id_name_dict[ratings[0]])"
   ]
  }
 ],
 "metadata": {
  "kernelspec": {
   "display_name": "Python 3",
   "language": "python",
   "name": "python3"
  },
  "language_info": {
   "codemirror_mode": {
    "name": "ipython",
    "version": 3
   },
   "file_extension": ".py",
   "mimetype": "text/x-python",
   "name": "python",
   "nbconvert_exporter": "python",
   "pygments_lexer": "ipython3",
   "version": "3.6.10"
  }
 },
 "nbformat": 4,
 "nbformat_minor": 4
}
