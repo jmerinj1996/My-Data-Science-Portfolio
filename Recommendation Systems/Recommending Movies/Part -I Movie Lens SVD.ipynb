{
 "cells": [
  {
   "attachments": {},
   "cell_type": "markdown",
   "metadata": {},
   "source": [
    "# Supriselib and SVD on Movie Lens Dataset\n",
    "![justin-lim-tloFnD-7EpI-unsplash](https://user-images.githubusercontent.com/40051540/89826144-61d26600-db1b-11ea-94f1-164fb24a5945.jpg)\n"
   ]
  },
  {
   "cell_type": "code",
   "execution_count": 1,
   "metadata": {},
   "outputs": [],
   "source": [
    "import pandas as pd\n",
    "import numpy as np\n",
    "from collections import defaultdict\n",
    "import re\n",
    "import math\n",
    "import heapq\n",
    "from tqdm import tqdm\n",
    "\n",
    "from surprise import Dataset\n",
    "from surprise import Reader\n",
    "from surprise import SVD\n",
    "from surprise.model_selection import LeaveOneOut\n",
    "from surprise.model_selection import train_test_split\n",
    "from surprise import KNNBaseline\n",
    "from RecommenderMetrics import RecommenderMetrics\n"
   ]
  },
  {
   "cell_type": "code",
   "execution_count": 3,
   "metadata": {},
   "outputs": [
    {
     "data": {
      "text/html": [
       "<div>\n",
       "<style scoped>\n",
       "    .dataframe tbody tr th:only-of-type {\n",
       "        vertical-align: middle;\n",
       "    }\n",
       "\n",
       "    .dataframe tbody tr th {\n",
       "        vertical-align: top;\n",
       "    }\n",
       "\n",
       "    .dataframe thead th {\n",
       "        text-align: right;\n",
       "    }\n",
       "</style>\n",
       "<table border=\"1\" class=\"dataframe\">\n",
       "  <thead>\n",
       "    <tr style=\"text-align: right;\">\n",
       "      <th></th>\n",
       "      <th>movieId</th>\n",
       "      <th>title</th>\n",
       "      <th>genres</th>\n",
       "    </tr>\n",
       "  </thead>\n",
       "  <tbody>\n",
       "    <tr>\n",
       "      <th>0</th>\n",
       "      <td>1</td>\n",
       "      <td>Toy Story (1995)</td>\n",
       "      <td>Adventure|Animation|Children|Comedy|Fantasy</td>\n",
       "    </tr>\n",
       "    <tr>\n",
       "      <th>1</th>\n",
       "      <td>2</td>\n",
       "      <td>Jumanji (1995)</td>\n",
       "      <td>Adventure|Children|Fantasy</td>\n",
       "    </tr>\n",
       "    <tr>\n",
       "      <th>2</th>\n",
       "      <td>3</td>\n",
       "      <td>Grumpier Old Men (1995)</td>\n",
       "      <td>Comedy|Romance</td>\n",
       "    </tr>\n",
       "    <tr>\n",
       "      <th>3</th>\n",
       "      <td>4</td>\n",
       "      <td>Waiting to Exhale (1995)</td>\n",
       "      <td>Comedy|Drama|Romance</td>\n",
       "    </tr>\n",
       "    <tr>\n",
       "      <th>4</th>\n",
       "      <td>5</td>\n",
       "      <td>Father of the Bride Part II (1995)</td>\n",
       "      <td>Comedy</td>\n",
       "    </tr>\n",
       "  </tbody>\n",
       "</table>\n",
       "</div>"
      ],
      "text/plain": [
       "   movieId                               title  \\\n",
       "0        1                    Toy Story (1995)   \n",
       "1        2                      Jumanji (1995)   \n",
       "2        3             Grumpier Old Men (1995)   \n",
       "3        4            Waiting to Exhale (1995)   \n",
       "4        5  Father of the Bride Part II (1995)   \n",
       "\n",
       "                                        genres  \n",
       "0  Adventure|Animation|Children|Comedy|Fantasy  \n",
       "1                   Adventure|Children|Fantasy  \n",
       "2                               Comedy|Romance  \n",
       "3                         Comedy|Drama|Romance  \n",
       "4                                       Comedy  "
      ]
     },
     "execution_count": 3,
     "metadata": {},
     "output_type": "execute_result"
    }
   ],
   "source": [
    "movies_path = 'ml-latest-small/movies.csv'\n",
    "movies_DF = pd.read_csv(movies_path) \n",
    "movies_DF.head()"
   ]
  },
  {
   "cell_type": "code",
   "execution_count": 4,
   "metadata": {},
   "outputs": [
    {
     "data": {
      "text/html": [
       "<div>\n",
       "<style scoped>\n",
       "    .dataframe tbody tr th:only-of-type {\n",
       "        vertical-align: middle;\n",
       "    }\n",
       "\n",
       "    .dataframe tbody tr th {\n",
       "        vertical-align: top;\n",
       "    }\n",
       "\n",
       "    .dataframe thead th {\n",
       "        text-align: right;\n",
       "    }\n",
       "</style>\n",
       "<table border=\"1\" class=\"dataframe\">\n",
       "  <thead>\n",
       "    <tr style=\"text-align: right;\">\n",
       "      <th></th>\n",
       "      <th>userId</th>\n",
       "      <th>movieId</th>\n",
       "      <th>rating</th>\n",
       "      <th>timestamp</th>\n",
       "    </tr>\n",
       "  </thead>\n",
       "  <tbody>\n",
       "    <tr>\n",
       "      <th>0</th>\n",
       "      <td>1</td>\n",
       "      <td>31</td>\n",
       "      <td>2.5</td>\n",
       "      <td>1260759144</td>\n",
       "    </tr>\n",
       "    <tr>\n",
       "      <th>1</th>\n",
       "      <td>1</td>\n",
       "      <td>1029</td>\n",
       "      <td>3.0</td>\n",
       "      <td>1260759179</td>\n",
       "    </tr>\n",
       "    <tr>\n",
       "      <th>2</th>\n",
       "      <td>1</td>\n",
       "      <td>1061</td>\n",
       "      <td>3.0</td>\n",
       "      <td>1260759182</td>\n",
       "    </tr>\n",
       "    <tr>\n",
       "      <th>3</th>\n",
       "      <td>1</td>\n",
       "      <td>1129</td>\n",
       "      <td>2.0</td>\n",
       "      <td>1260759185</td>\n",
       "    </tr>\n",
       "    <tr>\n",
       "      <th>4</th>\n",
       "      <td>1</td>\n",
       "      <td>1172</td>\n",
       "      <td>4.0</td>\n",
       "      <td>1260759205</td>\n",
       "    </tr>\n",
       "  </tbody>\n",
       "</table>\n",
       "</div>"
      ],
      "text/plain": [
       "   userId  movieId  rating   timestamp\n",
       "0       1       31     2.5  1260759144\n",
       "1       1     1029     3.0  1260759179\n",
       "2       1     1061     3.0  1260759182\n",
       "3       1     1129     2.0  1260759185\n",
       "4       1     1172     4.0  1260759205"
      ]
     },
     "execution_count": 4,
     "metadata": {},
     "output_type": "execute_result"
    }
   ],
   "source": [
    "ratings_path = 'ml-latest-small/ratings.csv'\n",
    "ratings_DF = pd.read_csv(ratings_path)\n",
    "ratings_DF.head()"
   ]
  },
  {
   "cell_type": "code",
   "execution_count": 6,
   "metadata": {},
   "outputs": [],
   "source": [
    "def load_dataset():\n",
    "    # Define file path\n",
    "    movies_path = 'ml-latest-small/movies.csv'\n",
    "    links_path = 'ml-latest-small/links.csv'\n",
    "    ratings_path = 'ml-latest-small/ratings.csv'\n",
    "    \n",
    "    # Read file into Dataframe\n",
    "    movies_DF = pd.read_csv(movies_path)    \n",
    "    links_DF = pd.read_csv(links_path)     \n",
    "    ratings_DF = pd.read_csv(ratings_path)\n",
    "    \n",
    "    ratings_DF['movieId'] = ratings_DF['movieId'].astype(str)\n",
    "    ratings_DF['userId'] = ratings_DF['userId'].astype(str)\n",
    "    # Reader class is used to parse a file containing ratings\n",
    "    # The structure is as follows\n",
    "    # user ; item ; rating ; [timestamp]\n",
    "    # Dataset.load_from_file - loads a custom file\n",
    "    reader = Reader(rating_scale=(1, 5))\n",
    "    rating_dataset = Dataset.load_from_df(ratings_DF[['userId','movieId','rating']], reader=reader)\n",
    "    \n",
    "    return rating_dataset"
   ]
  },
  {
   "cell_type": "code",
   "execution_count": 7,
   "metadata": {},
   "outputs": [],
   "source": [
    "def get_user_ratings(user):\n",
    "    user_rating_DF = ratings_DF[ratings_DF['userId']==user][['movieId','rating']]\n",
    "    user_rating_tuples = [tuple(x) for x in user_rating_DF.to_numpy()]\n",
    "    return user_rating_tuples"
   ]
  },
  {
   "cell_type": "code",
   "execution_count": 11,
   "metadata": {},
   "outputs": [],
   "source": [
    "def anti_test_set(test_subject,train_set):\n",
    "    anti_test_set = []\n",
    "    avg_rating = train_set.global_mean\n",
    "    u = train_set.to_inner_uid(str(test_subject))\n",
    "    \n",
    "    # j is item inner id\n",
    "    # user_items is a list of inner item ids that test subject u rated\n",
    "    user_items = set([j for (j, _) in train_set.ur[u]])\n",
    "    \n",
    "    # anti-test set - (test subject, item that is not already rated by test subject, global mean)\n",
    "    for i in train_set.all_items():\n",
    "        if i not in user_items:\n",
    "            anti_test_set.append((train_set.to_raw_uid(u),train_set.to_raw_iid(i),avg_rating))\n",
    "            \n",
    "    return anti_test_set"
   ]
  },
  {
   "cell_type": "code",
   "execution_count": 12,
   "metadata": {},
   "outputs": [],
   "source": [
    "def get_movie_id_name():\n",
    "    return movies_DF.set_index('movieId').to_dict('dict')['title']"
   ]
  },
  {
   "cell_type": "code",
   "execution_count": 28,
   "metadata": {},
   "outputs": [],
   "source": [
    "def get_popularity_rank():\n",
    "    popular_DF = pd.DataFrame(ratings_DF['movieId'].value_counts())\n",
    "    popular_DF.columns = ['count']\n",
    "    popular_DF.sort_values('count',ascending = False)\n",
    "    rank = [x for x in range(len(popular_DF))]\n",
    "    popular_DF['rank'] = rank\n",
    "    popular_DF.drop('count',axis = 1,inplace = True)\n",
    "    return popular_DF.to_dict('dict')['rank']"
   ]
  },
  {
   "cell_type": "code",
   "execution_count": 17,
   "metadata": {},
   "outputs": [
    {
     "name": "stdout",
     "output_type": "stream",
     "text": [
      "Done...\n"
     ]
    }
   ],
   "source": [
    "# Pick an arbitrary test subject\n",
    "test_subject = 85\n",
    "data = load_dataset()\n",
    "movie_id_name_dict = get_movie_id_name()\n",
    "algo = SVD()\n",
    "print(\"Done...\")"
   ]
  },
  {
   "cell_type": "code",
   "execution_count": 15,
   "metadata": {},
   "outputs": [
    {
     "name": "stdout",
     "output_type": "stream",
     "text": [
      "Movies user likes.....\n",
      "\n",
      "Jumanji (1995)\n",
      "Clear and Present Danger (1994)\n",
      "Mission: Impossible (1996)\n",
      "Terminator 2: Judgment Day (1991)\n",
      "Jurassic Park (1993)\n",
      "Fugitive, The (1993)\n",
      "True Lies (1994)\n",
      "Speed (1994)\n",
      "Star Trek: Generations (1994)\n",
      "GoldenEye (1995)\n",
      "Shawshank Redemption, The (1994)\n",
      "Stargate (1994)\n",
      "Pulp Fiction (1994)\n",
      "Léon: The Professional (a.k.a. The Professional) (Léon) (1994)\n",
      "Jerky Boys, The (1995)\n",
      "Braveheart (1995)\n",
      "Rock, The (1996)\n"
     ]
    }
   ],
   "source": [
    "movies_of_user_loves = ratings_DF[(ratings_DF['userId'] == test_subject) & (ratings_DF['rating'] > 4.0)][['movieId','rating']]\n",
    "movies_of_user_loves.sort_values(by = ['rating'],ascending = False,inplace = True)\n",
    "movies_of_user_loves  = movies_of_user_loves['movieId'].tolist()\n",
    "\n",
    "print('Movies user likes.....\\n')\n",
    "for movie in movies_of_user_loves:\n",
    "    print(movie_id_name_dict[movie])"
   ]
  },
  {
   "cell_type": "code",
   "execution_count": 16,
   "metadata": {},
   "outputs": [
    {
     "name": "stdout",
     "output_type": "stream",
     "text": [
      "Movies user hates.....\n",
      "\n",
      "Grumpier Old Men (1995)\n",
      "Snow White and the Seven Dwarfs (1937)\n",
      "Lord of Illusions (1995)\n",
      "Dolores Claiborne (1995)\n",
      "Schindler's List (1993)\n",
      "Philadelphia (1993)\n",
      "Miracle on 34th Street (1994)\n",
      "Mortal Kombat (1995)\n",
      "Naked Gun 33 1/3: The Final Insult (1994)\n",
      "Wes Craven's New Nightmare (Nightmare on Elm Street Part 7: Freddy's Finale, A) (1994)\n",
      "Operation Dumbo Drop (1995)\n",
      "Nightmare Before Christmas, The (1993)\n",
      "Super Mario Bros. (1993)\n",
      "Beverly Hills Cop III (1994)\n",
      "Richie Rich (1994)\n",
      "Tank Girl (1995)\n",
      "While You Were Sleeping (1995)\n",
      "Poison Ivy II (1996)\n",
      "Nell (1994)\n",
      "Little Women (1994)\n",
      "Heavenly Creatures (1994)\n",
      "Prophecy, The (1995)\n",
      "Mighty Morphin Power Rangers: The Movie (1995)\n",
      "Casper (1995)\n",
      "Postman, The (Postino, Il) (1994)\n",
      "Oliver & Company (1988)\n"
     ]
    }
   ],
   "source": [
    "movies_of_user_hates = ratings_DF[(ratings_DF['userId'] == test_subject) & (ratings_DF['rating'] < 3.0)][['movieId','rating']]\n",
    "movies_of_user_hates.sort_values(by = ['rating'],ascending = False,inplace = True)\n",
    "movies_of_user_hates  = movies_of_user_hates['movieId'].tolist()\n",
    "\n",
    "print('Movies user hates.....\\n')\n",
    "for movie in movies_of_user_hates:\n",
    "    print(movie_id_name_dict[movie])"
   ]
  },
  {
   "cell_type": "code",
   "execution_count": 21,
   "metadata": {},
   "outputs": [
    {
     "name": "stdout",
     "output_type": "stream",
     "text": [
      "\n",
      "We recommend:\n",
      "\n",
      "Fight Club (1999)\n",
      "Dark Knight, The (2008)\n",
      "American Beauty (1999)\n",
      "Matrix, The (1999)\n",
      "Star Wars: Episode VI - Return of the Jedi (1983)\n",
      "Sin City (2005)\n",
      "Treasure of the Sierra Madre, The (1948)\n",
      "Donnie Darko (2001)\n",
      "Shrek (2001)\n",
      "Third Man, The (1949)\n"
     ]
    }
   ],
   "source": [
    "# For making Top N Recommendations\n",
    "# --------------------------------\n",
    "full_train_set = data.build_full_trainset()\n",
    "anti_test_set_for_user  = anti_test_set(test_subject, full_train_set)\n",
    "\n",
    "algo.fit(full_train_set)\n",
    "predictions = algo.test(anti_test_set_for_user)\n",
    "\n",
    "recommendations = []\n",
    "print (\"\\nWe recommend:\\n\")\n",
    "for user_id, movie_id, avg_rating, estimated_rating, _ in predictions:\n",
    "    recommendations.append((int(movie_id), estimated_rating))\n",
    "\n",
    "recommendations.sort(key=lambda x: x[1], reverse=True)\n",
    "\n",
    "for ratings in recommendations[:10]:\n",
    "    print(movies_DF[movies_DF['movieId']==ratings[0]]['title'].values[0])"
   ]
  },
  {
   "cell_type": "code",
   "execution_count": 25,
   "metadata": {},
   "outputs": [
    {
     "name": "stdout",
     "output_type": "stream",
     "text": [
      "RMSE:  0.9023674654734177\n",
      "MAE:  0.6977606245605574\n"
     ]
    }
   ],
   "source": [
    "# For measuring accuracy\n",
    "# -----------------------\n",
    "train_set, test_set = train_test_split(data, test_size=.25, random_state=1)\n",
    "algo.fit(train_set)\n",
    "accuracy_predictions = algo.test(test_set)\n",
    "print('RMSE: ',RecommenderMetrics.RMSE(accuracy_predictions))\n",
    "print('MAE: ',RecommenderMetrics.MAE(accuracy_predictions))"
   ]
  },
  {
   "cell_type": "code",
   "execution_count": 26,
   "metadata": {},
   "outputs": [
    {
     "name": "stdout",
     "output_type": "stream",
     "text": [
      "0.028315946348733235\n",
      "0.028315946348733235\n",
      "0.013000023655761361\n"
     ]
    }
   ],
   "source": [
    "# For measuring Hit Rate, Cumulative Hit Rate, Rating Hit Rate, Average Reciprocal Hit Rate\n",
    "# ------------------------------------------------------------------------------------------\n",
    "LOOCV = LeaveOneOut(n_splits=1, random_state=1)\n",
    "for train, test in LOOCV.split(data):\n",
    "    LOOCV_train = train\n",
    "    LOOCV_test = test\n",
    "    #print(\"TRAIN:\", train, \"TEST:\", test)\n",
    "algo.fit(LOOCV_train)\n",
    "leave_one_out_predictions = algo.test(LOOCV_test)\n",
    "\n",
    "# Anti-test set: The ratings are all the ratings that are not in the trainset, \n",
    "#i.e. all the ratings rui where the user u is known, \n",
    "#the item i is known, but the rating rui is not in the trainset.\n",
    "LOOCV_anti_test_set = LOOCV_train.build_anti_testset()\n",
    "\n",
    "# Build predictions for all ratings not in the training set\n",
    "all_predictions_loocv = algo.test(LOOCV_anti_test_set)\n",
    "\n",
    "n = 10\n",
    "\n",
    "# Get top N Recommendations for each user to calculate HR, RHR,ARHR\n",
    "top_n_predicted = RecommenderMetrics.GetTopN(all_predictions_loocv, n)\n",
    "print(RecommenderMetrics.HitRate(top_n_predicted, leave_one_out_predictions))\n",
    "print(RecommenderMetrics.CumulativeHitRate(top_n_predicted, leave_one_out_predictions))\n",
    "print(RecommenderMetrics.AverageReciprocalHitRank(top_n_predicted, leave_one_out_predictions))"
   ]
  },
  {
   "cell_type": "code",
   "execution_count": 29,
   "metadata": {},
   "outputs": [
    {
     "name": "stdout",
     "output_type": "stream",
     "text": [
      "Computing Coverage\n",
      "Coverage:  0.9463487332339792\n",
      "Estimating biases using als...\n",
      "Computing the cosine similarity matrix...\n",
      "Done computing similarity matrix.\n",
      "Computing Diversity\n",
      "Computing the cosine similarity matrix...\n",
      "Done computing similarity matrix.\n",
      "Diversity:  0.048406542803952735\n",
      "Novelty: 489.6081036745407\n"
     ]
    }
   ],
   "source": [
    "# For measuring Coverage, Diversity and Novelty\n",
    "# ----------------------------------------------\n",
    "\n",
    "n = 10\n",
    "full_train_set = data.build_full_trainset()\n",
    "full_anti_test_set = full_train_set.build_anti_testset()\n",
    "algo.fit(full_train_set)\n",
    "all_predictions_full = algo.test(full_anti_test_set)\n",
    "top_n_predicted = RecommenderMetrics.GetTopN(all_predictions_full, n)\n",
    "\n",
    "# Coverage\n",
    "print('Computing Coverage')\n",
    "print(\"Coverage: \", RecommenderMetrics.UserCoverage(top_n_predicted , full_train_set.n_users, ratingThreshold=4.0))\n",
    "\n",
    "# Diversity\n",
    "# Get similarities\n",
    "# Compute similarty matrix between items so we can measure diversity\n",
    "sim_options = {'name': 'cosine', 'user_based': False}\n",
    "sims_algo = KNNBaseline(sim_options=sim_options)\n",
    "sims_algo.fit(full_train_set)\n",
    "print('Computing Diversity')\n",
    "print('Diversity: ',RecommenderMetrics.Diversity(top_n_predicted, sims_algo))\n",
    "\n",
    "# Novelty\n",
    "# Get popularity ranking\n",
    "print('Novelty:',RecommenderMetrics.Novelty(top_n_predicted,get_popularity_rank()))"
   ]
  }
 ],
 "metadata": {
  "kernelspec": {
   "display_name": "Python 3",
   "language": "python",
   "name": "python3"
  },
  "language_info": {
   "codemirror_mode": {
    "name": "ipython",
    "version": 3
   },
   "file_extension": ".py",
   "mimetype": "text/x-python",
   "name": "python",
   "nbconvert_exporter": "python",
   "pygments_lexer": "ipython3",
   "version": "3.6.10"
  }
 },
 "nbformat": 4,
 "nbformat_minor": 4
}
